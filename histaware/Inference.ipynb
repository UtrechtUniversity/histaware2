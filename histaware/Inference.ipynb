{
 "cells": [
  {
   "cell_type": "code",
   "execution_count": 25,
   "id": "58808130",
   "metadata": {},
   "outputs": [],
   "source": [
    "import numpy as np\n",
    "import pandas as pd\n",
    "import torch\n",
    "import sys\n",
    "\n",
    "# from sklearn.manifold import TSNE\n",
    "# import plotly.graph_objects as go\n",
    "\n",
    "device = torch.device(\"cuda:0\" if torch.cuda.is_available() else \"cpu\")\n"
   ]
  },
  {
   "cell_type": "code",
   "execution_count": 26,
   "id": "6d66b1bb",
   "metadata": {},
   "outputs": [],
   "source": [
    "WEIGHTS_DIR =\"weights/cbow_histaware_\""
   ]
  },
  {
   "cell_type": "markdown",
   "id": "0f93a095",
   "metadata": {},
   "source": [
    "## Getting Embeddings"
   ]
  },
  {
   "cell_type": "code",
   "execution_count": 28,
   "id": "fb8fec7b",
   "metadata": {},
   "outputs": [],
   "source": [
    "def get_embedding(model):\n",
    "    # embedding from first model layer\n",
    "    embeddings = list(model.parameters())[0]\n",
    "    embeddings = embeddings.cpu().detach().numpy()\n",
    "\n",
    "    # normalization\n",
    "    norms = (embeddings ** 2).sum(axis=1) ** (1 / 2)\n",
    "    norms = np.reshape(norms, (len(norms), 1))\n",
    "    embeddings_norm = embeddings / norms\n",
    "    print(embeddings_norm.shape)\n",
    "    return embeddings_norm"
   ]
  },
  {
   "cell_type": "markdown",
   "id": "4c1790ce",
   "metadata": {},
   "source": [
    "# Find Similar Words"
   ]
  },
  {
   "cell_type": "code",
   "execution_count": 29,
   "id": "aa629850",
   "metadata": {},
   "outputs": [],
   "source": [
    "def get_top_similar(word: str, embeddings_norm, vocab, topN: int = 10):\n",
    "    word_id = vocab[word]\n",
    "    if word_id == 0:\n",
    "        print(\"Out of vocabulary word\")\n",
    "        return\n",
    "\n",
    "    word_vec = embeddings_norm[word_id]\n",
    "    word_vec = np.reshape(word_vec, (len(word_vec), 1))\n",
    "    dists = np.matmul(embeddings_norm, word_vec).flatten()\n",
    "    topN_ids = np.argsort(-dists)[1 : topN + 1]\n",
    "\n",
    "    topN_dict = {}\n",
    "    for sim_word_id in topN_ids:\n",
    "        sim_word = vocab.lookup_token(sim_word_id)\n",
    "        topN_dict[sim_word] = dists[sim_word_id]\n",
    "    return topN_dict"
   ]
  },
  {
   "cell_type": "code",
   "execution_count": 30,
   "id": "e409d821",
   "metadata": {},
   "outputs": [],
   "source": [
    "def find_similar(word, year_folder,topN=10):\n",
    "    model = torch.load(f\"../{year_folder}/model.pt\", map_location=device)\n",
    "    vocab = torch.load(f\"../{year_folder}/vocab.pt\")\n",
    "    embeddings_norm = get_embedding(model)\n",
    "    topnwords = [word for word, sim in get_top_similar(word,embeddings_norm, vocab, topN).items()]\n",
    "    print(topnwords)\n",
    "    return topnwords\n",
    "   "
   ]
  },
  {
   "cell_type": "markdown",
   "id": "0f347c31",
   "metadata": {},
   "source": [
    "## Similar words - gas"
   ]
  },
  {
   "cell_type": "markdown",
   "id": "0fa4aae5",
   "metadata": {},
   "source": [
    "### Similar words - gas 1963"
   ]
  },
  {
   "cell_type": "code",
   "execution_count": 54,
   "id": "a4990dc1",
   "metadata": {},
   "outputs": [
    {
     "name": "stdout",
     "output_type": "stream",
     "text": [
      "(28826, 300)\n",
      "['aardgas', 'propaangas', 'opwekken', 'gasfornuis', 'gaa', 'gas-', 'zeewater', 'gassen', 'water', 'beton']\n"
     ]
    }
   ],
   "source": [
    "year_folder = WEIGHTS_DIR+\"63\"\n",
    "sim_word_gas_63 = find_similar('gas', year_folder)"
   ]
  },
  {
   "cell_type": "markdown",
   "id": "b02606ae",
   "metadata": {},
   "source": [
    "### Similar words - gas 1967"
   ]
  },
  {
   "cell_type": "code",
   "execution_count": 55,
   "id": "bb8edeec",
   "metadata": {},
   "outputs": [
    {
     "name": "stdout",
     "output_type": "stream",
     "text": [
      "(28586, 300)\n",
      "['aardgas', 'koolzuur', 'water', 'petroleum', 'gasveld', 'veld', 'gaa', 'methaan', 'vuur', 'gassen']\n"
     ]
    }
   ],
   "source": [
    "year_folder = WEIGHTS_DIR+\"67\"\n",
    "sim_word_gas_67 = find_similar('gas', year_folder)"
   ]
  },
  {
   "cell_type": "markdown",
   "id": "4eafb76d",
   "metadata": {},
   "source": [
    "### Similar words - gas 1971"
   ]
  },
  {
   "cell_type": "code",
   "execution_count": 56,
   "id": "a9beb5ef",
   "metadata": {},
   "outputs": [
    {
     "name": "stdout",
     "output_type": "stream",
     "text": [
      "(28473, 300)\n",
      "['aardgas', 'chloorgas', 'propaangas', 'benzine', 'gas-', 'stoom', 'gassen', 'koelwater', 'kalium-', 'magnesiumzout']\n"
     ]
    }
   ],
   "source": [
    "year_folder = WEIGHTS_DIR+\"71\"\n",
    "sim_word_gas_71 = find_similar('gas', year_folder)"
   ]
  },
  {
   "cell_type": "markdown",
   "id": "b76d83d3",
   "metadata": {},
   "source": [
    "### Similar words - gas 1975"
   ]
  },
  {
   "cell_type": "code",
   "execution_count": 57,
   "id": "1732ce7b",
   "metadata": {},
   "outputs": [
    {
     "name": "stdout",
     "output_type": "stream",
     "text": [
      "(26716, 300)\n",
      "['aardgas', 'propaangas', 'poeder', 'Noordzeegas', 'methaangas', 'olieproducten', 'teerzand', 'koolzuur', 'leisteen', 'vinylchloride']\n"
     ]
    }
   ],
   "source": [
    "year_folder = WEIGHTS_DIR+\"75\"\n",
    "sim_word_gas_75 = find_similar('gas', year_folder)"
   ]
  },
  {
   "cell_type": "markdown",
   "id": "5d438e16",
   "metadata": {},
   "source": [
    "### Similar words - gas 1979"
   ]
  },
  {
   "cell_type": "code",
   "execution_count": 58,
   "id": "b28894a3",
   "metadata": {},
   "outputs": [
    {
     "name": "stdout",
     "output_type": "stream",
     "text": [
      "(21924, 300)\n",
      "['aardgas', 'propaangas', 'gasveld', 'propaan', 'formaldehydegas', 'gassen', 'stoom', 'spul', 'gat', 'warmte']\n"
     ]
    }
   ],
   "source": [
    "year_folder = WEIGHTS_DIR+\"79\"\n",
    "sim_word_gas_79 = find_similar('gas', year_folder)"
   ]
  },
  {
   "cell_type": "markdown",
   "id": "b7c67603",
   "metadata": {},
   "source": [
    "### Similar words - gas 1983"
   ]
  },
  {
   "cell_type": "code",
   "execution_count": 59,
   "id": "6035fede",
   "metadata": {},
   "outputs": [
    {
     "name": "stdout",
     "output_type": "stream",
     "text": [
      "(37265, 300)\n",
      "['aardgas', 'Gas', 'gas-', 'petroleumgas', 'methaangas', 'wanbetaling', 'gasveld', 'afvalgassen', 'aardgas-', 'dampen']\n"
     ]
    }
   ],
   "source": [
    "year_folder = WEIGHTS_DIR+\"83\"\n",
    "sim_word_gas_83 = find_similar('gas', year_folder)"
   ]
  },
  {
   "cell_type": "markdown",
   "id": "6e580f59",
   "metadata": {},
   "source": [
    "### Similar words - gas 1987"
   ]
  },
  {
   "cell_type": "code",
   "execution_count": 60,
   "id": "b54f39b8",
   "metadata": {},
   "outputs": [
    {
     "name": "stdout",
     "output_type": "stream",
     "text": [
      "(44278, 300)\n",
      "['aardgas', 'boorgruis', 'aas', 'drinkwater', 'gassen', 'helium', 'gifgas', 'biogas', 'gas-', 'methaangas']\n"
     ]
    }
   ],
   "source": [
    "year_folder = WEIGHTS_DIR+\"87\"\n",
    "sim_word_gas_87 = find_similar('gas', year_folder)"
   ]
  },
  {
   "cell_type": "markdown",
   "id": "f473fe9b",
   "metadata": {},
   "source": [
    "### Similar words - gas 1991"
   ]
  },
  {
   "cell_type": "code",
   "execution_count": 61,
   "id": "9872366a",
   "metadata": {},
   "outputs": [
    {
     "ename": "FileNotFoundError",
     "evalue": "[Errno 2] No such file or directory: '../weights/cbow_histaware_91/model.pt'",
     "output_type": "error",
     "traceback": [
      "\u001b[0;31m---------------------------------------------------------------------------\u001b[0m",
      "\u001b[0;31mFileNotFoundError\u001b[0m                         Traceback (most recent call last)",
      "Input \u001b[0;32mIn [61]\u001b[0m, in \u001b[0;36m<cell line: 2>\u001b[0;34m()\u001b[0m\n\u001b[1;32m      1\u001b[0m year_folder \u001b[38;5;241m=\u001b[39m WEIGHTS_DIR\u001b[38;5;241m+\u001b[39m\u001b[38;5;124m\"\u001b[39m\u001b[38;5;124m91\u001b[39m\u001b[38;5;124m\"\u001b[39m\n\u001b[0;32m----> 2\u001b[0m sim_word_gas_91 \u001b[38;5;241m=\u001b[39m \u001b[43mfind_similar\u001b[49m\u001b[43m(\u001b[49m\u001b[38;5;124;43m'\u001b[39;49m\u001b[38;5;124;43mgas\u001b[39;49m\u001b[38;5;124;43m'\u001b[39;49m\u001b[43m,\u001b[49m\u001b[43m \u001b[49m\u001b[43myear_folder\u001b[49m\u001b[43m)\u001b[49m\n",
      "Input \u001b[0;32mIn [30]\u001b[0m, in \u001b[0;36mfind_similar\u001b[0;34m(word, year_folder, topN)\u001b[0m\n\u001b[1;32m      1\u001b[0m \u001b[38;5;28;01mdef\u001b[39;00m \u001b[38;5;21mfind_similar\u001b[39m(word, year_folder,topN\u001b[38;5;241m=\u001b[39m\u001b[38;5;241m10\u001b[39m):\n\u001b[0;32m----> 2\u001b[0m     model \u001b[38;5;241m=\u001b[39m \u001b[43mtorch\u001b[49m\u001b[38;5;241;43m.\u001b[39;49m\u001b[43mload\u001b[49m\u001b[43m(\u001b[49m\u001b[38;5;124;43mf\u001b[39;49m\u001b[38;5;124;43m\"\u001b[39;49m\u001b[38;5;124;43m../\u001b[39;49m\u001b[38;5;132;43;01m{\u001b[39;49;00m\u001b[43myear_folder\u001b[49m\u001b[38;5;132;43;01m}\u001b[39;49;00m\u001b[38;5;124;43m/model.pt\u001b[39;49m\u001b[38;5;124;43m\"\u001b[39;49m\u001b[43m,\u001b[49m\u001b[43m \u001b[49m\u001b[43mmap_location\u001b[49m\u001b[38;5;241;43m=\u001b[39;49m\u001b[43mdevice\u001b[49m\u001b[43m)\u001b[49m\n\u001b[1;32m      3\u001b[0m     vocab \u001b[38;5;241m=\u001b[39m torch\u001b[38;5;241m.\u001b[39mload(\u001b[38;5;124mf\u001b[39m\u001b[38;5;124m\"\u001b[39m\u001b[38;5;124m../\u001b[39m\u001b[38;5;132;01m{\u001b[39;00myear_folder\u001b[38;5;132;01m}\u001b[39;00m\u001b[38;5;124m/vocab.pt\u001b[39m\u001b[38;5;124m\"\u001b[39m)\n\u001b[1;32m      4\u001b[0m     embeddings_norm \u001b[38;5;241m=\u001b[39m get_embedding(model)\n",
      "File \u001b[0;32m~/miniforge3/envs/torch/lib/python3.8/site-packages/torch/serialization.py:699\u001b[0m, in \u001b[0;36mload\u001b[0;34m(f, map_location, pickle_module, **pickle_load_args)\u001b[0m\n\u001b[1;32m    696\u001b[0m \u001b[38;5;28;01mif\u001b[39;00m \u001b[38;5;124m'\u001b[39m\u001b[38;5;124mencoding\u001b[39m\u001b[38;5;124m'\u001b[39m \u001b[38;5;129;01mnot\u001b[39;00m \u001b[38;5;129;01min\u001b[39;00m pickle_load_args\u001b[38;5;241m.\u001b[39mkeys():\n\u001b[1;32m    697\u001b[0m     pickle_load_args[\u001b[38;5;124m'\u001b[39m\u001b[38;5;124mencoding\u001b[39m\u001b[38;5;124m'\u001b[39m] \u001b[38;5;241m=\u001b[39m \u001b[38;5;124m'\u001b[39m\u001b[38;5;124mutf-8\u001b[39m\u001b[38;5;124m'\u001b[39m\n\u001b[0;32m--> 699\u001b[0m \u001b[38;5;28;01mwith\u001b[39;00m \u001b[43m_open_file_like\u001b[49m\u001b[43m(\u001b[49m\u001b[43mf\u001b[49m\u001b[43m,\u001b[49m\u001b[43m \u001b[49m\u001b[38;5;124;43m'\u001b[39;49m\u001b[38;5;124;43mrb\u001b[39;49m\u001b[38;5;124;43m'\u001b[39;49m\u001b[43m)\u001b[49m \u001b[38;5;28;01mas\u001b[39;00m opened_file:\n\u001b[1;32m    700\u001b[0m     \u001b[38;5;28;01mif\u001b[39;00m _is_zipfile(opened_file):\n\u001b[1;32m    701\u001b[0m         \u001b[38;5;66;03m# The zipfile reader is going to advance the current file position.\u001b[39;00m\n\u001b[1;32m    702\u001b[0m         \u001b[38;5;66;03m# If we want to actually tail call to torch.jit.load, we need to\u001b[39;00m\n\u001b[1;32m    703\u001b[0m         \u001b[38;5;66;03m# reset back to the original position.\u001b[39;00m\n\u001b[1;32m    704\u001b[0m         orig_position \u001b[38;5;241m=\u001b[39m opened_file\u001b[38;5;241m.\u001b[39mtell()\n",
      "File \u001b[0;32m~/miniforge3/envs/torch/lib/python3.8/site-packages/torch/serialization.py:230\u001b[0m, in \u001b[0;36m_open_file_like\u001b[0;34m(name_or_buffer, mode)\u001b[0m\n\u001b[1;32m    228\u001b[0m \u001b[38;5;28;01mdef\u001b[39;00m \u001b[38;5;21m_open_file_like\u001b[39m(name_or_buffer, mode):\n\u001b[1;32m    229\u001b[0m     \u001b[38;5;28;01mif\u001b[39;00m _is_path(name_or_buffer):\n\u001b[0;32m--> 230\u001b[0m         \u001b[38;5;28;01mreturn\u001b[39;00m \u001b[43m_open_file\u001b[49m\u001b[43m(\u001b[49m\u001b[43mname_or_buffer\u001b[49m\u001b[43m,\u001b[49m\u001b[43m \u001b[49m\u001b[43mmode\u001b[49m\u001b[43m)\u001b[49m\n\u001b[1;32m    231\u001b[0m     \u001b[38;5;28;01melse\u001b[39;00m:\n\u001b[1;32m    232\u001b[0m         \u001b[38;5;28;01mif\u001b[39;00m \u001b[38;5;124m'\u001b[39m\u001b[38;5;124mw\u001b[39m\u001b[38;5;124m'\u001b[39m \u001b[38;5;129;01min\u001b[39;00m mode:\n",
      "File \u001b[0;32m~/miniforge3/envs/torch/lib/python3.8/site-packages/torch/serialization.py:211\u001b[0m, in \u001b[0;36m_open_file.__init__\u001b[0;34m(self, name, mode)\u001b[0m\n\u001b[1;32m    210\u001b[0m \u001b[38;5;28;01mdef\u001b[39;00m \u001b[38;5;21m__init__\u001b[39m(\u001b[38;5;28mself\u001b[39m, name, mode):\n\u001b[0;32m--> 211\u001b[0m     \u001b[38;5;28msuper\u001b[39m(_open_file, \u001b[38;5;28mself\u001b[39m)\u001b[38;5;241m.\u001b[39m\u001b[38;5;21m__init__\u001b[39m(\u001b[38;5;28;43mopen\u001b[39;49m\u001b[43m(\u001b[49m\u001b[43mname\u001b[49m\u001b[43m,\u001b[49m\u001b[43m \u001b[49m\u001b[43mmode\u001b[49m\u001b[43m)\u001b[49m)\n",
      "\u001b[0;31mFileNotFoundError\u001b[0m: [Errno 2] No such file or directory: '../weights/cbow_histaware_91/model.pt'"
     ]
    }
   ],
   "source": [
    "year_folder = WEIGHTS_DIR+\"91\"\n",
    "sim_word_gas_91 = find_similar('gas', year_folder)"
   ]
  },
  {
   "cell_type": "markdown",
   "id": "e3f7bf00",
   "metadata": {},
   "source": [
    "### Similar words - gas 1995"
   ]
  },
  {
   "cell_type": "code",
   "execution_count": 62,
   "id": "b82ed94d",
   "metadata": {},
   "outputs": [
    {
     "ename": "FileNotFoundError",
     "evalue": "[Errno 2] No such file or directory: '../weights/cbow_histaware_95/model.pt'",
     "output_type": "error",
     "traceback": [
      "\u001b[0;31m---------------------------------------------------------------------------\u001b[0m",
      "\u001b[0;31mFileNotFoundError\u001b[0m                         Traceback (most recent call last)",
      "Input \u001b[0;32mIn [62]\u001b[0m, in \u001b[0;36m<cell line: 2>\u001b[0;34m()\u001b[0m\n\u001b[1;32m      1\u001b[0m year_folder \u001b[38;5;241m=\u001b[39m WEIGHTS_DIR\u001b[38;5;241m+\u001b[39m\u001b[38;5;124m\"\u001b[39m\u001b[38;5;124m95\u001b[39m\u001b[38;5;124m\"\u001b[39m\n\u001b[0;32m----> 2\u001b[0m sim_word_gas_95 \u001b[38;5;241m=\u001b[39m \u001b[43mfind_similar\u001b[49m\u001b[43m(\u001b[49m\u001b[38;5;124;43m'\u001b[39;49m\u001b[38;5;124;43mgas\u001b[39;49m\u001b[38;5;124;43m'\u001b[39;49m\u001b[43m,\u001b[49m\u001b[43m \u001b[49m\u001b[43myear_folder\u001b[49m\u001b[43m)\u001b[49m\n",
      "Input \u001b[0;32mIn [30]\u001b[0m, in \u001b[0;36mfind_similar\u001b[0;34m(word, year_folder, topN)\u001b[0m\n\u001b[1;32m      1\u001b[0m \u001b[38;5;28;01mdef\u001b[39;00m \u001b[38;5;21mfind_similar\u001b[39m(word, year_folder,topN\u001b[38;5;241m=\u001b[39m\u001b[38;5;241m10\u001b[39m):\n\u001b[0;32m----> 2\u001b[0m     model \u001b[38;5;241m=\u001b[39m \u001b[43mtorch\u001b[49m\u001b[38;5;241;43m.\u001b[39;49m\u001b[43mload\u001b[49m\u001b[43m(\u001b[49m\u001b[38;5;124;43mf\u001b[39;49m\u001b[38;5;124;43m\"\u001b[39;49m\u001b[38;5;124;43m../\u001b[39;49m\u001b[38;5;132;43;01m{\u001b[39;49;00m\u001b[43myear_folder\u001b[49m\u001b[38;5;132;43;01m}\u001b[39;49;00m\u001b[38;5;124;43m/model.pt\u001b[39;49m\u001b[38;5;124;43m\"\u001b[39;49m\u001b[43m,\u001b[49m\u001b[43m \u001b[49m\u001b[43mmap_location\u001b[49m\u001b[38;5;241;43m=\u001b[39;49m\u001b[43mdevice\u001b[49m\u001b[43m)\u001b[49m\n\u001b[1;32m      3\u001b[0m     vocab \u001b[38;5;241m=\u001b[39m torch\u001b[38;5;241m.\u001b[39mload(\u001b[38;5;124mf\u001b[39m\u001b[38;5;124m\"\u001b[39m\u001b[38;5;124m../\u001b[39m\u001b[38;5;132;01m{\u001b[39;00myear_folder\u001b[38;5;132;01m}\u001b[39;00m\u001b[38;5;124m/vocab.pt\u001b[39m\u001b[38;5;124m\"\u001b[39m)\n\u001b[1;32m      4\u001b[0m     embeddings_norm \u001b[38;5;241m=\u001b[39m get_embedding(model)\n",
      "File \u001b[0;32m~/miniforge3/envs/torch/lib/python3.8/site-packages/torch/serialization.py:699\u001b[0m, in \u001b[0;36mload\u001b[0;34m(f, map_location, pickle_module, **pickle_load_args)\u001b[0m\n\u001b[1;32m    696\u001b[0m \u001b[38;5;28;01mif\u001b[39;00m \u001b[38;5;124m'\u001b[39m\u001b[38;5;124mencoding\u001b[39m\u001b[38;5;124m'\u001b[39m \u001b[38;5;129;01mnot\u001b[39;00m \u001b[38;5;129;01min\u001b[39;00m pickle_load_args\u001b[38;5;241m.\u001b[39mkeys():\n\u001b[1;32m    697\u001b[0m     pickle_load_args[\u001b[38;5;124m'\u001b[39m\u001b[38;5;124mencoding\u001b[39m\u001b[38;5;124m'\u001b[39m] \u001b[38;5;241m=\u001b[39m \u001b[38;5;124m'\u001b[39m\u001b[38;5;124mutf-8\u001b[39m\u001b[38;5;124m'\u001b[39m\n\u001b[0;32m--> 699\u001b[0m \u001b[38;5;28;01mwith\u001b[39;00m \u001b[43m_open_file_like\u001b[49m\u001b[43m(\u001b[49m\u001b[43mf\u001b[49m\u001b[43m,\u001b[49m\u001b[43m \u001b[49m\u001b[38;5;124;43m'\u001b[39;49m\u001b[38;5;124;43mrb\u001b[39;49m\u001b[38;5;124;43m'\u001b[39;49m\u001b[43m)\u001b[49m \u001b[38;5;28;01mas\u001b[39;00m opened_file:\n\u001b[1;32m    700\u001b[0m     \u001b[38;5;28;01mif\u001b[39;00m _is_zipfile(opened_file):\n\u001b[1;32m    701\u001b[0m         \u001b[38;5;66;03m# The zipfile reader is going to advance the current file position.\u001b[39;00m\n\u001b[1;32m    702\u001b[0m         \u001b[38;5;66;03m# If we want to actually tail call to torch.jit.load, we need to\u001b[39;00m\n\u001b[1;32m    703\u001b[0m         \u001b[38;5;66;03m# reset back to the original position.\u001b[39;00m\n\u001b[1;32m    704\u001b[0m         orig_position \u001b[38;5;241m=\u001b[39m opened_file\u001b[38;5;241m.\u001b[39mtell()\n",
      "File \u001b[0;32m~/miniforge3/envs/torch/lib/python3.8/site-packages/torch/serialization.py:230\u001b[0m, in \u001b[0;36m_open_file_like\u001b[0;34m(name_or_buffer, mode)\u001b[0m\n\u001b[1;32m    228\u001b[0m \u001b[38;5;28;01mdef\u001b[39;00m \u001b[38;5;21m_open_file_like\u001b[39m(name_or_buffer, mode):\n\u001b[1;32m    229\u001b[0m     \u001b[38;5;28;01mif\u001b[39;00m _is_path(name_or_buffer):\n\u001b[0;32m--> 230\u001b[0m         \u001b[38;5;28;01mreturn\u001b[39;00m \u001b[43m_open_file\u001b[49m\u001b[43m(\u001b[49m\u001b[43mname_or_buffer\u001b[49m\u001b[43m,\u001b[49m\u001b[43m \u001b[49m\u001b[43mmode\u001b[49m\u001b[43m)\u001b[49m\n\u001b[1;32m    231\u001b[0m     \u001b[38;5;28;01melse\u001b[39;00m:\n\u001b[1;32m    232\u001b[0m         \u001b[38;5;28;01mif\u001b[39;00m \u001b[38;5;124m'\u001b[39m\u001b[38;5;124mw\u001b[39m\u001b[38;5;124m'\u001b[39m \u001b[38;5;129;01min\u001b[39;00m mode:\n",
      "File \u001b[0;32m~/miniforge3/envs/torch/lib/python3.8/site-packages/torch/serialization.py:211\u001b[0m, in \u001b[0;36m_open_file.__init__\u001b[0;34m(self, name, mode)\u001b[0m\n\u001b[1;32m    210\u001b[0m \u001b[38;5;28;01mdef\u001b[39;00m \u001b[38;5;21m__init__\u001b[39m(\u001b[38;5;28mself\u001b[39m, name, mode):\n\u001b[0;32m--> 211\u001b[0m     \u001b[38;5;28msuper\u001b[39m(_open_file, \u001b[38;5;28mself\u001b[39m)\u001b[38;5;241m.\u001b[39m\u001b[38;5;21m__init__\u001b[39m(\u001b[38;5;28;43mopen\u001b[39;49m\u001b[43m(\u001b[49m\u001b[43mname\u001b[49m\u001b[43m,\u001b[49m\u001b[43m \u001b[49m\u001b[43mmode\u001b[49m\u001b[43m)\u001b[49m)\n",
      "\u001b[0;31mFileNotFoundError\u001b[0m: [Errno 2] No such file or directory: '../weights/cbow_histaware_95/model.pt'"
     ]
    }
   ],
   "source": [
    "year_folder = WEIGHTS_DIR+\"95\"\n",
    "sim_word_gas_95 = find_similar('gas', year_folder)"
   ]
  },
  {
   "cell_type": "markdown",
   "id": "053a227b",
   "metadata": {},
   "source": [
    "## Similar words - aardolie\n",
    "\n",
    "### Similar words - aardolie 1963"
   ]
  },
  {
   "cell_type": "code",
   "execution_count": 63,
   "id": "153516ea",
   "metadata": {},
   "outputs": [
    {
     "name": "stdout",
     "output_type": "stream",
     "text": [
      "(28826, 300)\n",
      "['olie', 'bruinkool', 'delfstoffen', 'olleprodukten', 'verscheping', 'oliebronnen', 'waterstof', 'bauxiet', 'afzet', 'grondstof']\n"
     ]
    }
   ],
   "source": [
    "year_folder = WEIGHTS_DIR+\"63\"\n",
    "sim_word_aardolie_63 = find_similar('aardolie', year_folder)"
   ]
  },
  {
   "cell_type": "markdown",
   "id": "5bc12270",
   "metadata": {},
   "source": [
    "### Similar words - aardolie 1967"
   ]
  },
  {
   "cell_type": "code",
   "execution_count": 64,
   "id": "27741b22",
   "metadata": {},
   "outputs": [
    {
     "name": "stdout",
     "output_type": "stream",
     "text": [
      "(28586, 300)\n",
      "['olie', 'distributie', 'brutoproduktie', 'olie-', 'goedkoop', 'koolwaterstoffen', 'bruinkool', 'voedingsmiddelen', 'zwavel', 'Noordzeebodem']\n"
     ]
    }
   ],
   "source": [
    "year_folder = WEIGHTS_DIR+\"67\"\n",
    "sim_word_aardolie_67 = find_similar('aardolie', year_folder)"
   ]
  },
  {
   "cell_type": "markdown",
   "id": "c8762afb",
   "metadata": {},
   "source": [
    "### Similar words - aardolie 1971"
   ]
  },
  {
   "cell_type": "code",
   "execution_count": 65,
   "id": "607bd514",
   "metadata": {},
   "outputs": [
    {
     "name": "stdout",
     "output_type": "stream",
     "text": [
      "(28473, 300)\n",
      "['olie', 'grondstoffen', 'stookolie', 'granen', 'Brunei', 'ertsen', 'staal', 'olie-aanvoer', 'olie-', 'vervaardiging']\n"
     ]
    }
   ],
   "source": [
    "year_folder = WEIGHTS_DIR+\"71\"\n",
    "sim_word_aardolie_71 = find_similar('aardolie', year_folder)"
   ]
  },
  {
   "cell_type": "markdown",
   "id": "175fc10b",
   "metadata": {},
   "source": [
    "### Similar words - aardolie 1975"
   ]
  },
  {
   "cell_type": "code",
   "execution_count": 66,
   "id": "3e7fc295",
   "metadata": {},
   "outputs": [
    {
     "name": "stdout",
     "output_type": "stream",
     "text": [
      "(26716, 300)\n",
      "['olie', 'synthetisch', 'bruinkool', 'gasolle', 'West-Europa', 'lood', 'stookolie', 'West-Duitsland', 'oliereserves', 'eindprodukten']\n"
     ]
    }
   ],
   "source": [
    "year_folder = WEIGHTS_DIR+\"75\"\n",
    "sim_word_aardolie_75 = find_similar('aardolie', year_folder)"
   ]
  },
  {
   "cell_type": "markdown",
   "id": "97b8bf42",
   "metadata": {},
   "source": [
    "### Similar words - aardolie 1979"
   ]
  },
  {
   "cell_type": "code",
   "execution_count": 67,
   "id": "1aa12219",
   "metadata": {},
   "outputs": [
    {
     "name": "stdout",
     "output_type": "stream",
     "text": [
      "(21924, 300)\n",
      "['olie', 'aardolie-', 'vliegtuigen', 'ertsen', 'methaan', 'steenkoolgas', 'grondstoffen', 'stookolie', 'olie-', 'energiedragers']\n"
     ]
    }
   ],
   "source": [
    "year_folder = WEIGHTS_DIR+\"79\"\n",
    "sim_word_aardolie_79 = find_similar('aardolie', year_folder)"
   ]
  },
  {
   "cell_type": "markdown",
   "id": "225f63c1",
   "metadata": {},
   "source": [
    "### Similar words - aardolie 1983"
   ]
  },
  {
   "cell_type": "code",
   "execution_count": 68,
   "id": "a1306dcb",
   "metadata": {},
   "outputs": [
    {
     "name": "stdout",
     "output_type": "stream",
     "text": [
      "(37265, 300)\n",
      "['olie', 'stookolie', 'kapitaalgoederen', 'vloeistoffen', 'grondstof', 'produkten', 'kolengas', 'bruinkool', 'gasvelden', 'ex-dlvidend']\n"
     ]
    }
   ],
   "source": [
    "year_folder = WEIGHTS_DIR+\"83\"\n",
    "sim_word_aardolie_83 = find_similar('aardolie', year_folder)"
   ]
  },
  {
   "cell_type": "markdown",
   "id": "20d858b2",
   "metadata": {},
   "source": [
    "### Similar words - aardolie 1987"
   ]
  },
  {
   "cell_type": "code",
   "execution_count": 69,
   "id": "58d599c2",
   "metadata": {},
   "outputs": [
    {
     "name": "stdout",
     "output_type": "stream",
     "text": [
      "(44278, 300)\n",
      "['olie', 'olie-', 'edelmetalen', 'stookolie', 'veevoeders', 'residu', 'olieprodukten', 'energieprodukten', 'ijzererts', 'ertsen']\n"
     ]
    }
   ],
   "source": [
    "year_folder = WEIGHTS_DIR+\"87\"\n",
    "sim_word_aardolie_87 = find_similar('aardolie', year_folder)"
   ]
  },
  {
   "cell_type": "markdown",
   "id": "d7560a21",
   "metadata": {},
   "source": [
    "### Similar words - aardolie 1991"
   ]
  },
  {
   "cell_type": "code",
   "execution_count": 70,
   "id": "f5b07cc9",
   "metadata": {},
   "outputs": [
    {
     "ename": "FileNotFoundError",
     "evalue": "[Errno 2] No such file or directory: '../weights/cbow_histaware_91/model.pt'",
     "output_type": "error",
     "traceback": [
      "\u001b[0;31m---------------------------------------------------------------------------\u001b[0m",
      "\u001b[0;31mFileNotFoundError\u001b[0m                         Traceback (most recent call last)",
      "Input \u001b[0;32mIn [70]\u001b[0m, in \u001b[0;36m<cell line: 2>\u001b[0;34m()\u001b[0m\n\u001b[1;32m      1\u001b[0m year_folder \u001b[38;5;241m=\u001b[39m WEIGHTS_DIR\u001b[38;5;241m+\u001b[39m\u001b[38;5;124m\"\u001b[39m\u001b[38;5;124m91\u001b[39m\u001b[38;5;124m\"\u001b[39m\n\u001b[0;32m----> 2\u001b[0m sim_word_aardolie_91 \u001b[38;5;241m=\u001b[39m \u001b[43mfind_similar\u001b[49m\u001b[43m(\u001b[49m\u001b[38;5;124;43m'\u001b[39;49m\u001b[38;5;124;43maardolie\u001b[39;49m\u001b[38;5;124;43m'\u001b[39;49m\u001b[43m,\u001b[49m\u001b[43m \u001b[49m\u001b[43myear_folder\u001b[49m\u001b[43m)\u001b[49m\n",
      "Input \u001b[0;32mIn [30]\u001b[0m, in \u001b[0;36mfind_similar\u001b[0;34m(word, year_folder, topN)\u001b[0m\n\u001b[1;32m      1\u001b[0m \u001b[38;5;28;01mdef\u001b[39;00m \u001b[38;5;21mfind_similar\u001b[39m(word, year_folder,topN\u001b[38;5;241m=\u001b[39m\u001b[38;5;241m10\u001b[39m):\n\u001b[0;32m----> 2\u001b[0m     model \u001b[38;5;241m=\u001b[39m \u001b[43mtorch\u001b[49m\u001b[38;5;241;43m.\u001b[39;49m\u001b[43mload\u001b[49m\u001b[43m(\u001b[49m\u001b[38;5;124;43mf\u001b[39;49m\u001b[38;5;124;43m\"\u001b[39;49m\u001b[38;5;124;43m../\u001b[39;49m\u001b[38;5;132;43;01m{\u001b[39;49;00m\u001b[43myear_folder\u001b[49m\u001b[38;5;132;43;01m}\u001b[39;49;00m\u001b[38;5;124;43m/model.pt\u001b[39;49m\u001b[38;5;124;43m\"\u001b[39;49m\u001b[43m,\u001b[49m\u001b[43m \u001b[49m\u001b[43mmap_location\u001b[49m\u001b[38;5;241;43m=\u001b[39;49m\u001b[43mdevice\u001b[49m\u001b[43m)\u001b[49m\n\u001b[1;32m      3\u001b[0m     vocab \u001b[38;5;241m=\u001b[39m torch\u001b[38;5;241m.\u001b[39mload(\u001b[38;5;124mf\u001b[39m\u001b[38;5;124m\"\u001b[39m\u001b[38;5;124m../\u001b[39m\u001b[38;5;132;01m{\u001b[39;00myear_folder\u001b[38;5;132;01m}\u001b[39;00m\u001b[38;5;124m/vocab.pt\u001b[39m\u001b[38;5;124m\"\u001b[39m)\n\u001b[1;32m      4\u001b[0m     embeddings_norm \u001b[38;5;241m=\u001b[39m get_embedding(model)\n",
      "File \u001b[0;32m~/miniforge3/envs/torch/lib/python3.8/site-packages/torch/serialization.py:699\u001b[0m, in \u001b[0;36mload\u001b[0;34m(f, map_location, pickle_module, **pickle_load_args)\u001b[0m\n\u001b[1;32m    696\u001b[0m \u001b[38;5;28;01mif\u001b[39;00m \u001b[38;5;124m'\u001b[39m\u001b[38;5;124mencoding\u001b[39m\u001b[38;5;124m'\u001b[39m \u001b[38;5;129;01mnot\u001b[39;00m \u001b[38;5;129;01min\u001b[39;00m pickle_load_args\u001b[38;5;241m.\u001b[39mkeys():\n\u001b[1;32m    697\u001b[0m     pickle_load_args[\u001b[38;5;124m'\u001b[39m\u001b[38;5;124mencoding\u001b[39m\u001b[38;5;124m'\u001b[39m] \u001b[38;5;241m=\u001b[39m \u001b[38;5;124m'\u001b[39m\u001b[38;5;124mutf-8\u001b[39m\u001b[38;5;124m'\u001b[39m\n\u001b[0;32m--> 699\u001b[0m \u001b[38;5;28;01mwith\u001b[39;00m \u001b[43m_open_file_like\u001b[49m\u001b[43m(\u001b[49m\u001b[43mf\u001b[49m\u001b[43m,\u001b[49m\u001b[43m \u001b[49m\u001b[38;5;124;43m'\u001b[39;49m\u001b[38;5;124;43mrb\u001b[39;49m\u001b[38;5;124;43m'\u001b[39;49m\u001b[43m)\u001b[49m \u001b[38;5;28;01mas\u001b[39;00m opened_file:\n\u001b[1;32m    700\u001b[0m     \u001b[38;5;28;01mif\u001b[39;00m _is_zipfile(opened_file):\n\u001b[1;32m    701\u001b[0m         \u001b[38;5;66;03m# The zipfile reader is going to advance the current file position.\u001b[39;00m\n\u001b[1;32m    702\u001b[0m         \u001b[38;5;66;03m# If we want to actually tail call to torch.jit.load, we need to\u001b[39;00m\n\u001b[1;32m    703\u001b[0m         \u001b[38;5;66;03m# reset back to the original position.\u001b[39;00m\n\u001b[1;32m    704\u001b[0m         orig_position \u001b[38;5;241m=\u001b[39m opened_file\u001b[38;5;241m.\u001b[39mtell()\n",
      "File \u001b[0;32m~/miniforge3/envs/torch/lib/python3.8/site-packages/torch/serialization.py:230\u001b[0m, in \u001b[0;36m_open_file_like\u001b[0;34m(name_or_buffer, mode)\u001b[0m\n\u001b[1;32m    228\u001b[0m \u001b[38;5;28;01mdef\u001b[39;00m \u001b[38;5;21m_open_file_like\u001b[39m(name_or_buffer, mode):\n\u001b[1;32m    229\u001b[0m     \u001b[38;5;28;01mif\u001b[39;00m _is_path(name_or_buffer):\n\u001b[0;32m--> 230\u001b[0m         \u001b[38;5;28;01mreturn\u001b[39;00m \u001b[43m_open_file\u001b[49m\u001b[43m(\u001b[49m\u001b[43mname_or_buffer\u001b[49m\u001b[43m,\u001b[49m\u001b[43m \u001b[49m\u001b[43mmode\u001b[49m\u001b[43m)\u001b[49m\n\u001b[1;32m    231\u001b[0m     \u001b[38;5;28;01melse\u001b[39;00m:\n\u001b[1;32m    232\u001b[0m         \u001b[38;5;28;01mif\u001b[39;00m \u001b[38;5;124m'\u001b[39m\u001b[38;5;124mw\u001b[39m\u001b[38;5;124m'\u001b[39m \u001b[38;5;129;01min\u001b[39;00m mode:\n",
      "File \u001b[0;32m~/miniforge3/envs/torch/lib/python3.8/site-packages/torch/serialization.py:211\u001b[0m, in \u001b[0;36m_open_file.__init__\u001b[0;34m(self, name, mode)\u001b[0m\n\u001b[1;32m    210\u001b[0m \u001b[38;5;28;01mdef\u001b[39;00m \u001b[38;5;21m__init__\u001b[39m(\u001b[38;5;28mself\u001b[39m, name, mode):\n\u001b[0;32m--> 211\u001b[0m     \u001b[38;5;28msuper\u001b[39m(_open_file, \u001b[38;5;28mself\u001b[39m)\u001b[38;5;241m.\u001b[39m\u001b[38;5;21m__init__\u001b[39m(\u001b[38;5;28;43mopen\u001b[39;49m\u001b[43m(\u001b[49m\u001b[43mname\u001b[49m\u001b[43m,\u001b[49m\u001b[43m \u001b[49m\u001b[43mmode\u001b[49m\u001b[43m)\u001b[49m)\n",
      "\u001b[0;31mFileNotFoundError\u001b[0m: [Errno 2] No such file or directory: '../weights/cbow_histaware_91/model.pt'"
     ]
    }
   ],
   "source": [
    "year_folder = WEIGHTS_DIR+\"91\"\n",
    "sim_word_aardolie_91 = find_similar('aardolie', year_folder)"
   ]
  },
  {
   "cell_type": "markdown",
   "id": "5c4b8e37",
   "metadata": {},
   "source": [
    "### Similar words - aardolie 1995"
   ]
  },
  {
   "cell_type": "code",
   "execution_count": null,
   "id": "a685ac7c",
   "metadata": {},
   "outputs": [],
   "source": [
    "year_folder = WEIGHTS_DIR+\"95\"\n",
    "sim_word_aardolie_95 = find_similar('aardolie', year_folder)"
   ]
  },
  {
   "cell_type": "markdown",
   "id": "2e889ce6",
   "metadata": {},
   "source": [
    "## Similar words - steenkool\n",
    "\n",
    "### Similar words - steenkool 1963"
   ]
  },
  {
   "cell_type": "code",
   "execution_count": 71,
   "id": "10cd922c",
   "metadata": {},
   "outputs": [
    {
     "name": "stdout",
     "output_type": "stream",
     "text": [
      "(28826, 300)\n",
      "['kolen', 'steenkolen', 'anthraciet', 'huisbrandkolen', 'ruwe', 'draagvermogen', 'Sovjet-Unie', 'kernenergie', 'ijzererts', 'stikstof']\n"
     ]
    }
   ],
   "source": [
    "year_folder = WEIGHTS_DIR+\"63\"\n",
    "sim_word_steenkool_63 = find_similar('steenkool', year_folder)"
   ]
  },
  {
   "cell_type": "markdown",
   "id": "3d2e11e2",
   "metadata": {},
   "source": [
    "### Similar words - steenkool 1967"
   ]
  },
  {
   "cell_type": "code",
   "execution_count": 72,
   "id": "4a13d14e",
   "metadata": {},
   "outputs": [
    {
     "name": "stdout",
     "output_type": "stream",
     "text": [
      "(28586, 300)\n",
      "['kolen', '32.000', 'cokes', 'industriekolen', 'huisbrandkolen', 'Emma', 'steenkolen', 'huisbrand', 'mijnindustrie', 'Groot-Brittannië']\n"
     ]
    }
   ],
   "source": [
    "year_folder = WEIGHTS_DIR+\"67\"\n",
    "sim_word_steenkool_67 = find_similar('steenkool', year_folder)"
   ]
  },
  {
   "cell_type": "markdown",
   "id": "35703f0d",
   "metadata": {},
   "source": [
    "### Similar words - steenkool 1971"
   ]
  },
  {
   "cell_type": "code",
   "execution_count": 73,
   "id": "2d13f315",
   "metadata": {},
   "outputs": [
    {
     "name": "stdout",
     "output_type": "stream",
     "text": [
      "(28473, 300)\n",
      "['kolen', 'cokes', 'steenkolen', 'zwavel', 'aardgas', 'import', 'koolstof', 'benzine', 'huisbrand', 'zwavelarme']\n"
     ]
    }
   ],
   "source": [
    "year_folder = WEIGHTS_DIR+\"71\"\n",
    "sim_word_steenkool_71 = find_similar('steenkool', year_folder)"
   ]
  },
  {
   "cell_type": "markdown",
   "id": "565b26c4",
   "metadata": {},
   "source": [
    "### Similar words - steenkool 1975"
   ]
  },
  {
   "cell_type": "code",
   "execution_count": 74,
   "id": "7d0a63ee",
   "metadata": {},
   "outputs": [
    {
     "name": "stdout",
     "output_type": "stream",
     "text": [
      "(26716, 300)\n",
      "['kolen', 'bruinkool', 'mineralen', 'steenkolen', 'leisteen', 'teerzand', 'elektriciteit', 'delfstoffen', 'aardgas', 'cokes']\n"
     ]
    }
   ],
   "source": [
    "year_folder = WEIGHTS_DIR+\"75\"\n",
    "sim_word_steenkool_75 = find_similar('steenkool', year_folder)"
   ]
  },
  {
   "cell_type": "markdown",
   "id": "426dc632",
   "metadata": {},
   "source": [
    "### Similar words - steenkool 1979"
   ]
  },
  {
   "cell_type": "code",
   "execution_count": 75,
   "id": "88276f45",
   "metadata": {},
   "outputs": [
    {
     "name": "stdout",
     "output_type": "stream",
     "text": [
      "(21924, 300)\n",
      "['kolen', 'steenkolen', 'teerzand', 'steenkoollagen', 'aardwarmte', 'bruinkool', 'mijnen', 'Duinkerken', 'zonneenergie', 'aardolie']\n"
     ]
    }
   ],
   "source": [
    "year_folder = WEIGHTS_DIR+\"79\"\n",
    "sim_word_steenkool_79 = find_similar('steenkool', year_folder)"
   ]
  },
  {
   "cell_type": "markdown",
   "id": "3557e9c0",
   "metadata": {},
   "source": [
    "### Similar words - steenkool 1983"
   ]
  },
  {
   "cell_type": "code",
   "execution_count": 76,
   "id": "4b15dff0",
   "metadata": {},
   "outputs": [
    {
     "name": "stdout",
     "output_type": "stream",
     "text": [
      "(37265, 300)\n",
      "['kolen', 'steenkolen', 'teerzand', 'bruinkool', 'methanol', 'steen-', 'fosfaten', 'olie-equivalent', 'ethanol', 'cadmium']\n"
     ]
    }
   ],
   "source": [
    "year_folder = WEIGHTS_DIR+\"83\"\n",
    "sim_word_steenkool_83 = find_similar('steenkool', year_folder)"
   ]
  },
  {
   "cell_type": "markdown",
   "id": "3ac3c8c1",
   "metadata": {},
   "source": [
    "### Similar words - steenkool 1987"
   ]
  },
  {
   "cell_type": "code",
   "execution_count": 77,
   "id": "bed4fdc0",
   "metadata": {},
   "outputs": [
    {
     "name": "stdout",
     "output_type": "stream",
     "text": [
      "(44278, 300)\n",
      "['kolen', 'steenkolen', 'bruinkool', 'mica', 'delfstoffen', 'mineralen', 'landbouwprodukten', 'platina', 'Envoy', 'industrieprodukten']\n"
     ]
    }
   ],
   "source": [
    "year_folder = WEIGHTS_DIR+\"87\"\n",
    "sim_word_steenkool_87 = find_similar('steenkool', year_folder)"
   ]
  },
  {
   "cell_type": "markdown",
   "id": "22c9a243",
   "metadata": {},
   "source": [
    "### Similar words - steenkool 1991"
   ]
  },
  {
   "cell_type": "code",
   "execution_count": 78,
   "id": "7d0d6a78",
   "metadata": {},
   "outputs": [
    {
     "ename": "FileNotFoundError",
     "evalue": "[Errno 2] No such file or directory: '../weights/cbow_histaware_91/model.pt'",
     "output_type": "error",
     "traceback": [
      "\u001b[0;31m---------------------------------------------------------------------------\u001b[0m",
      "\u001b[0;31mFileNotFoundError\u001b[0m                         Traceback (most recent call last)",
      "Input \u001b[0;32mIn [78]\u001b[0m, in \u001b[0;36m<cell line: 2>\u001b[0;34m()\u001b[0m\n\u001b[1;32m      1\u001b[0m year_folder \u001b[38;5;241m=\u001b[39m WEIGHTS_DIR\u001b[38;5;241m+\u001b[39m\u001b[38;5;124m\"\u001b[39m\u001b[38;5;124m91\u001b[39m\u001b[38;5;124m\"\u001b[39m\n\u001b[0;32m----> 2\u001b[0m sim_word_steenkool_91 \u001b[38;5;241m=\u001b[39m \u001b[43mfind_similar\u001b[49m\u001b[43m(\u001b[49m\u001b[38;5;124;43m'\u001b[39;49m\u001b[38;5;124;43msteenkool\u001b[39;49m\u001b[38;5;124;43m'\u001b[39;49m\u001b[43m,\u001b[49m\u001b[43m \u001b[49m\u001b[43myear_folder\u001b[49m\u001b[43m)\u001b[49m\n",
      "Input \u001b[0;32mIn [30]\u001b[0m, in \u001b[0;36mfind_similar\u001b[0;34m(word, year_folder, topN)\u001b[0m\n\u001b[1;32m      1\u001b[0m \u001b[38;5;28;01mdef\u001b[39;00m \u001b[38;5;21mfind_similar\u001b[39m(word, year_folder,topN\u001b[38;5;241m=\u001b[39m\u001b[38;5;241m10\u001b[39m):\n\u001b[0;32m----> 2\u001b[0m     model \u001b[38;5;241m=\u001b[39m \u001b[43mtorch\u001b[49m\u001b[38;5;241;43m.\u001b[39;49m\u001b[43mload\u001b[49m\u001b[43m(\u001b[49m\u001b[38;5;124;43mf\u001b[39;49m\u001b[38;5;124;43m\"\u001b[39;49m\u001b[38;5;124;43m../\u001b[39;49m\u001b[38;5;132;43;01m{\u001b[39;49;00m\u001b[43myear_folder\u001b[49m\u001b[38;5;132;43;01m}\u001b[39;49;00m\u001b[38;5;124;43m/model.pt\u001b[39;49m\u001b[38;5;124;43m\"\u001b[39;49m\u001b[43m,\u001b[49m\u001b[43m \u001b[49m\u001b[43mmap_location\u001b[49m\u001b[38;5;241;43m=\u001b[39;49m\u001b[43mdevice\u001b[49m\u001b[43m)\u001b[49m\n\u001b[1;32m      3\u001b[0m     vocab \u001b[38;5;241m=\u001b[39m torch\u001b[38;5;241m.\u001b[39mload(\u001b[38;5;124mf\u001b[39m\u001b[38;5;124m\"\u001b[39m\u001b[38;5;124m../\u001b[39m\u001b[38;5;132;01m{\u001b[39;00myear_folder\u001b[38;5;132;01m}\u001b[39;00m\u001b[38;5;124m/vocab.pt\u001b[39m\u001b[38;5;124m\"\u001b[39m)\n\u001b[1;32m      4\u001b[0m     embeddings_norm \u001b[38;5;241m=\u001b[39m get_embedding(model)\n",
      "File \u001b[0;32m~/miniforge3/envs/torch/lib/python3.8/site-packages/torch/serialization.py:699\u001b[0m, in \u001b[0;36mload\u001b[0;34m(f, map_location, pickle_module, **pickle_load_args)\u001b[0m\n\u001b[1;32m    696\u001b[0m \u001b[38;5;28;01mif\u001b[39;00m \u001b[38;5;124m'\u001b[39m\u001b[38;5;124mencoding\u001b[39m\u001b[38;5;124m'\u001b[39m \u001b[38;5;129;01mnot\u001b[39;00m \u001b[38;5;129;01min\u001b[39;00m pickle_load_args\u001b[38;5;241m.\u001b[39mkeys():\n\u001b[1;32m    697\u001b[0m     pickle_load_args[\u001b[38;5;124m'\u001b[39m\u001b[38;5;124mencoding\u001b[39m\u001b[38;5;124m'\u001b[39m] \u001b[38;5;241m=\u001b[39m \u001b[38;5;124m'\u001b[39m\u001b[38;5;124mutf-8\u001b[39m\u001b[38;5;124m'\u001b[39m\n\u001b[0;32m--> 699\u001b[0m \u001b[38;5;28;01mwith\u001b[39;00m \u001b[43m_open_file_like\u001b[49m\u001b[43m(\u001b[49m\u001b[43mf\u001b[49m\u001b[43m,\u001b[49m\u001b[43m \u001b[49m\u001b[38;5;124;43m'\u001b[39;49m\u001b[38;5;124;43mrb\u001b[39;49m\u001b[38;5;124;43m'\u001b[39;49m\u001b[43m)\u001b[49m \u001b[38;5;28;01mas\u001b[39;00m opened_file:\n\u001b[1;32m    700\u001b[0m     \u001b[38;5;28;01mif\u001b[39;00m _is_zipfile(opened_file):\n\u001b[1;32m    701\u001b[0m         \u001b[38;5;66;03m# The zipfile reader is going to advance the current file position.\u001b[39;00m\n\u001b[1;32m    702\u001b[0m         \u001b[38;5;66;03m# If we want to actually tail call to torch.jit.load, we need to\u001b[39;00m\n\u001b[1;32m    703\u001b[0m         \u001b[38;5;66;03m# reset back to the original position.\u001b[39;00m\n\u001b[1;32m    704\u001b[0m         orig_position \u001b[38;5;241m=\u001b[39m opened_file\u001b[38;5;241m.\u001b[39mtell()\n",
      "File \u001b[0;32m~/miniforge3/envs/torch/lib/python3.8/site-packages/torch/serialization.py:230\u001b[0m, in \u001b[0;36m_open_file_like\u001b[0;34m(name_or_buffer, mode)\u001b[0m\n\u001b[1;32m    228\u001b[0m \u001b[38;5;28;01mdef\u001b[39;00m \u001b[38;5;21m_open_file_like\u001b[39m(name_or_buffer, mode):\n\u001b[1;32m    229\u001b[0m     \u001b[38;5;28;01mif\u001b[39;00m _is_path(name_or_buffer):\n\u001b[0;32m--> 230\u001b[0m         \u001b[38;5;28;01mreturn\u001b[39;00m \u001b[43m_open_file\u001b[49m\u001b[43m(\u001b[49m\u001b[43mname_or_buffer\u001b[49m\u001b[43m,\u001b[49m\u001b[43m \u001b[49m\u001b[43mmode\u001b[49m\u001b[43m)\u001b[49m\n\u001b[1;32m    231\u001b[0m     \u001b[38;5;28;01melse\u001b[39;00m:\n\u001b[1;32m    232\u001b[0m         \u001b[38;5;28;01mif\u001b[39;00m \u001b[38;5;124m'\u001b[39m\u001b[38;5;124mw\u001b[39m\u001b[38;5;124m'\u001b[39m \u001b[38;5;129;01min\u001b[39;00m mode:\n",
      "File \u001b[0;32m~/miniforge3/envs/torch/lib/python3.8/site-packages/torch/serialization.py:211\u001b[0m, in \u001b[0;36m_open_file.__init__\u001b[0;34m(self, name, mode)\u001b[0m\n\u001b[1;32m    210\u001b[0m \u001b[38;5;28;01mdef\u001b[39;00m \u001b[38;5;21m__init__\u001b[39m(\u001b[38;5;28mself\u001b[39m, name, mode):\n\u001b[0;32m--> 211\u001b[0m     \u001b[38;5;28msuper\u001b[39m(_open_file, \u001b[38;5;28mself\u001b[39m)\u001b[38;5;241m.\u001b[39m\u001b[38;5;21m__init__\u001b[39m(\u001b[38;5;28;43mopen\u001b[39;49m\u001b[43m(\u001b[49m\u001b[43mname\u001b[49m\u001b[43m,\u001b[49m\u001b[43m \u001b[49m\u001b[43mmode\u001b[49m\u001b[43m)\u001b[49m)\n",
      "\u001b[0;31mFileNotFoundError\u001b[0m: [Errno 2] No such file or directory: '../weights/cbow_histaware_91/model.pt'"
     ]
    }
   ],
   "source": [
    "year_folder = WEIGHTS_DIR+\"91\"\n",
    "sim_word_steenkool_91 = find_similar('steenkool', year_folder)"
   ]
  },
  {
   "cell_type": "markdown",
   "id": "3dc006dc",
   "metadata": {},
   "source": [
    "### Similar words - steenkool 1995"
   ]
  },
  {
   "cell_type": "code",
   "execution_count": null,
   "id": "b20587ac",
   "metadata": {},
   "outputs": [],
   "source": [
    "year_folder = WEIGHTS_DIR+\"95\"\n",
    "sim_word_steenkool_95 = find_similar('steenkool', year_folder)"
   ]
  },
  {
   "cell_type": "markdown",
   "id": "2ccc4cbc",
   "metadata": {},
   "source": [
    "## Similar words - Gas"
   ]
  },
  {
   "cell_type": "code",
   "execution_count": 81,
   "id": "d3716d7d",
   "metadata": {},
   "outputs": [
    {
     "data": {
      "text/html": [
       "<div>\n",
       "<style scoped>\n",
       "    .dataframe tbody tr th:only-of-type {\n",
       "        vertical-align: middle;\n",
       "    }\n",
       "\n",
       "    .dataframe tbody tr th {\n",
       "        vertical-align: top;\n",
       "    }\n",
       "\n",
       "    .dataframe thead th {\n",
       "        text-align: right;\n",
       "    }\n",
       "</style>\n",
       "<table border=\"1\" class=\"dataframe\">\n",
       "  <thead>\n",
       "    <tr style=\"text-align: right;\">\n",
       "      <th></th>\n",
       "      <th>years</th>\n",
       "      <th>Similar words - Gas</th>\n",
       "    </tr>\n",
       "  </thead>\n",
       "  <tbody>\n",
       "    <tr>\n",
       "      <th>0</th>\n",
       "      <td>1960-63</td>\n",
       "      <td>[aardgas, propaangas, opwekken, gasfornuis, gaa, gas-, zeewater, gassen, water, beton]</td>\n",
       "    </tr>\n",
       "    <tr>\n",
       "      <th>1</th>\n",
       "      <td>1964-67</td>\n",
       "      <td>[aardgas, koolzuur, water, petroleum, gasveld, veld, gaa, methaan, vuur, gassen]</td>\n",
       "    </tr>\n",
       "    <tr>\n",
       "      <th>2</th>\n",
       "      <td>1968-71</td>\n",
       "      <td>[aardgas, chloorgas, propaangas, benzine, gas-, stoom, gassen, koelwater, kalium-, magnesiumzout]</td>\n",
       "    </tr>\n",
       "    <tr>\n",
       "      <th>3</th>\n",
       "      <td>1972-75</td>\n",
       "      <td>[aardgas, propaangas, poeder, Noordzeegas, methaangas, olieproducten, teerzand, koolzuur, leisteen, vinylchloride]</td>\n",
       "    </tr>\n",
       "    <tr>\n",
       "      <th>4</th>\n",
       "      <td>1976-79</td>\n",
       "      <td>[aardgas, propaangas, gasveld, propaan, formaldehydegas, gassen, stoom, spul, gat, warmte]</td>\n",
       "    </tr>\n",
       "    <tr>\n",
       "      <th>5</th>\n",
       "      <td>1980-83</td>\n",
       "      <td>[aardgas, Gas, gas-, petroleumgas, methaangas, wanbetaling, gasveld, afvalgassen, aardgas-, dampen]</td>\n",
       "    </tr>\n",
       "    <tr>\n",
       "      <th>6</th>\n",
       "      <td>1984-87</td>\n",
       "      <td>[aardgas, boorgruis, aas, drinkwater, gassen, helium, gifgas, biogas, gas-, methaangas]</td>\n",
       "    </tr>\n",
       "    <tr>\n",
       "      <th>7</th>\n",
       "      <td>1988-91</td>\n",
       "      <td>None</td>\n",
       "    </tr>\n",
       "    <tr>\n",
       "      <th>8</th>\n",
       "      <td>1992-95</td>\n",
       "      <td>None</td>\n",
       "    </tr>\n",
       "  </tbody>\n",
       "</table>\n",
       "</div>"
      ],
      "text/plain": [
       "     years  \\\n",
       "0  1960-63   \n",
       "1  1964-67   \n",
       "2  1968-71   \n",
       "3  1972-75   \n",
       "4  1976-79   \n",
       "5  1980-83   \n",
       "6  1984-87   \n",
       "7  1988-91   \n",
       "8  1992-95   \n",
       "\n",
       "                                                                                                  Similar words - Gas  \n",
       "0                              [aardgas, propaangas, opwekken, gasfornuis, gaa, gas-, zeewater, gassen, water, beton]  \n",
       "1                                    [aardgas, koolzuur, water, petroleum, gasveld, veld, gaa, methaan, vuur, gassen]  \n",
       "2                   [aardgas, chloorgas, propaangas, benzine, gas-, stoom, gassen, koelwater, kalium-, magnesiumzout]  \n",
       "3  [aardgas, propaangas, poeder, Noordzeegas, methaangas, olieproducten, teerzand, koolzuur, leisteen, vinylchloride]  \n",
       "4                          [aardgas, propaangas, gasveld, propaan, formaldehydegas, gassen, stoom, spul, gat, warmte]  \n",
       "5                 [aardgas, Gas, gas-, petroleumgas, methaangas, wanbetaling, gasveld, afvalgassen, aardgas-, dampen]  \n",
       "6                             [aardgas, boorgruis, aas, drinkwater, gassen, helium, gifgas, biogas, gas-, methaangas]  \n",
       "7                                                                                                                None  \n",
       "8                                                                                                                None  "
      ]
     },
     "execution_count": 81,
     "metadata": {},
     "output_type": "execute_result"
    }
   ],
   "source": [
    "pd.set_option('display.max_colwidth', 255)\n",
    "d = {'years':['1960-63','1964-67','1968-71','1972-75','1976-79','1980-83','1984-87','1988-91','1992-95'],\n",
    "     'Similar words - Gas':[sim_word_gas_63,sim_word_gas_67,sim_word_gas_71,sim_word_gas_75,sim_word_gas_79,sim_word_gas_83,sim_word_gas_87, None, None]}\n",
    "                      #,sim_word_gas_91,sim_word_gas_95]}\n",
    "pd.DataFrame(data=d)"
   ]
  },
  {
   "cell_type": "markdown",
   "id": "c236e3c0",
   "metadata": {},
   "source": [
    "## Similar words - aardolie"
   ]
  },
  {
   "cell_type": "code",
   "execution_count": 82,
   "id": "5f6abd71",
   "metadata": {},
   "outputs": [
    {
     "data": {
      "text/html": [
       "<div>\n",
       "<style scoped>\n",
       "    .dataframe tbody tr th:only-of-type {\n",
       "        vertical-align: middle;\n",
       "    }\n",
       "\n",
       "    .dataframe tbody tr th {\n",
       "        vertical-align: top;\n",
       "    }\n",
       "\n",
       "    .dataframe thead th {\n",
       "        text-align: right;\n",
       "    }\n",
       "</style>\n",
       "<table border=\"1\" class=\"dataframe\">\n",
       "  <thead>\n",
       "    <tr style=\"text-align: right;\">\n",
       "      <th></th>\n",
       "      <th>years</th>\n",
       "      <th>Similar words - aardolie</th>\n",
       "    </tr>\n",
       "  </thead>\n",
       "  <tbody>\n",
       "    <tr>\n",
       "      <th>0</th>\n",
       "      <td>1960-63</td>\n",
       "      <td>[olie, bruinkool, delfstoffen, olleprodukten, verscheping, oliebronnen, waterstof, bauxiet, afzet, grondstof]</td>\n",
       "    </tr>\n",
       "    <tr>\n",
       "      <th>1</th>\n",
       "      <td>1964-67</td>\n",
       "      <td>[olie, distributie, brutoproduktie, olie-, goedkoop, koolwaterstoffen, bruinkool, voedingsmiddelen, zwavel, Noordzeebodem]</td>\n",
       "    </tr>\n",
       "    <tr>\n",
       "      <th>2</th>\n",
       "      <td>1968-71</td>\n",
       "      <td>[olie, grondstoffen, stookolie, granen, Brunei, ertsen, staal, olie-aanvoer, olie-, vervaardiging]</td>\n",
       "    </tr>\n",
       "    <tr>\n",
       "      <th>3</th>\n",
       "      <td>1972-75</td>\n",
       "      <td>[olie, synthetisch, bruinkool, gasolle, West-Europa, lood, stookolie, West-Duitsland, oliereserves, eindprodukten]</td>\n",
       "    </tr>\n",
       "    <tr>\n",
       "      <th>4</th>\n",
       "      <td>1976-79</td>\n",
       "      <td>[olie, aardolie-, vliegtuigen, ertsen, methaan, steenkoolgas, grondstoffen, stookolie, olie-, energiedragers]</td>\n",
       "    </tr>\n",
       "    <tr>\n",
       "      <th>5</th>\n",
       "      <td>1980-83</td>\n",
       "      <td>[olie, stookolie, kapitaalgoederen, vloeistoffen, grondstof, produkten, kolengas, bruinkool, gasvelden, ex-dlvidend]</td>\n",
       "    </tr>\n",
       "    <tr>\n",
       "      <th>6</th>\n",
       "      <td>1984-87</td>\n",
       "      <td>[olie, olie-, edelmetalen, stookolie, veevoeders, residu, olieprodukten, energieprodukten, ijzererts, ertsen]</td>\n",
       "    </tr>\n",
       "    <tr>\n",
       "      <th>7</th>\n",
       "      <td>1988-91</td>\n",
       "      <td>None</td>\n",
       "    </tr>\n",
       "    <tr>\n",
       "      <th>8</th>\n",
       "      <td>1992-95</td>\n",
       "      <td>None</td>\n",
       "    </tr>\n",
       "  </tbody>\n",
       "</table>\n",
       "</div>"
      ],
      "text/plain": [
       "     years  \\\n",
       "0  1960-63   \n",
       "1  1964-67   \n",
       "2  1968-71   \n",
       "3  1972-75   \n",
       "4  1976-79   \n",
       "5  1980-83   \n",
       "6  1984-87   \n",
       "7  1988-91   \n",
       "8  1992-95   \n",
       "\n",
       "                                                                                                     Similar words - aardolie  \n",
       "0               [olie, bruinkool, delfstoffen, olleprodukten, verscheping, oliebronnen, waterstof, bauxiet, afzet, grondstof]  \n",
       "1  [olie, distributie, brutoproduktie, olie-, goedkoop, koolwaterstoffen, bruinkool, voedingsmiddelen, zwavel, Noordzeebodem]  \n",
       "2                          [olie, grondstoffen, stookolie, granen, Brunei, ertsen, staal, olie-aanvoer, olie-, vervaardiging]  \n",
       "3          [olie, synthetisch, bruinkool, gasolle, West-Europa, lood, stookolie, West-Duitsland, oliereserves, eindprodukten]  \n",
       "4               [olie, aardolie-, vliegtuigen, ertsen, methaan, steenkoolgas, grondstoffen, stookolie, olie-, energiedragers]  \n",
       "5        [olie, stookolie, kapitaalgoederen, vloeistoffen, grondstof, produkten, kolengas, bruinkool, gasvelden, ex-dlvidend]  \n",
       "6               [olie, olie-, edelmetalen, stookolie, veevoeders, residu, olieprodukten, energieprodukten, ijzererts, ertsen]  \n",
       "7                                                                                                                        None  \n",
       "8                                                                                                                        None  "
      ]
     },
     "execution_count": 82,
     "metadata": {},
     "output_type": "execute_result"
    }
   ],
   "source": [
    "pd.set_option('display.max_colwidth', 255)\n",
    "d = {'years':['1960-63','1964-67','1968-71','1972-75','1976-79','1980-83','1984-87','1988-91','1992-95'],\n",
    "     'Similar words - aardolie':[sim_word_aardolie_63,sim_word_aardolie_67,sim_word_aardolie_71,sim_word_aardolie_75,sim_word_aardolie_79,sim_word_aardolie_83,sim_word_aardolie_87, None, None]}\n",
    "                      #,sim_word_gas_91,sim_word_gas_95]}\n",
    "pd.DataFrame(data=d)"
   ]
  },
  {
   "cell_type": "markdown",
   "id": "2c18e04d",
   "metadata": {},
   "source": [
    "## Similar words - steenkool"
   ]
  },
  {
   "cell_type": "code",
   "execution_count": 83,
   "id": "3daf1c4e",
   "metadata": {},
   "outputs": [
    {
     "data": {
      "text/html": [
       "<div>\n",
       "<style scoped>\n",
       "    .dataframe tbody tr th:only-of-type {\n",
       "        vertical-align: middle;\n",
       "    }\n",
       "\n",
       "    .dataframe tbody tr th {\n",
       "        vertical-align: top;\n",
       "    }\n",
       "\n",
       "    .dataframe thead th {\n",
       "        text-align: right;\n",
       "    }\n",
       "</style>\n",
       "<table border=\"1\" class=\"dataframe\">\n",
       "  <thead>\n",
       "    <tr style=\"text-align: right;\">\n",
       "      <th></th>\n",
       "      <th>years</th>\n",
       "      <th>Similar words - steenkool</th>\n",
       "    </tr>\n",
       "  </thead>\n",
       "  <tbody>\n",
       "    <tr>\n",
       "      <th>0</th>\n",
       "      <td>1960-63</td>\n",
       "      <td>[kolen, steenkolen, anthraciet, huisbrandkolen, ruwe, draagvermogen, Sovjet-Unie, kernenergie, ijzererts, stikstof]</td>\n",
       "    </tr>\n",
       "    <tr>\n",
       "      <th>1</th>\n",
       "      <td>1964-67</td>\n",
       "      <td>[kolen, 32.000, cokes, industriekolen, huisbrandkolen, Emma, steenkolen, huisbrand, mijnindustrie, Groot-Brittannië]</td>\n",
       "    </tr>\n",
       "    <tr>\n",
       "      <th>2</th>\n",
       "      <td>1968-71</td>\n",
       "      <td>[kolen, cokes, steenkolen, zwavel, aardgas, import, koolstof, benzine, huisbrand, zwavelarme]</td>\n",
       "    </tr>\n",
       "    <tr>\n",
       "      <th>3</th>\n",
       "      <td>1972-75</td>\n",
       "      <td>[kolen, bruinkool, mineralen, steenkolen, leisteen, teerzand, elektriciteit, delfstoffen, aardgas, cokes]</td>\n",
       "    </tr>\n",
       "    <tr>\n",
       "      <th>4</th>\n",
       "      <td>1976-79</td>\n",
       "      <td>[kolen, steenkolen, teerzand, steenkoollagen, aardwarmte, bruinkool, mijnen, Duinkerken, zonneenergie, aardolie]</td>\n",
       "    </tr>\n",
       "    <tr>\n",
       "      <th>5</th>\n",
       "      <td>1980-83</td>\n",
       "      <td>[kolen, steenkolen, teerzand, bruinkool, methanol, steen-, fosfaten, olie-equivalent, ethanol, cadmium]</td>\n",
       "    </tr>\n",
       "    <tr>\n",
       "      <th>6</th>\n",
       "      <td>1984-87</td>\n",
       "      <td>[kolen, steenkolen, bruinkool, mica, delfstoffen, mineralen, landbouwprodukten, platina, Envoy, industrieprodukten]</td>\n",
       "    </tr>\n",
       "    <tr>\n",
       "      <th>7</th>\n",
       "      <td>1988-91</td>\n",
       "      <td>None</td>\n",
       "    </tr>\n",
       "    <tr>\n",
       "      <th>8</th>\n",
       "      <td>1992-95</td>\n",
       "      <td>None</td>\n",
       "    </tr>\n",
       "  </tbody>\n",
       "</table>\n",
       "</div>"
      ],
      "text/plain": [
       "     years  \\\n",
       "0  1960-63   \n",
       "1  1964-67   \n",
       "2  1968-71   \n",
       "3  1972-75   \n",
       "4  1976-79   \n",
       "5  1980-83   \n",
       "6  1984-87   \n",
       "7  1988-91   \n",
       "8  1992-95   \n",
       "\n",
       "                                                                                              Similar words - steenkool  \n",
       "0   [kolen, steenkolen, anthraciet, huisbrandkolen, ruwe, draagvermogen, Sovjet-Unie, kernenergie, ijzererts, stikstof]  \n",
       "1  [kolen, 32.000, cokes, industriekolen, huisbrandkolen, Emma, steenkolen, huisbrand, mijnindustrie, Groot-Brittannië]  \n",
       "2                         [kolen, cokes, steenkolen, zwavel, aardgas, import, koolstof, benzine, huisbrand, zwavelarme]  \n",
       "3             [kolen, bruinkool, mineralen, steenkolen, leisteen, teerzand, elektriciteit, delfstoffen, aardgas, cokes]  \n",
       "4      [kolen, steenkolen, teerzand, steenkoollagen, aardwarmte, bruinkool, mijnen, Duinkerken, zonneenergie, aardolie]  \n",
       "5               [kolen, steenkolen, teerzand, bruinkool, methanol, steen-, fosfaten, olie-equivalent, ethanol, cadmium]  \n",
       "6   [kolen, steenkolen, bruinkool, mica, delfstoffen, mineralen, landbouwprodukten, platina, Envoy, industrieprodukten]  \n",
       "7                                                                                                                  None  \n",
       "8                                                                                                                  None  "
      ]
     },
     "execution_count": 83,
     "metadata": {},
     "output_type": "execute_result"
    }
   ],
   "source": [
    "pd.set_option('display.max_colwidth', 255)\n",
    "d = {'years':['1960-63','1964-67','1968-71','1972-75','1976-79','1980-83','1984-87','1988-91','1992-95'],\n",
    "     'Similar words - steenkool':[sim_word_steenkool_63,sim_word_steenkool_67,sim_word_steenkool_71,sim_word_steenkool_75,sim_word_steenkool_79,sim_word_steenkool_83,sim_word_steenkool_87, None, None]}\n",
    "                      #,sim_word_gas_91,sim_word_gas_95]}\n",
    "pd.DataFrame(data=d)"
   ]
  },
  {
   "cell_type": "code",
   "execution_count": null,
   "id": "14db8298",
   "metadata": {},
   "outputs": [],
   "source": []
  }
 ],
 "metadata": {
  "environment": {
   "name": "tf2-gpu.2-3.m74",
   "type": "gcloud",
   "uri": "gcr.io/deeplearning-platform-release/tf2-gpu.2-3:m74"
  },
  "kernelspec": {
   "display_name": "torch",
   "language": "python",
   "name": "torch"
  },
  "language_info": {
   "codemirror_mode": {
    "name": "ipython",
    "version": 3
   },
   "file_extension": ".py",
   "mimetype": "text/x-python",
   "name": "python",
   "nbconvert_exporter": "python",
   "pygments_lexer": "ipython3",
   "version": "3.8.13"
  }
 },
 "nbformat": 4,
 "nbformat_minor": 5
}
