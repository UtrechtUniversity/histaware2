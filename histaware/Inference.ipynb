{
 "cells": [
  {
   "cell_type": "code",
   "execution_count": 1,
   "id": "58808130",
   "metadata": {},
   "outputs": [
    {
     "name": "stderr",
     "output_type": "stream",
     "text": [
      "/Users/Zahed001/miniforge3/envs/torch/lib/python3.8/site-packages/tqdm/auto.py:22: TqdmWarning: IProgress not found. Please update jupyter and ipywidgets. See https://ipywidgets.readthedocs.io/en/stable/user_install.html\n",
      "  from .autonotebook import tqdm as notebook_tqdm\n"
     ]
    }
   ],
   "source": [
    "import numpy as np\n",
    "import pandas as pd\n",
    "import torch\n",
    "import sys\n",
    "\n",
    "# from sklearn.manifold import TSNE\n",
    "# import plotly.graph_objects as go\n",
    "\n",
    "device = torch.device(\"cuda:0\" if torch.cuda.is_available() else \"cpu\")\n"
   ]
  },
  {
   "cell_type": "code",
   "execution_count": 2,
   "id": "6d66b1bb",
   "metadata": {},
   "outputs": [],
   "source": [
    "WEIGHTS_DIR =\"weights/cbow_histaware_\""
   ]
  },
  {
   "cell_type": "markdown",
   "id": "0f93a095",
   "metadata": {},
   "source": [
    "## Getting Embeddings"
   ]
  },
  {
   "cell_type": "code",
   "execution_count": 3,
   "id": "fb8fec7b",
   "metadata": {},
   "outputs": [],
   "source": [
    "def get_embedding(model):\n",
    "    # embedding from first model layer\n",
    "    embeddings = list(model.parameters())[0]\n",
    "    embeddings = embeddings.cpu().detach().numpy()\n",
    "\n",
    "    # normalization\n",
    "    norms = (embeddings ** 2).sum(axis=1) ** (1 / 2)\n",
    "    norms = np.reshape(norms, (len(norms), 1))\n",
    "    embeddings_norm = embeddings / norms\n",
    "    print(embeddings_norm.shape)\n",
    "    return embeddings_norm"
   ]
  },
  {
   "cell_type": "markdown",
   "id": "4c1790ce",
   "metadata": {},
   "source": [
    "# Find Similar Words"
   ]
  },
  {
   "cell_type": "code",
   "execution_count": 4,
   "id": "aa629850",
   "metadata": {},
   "outputs": [],
   "source": [
    "def get_top_similar(word: str, embeddings_norm, vocab, topN: int = 10):\n",
    "    word_id = vocab[word]\n",
    "    if word_id == 0:\n",
    "        print(\"Out of vocabulary word\")\n",
    "        return\n",
    "\n",
    "    word_vec = embeddings_norm[word_id]\n",
    "    word_vec = np.reshape(word_vec, (len(word_vec), 1))\n",
    "    dists = np.matmul(embeddings_norm, word_vec).flatten()\n",
    "    topN_ids = np.argsort(-dists)[1 : topN + 1]\n",
    "\n",
    "    topN_dict = {}\n",
    "    for sim_word_id in topN_ids:\n",
    "        sim_word = vocab.lookup_token(sim_word_id)\n",
    "        topN_dict[sim_word] = dists[sim_word_id]\n",
    "    return topN_dict"
   ]
  },
  {
   "cell_type": "code",
   "execution_count": 5,
   "id": "e409d821",
   "metadata": {},
   "outputs": [],
   "source": [
    "def find_similar(word, year_folder,topN=10):\n",
    "    model = torch.load(f\"../{year_folder}/model.pt\", map_location=device)\n",
    "    vocab = torch.load(f\"../{year_folder}/vocab.pt\")\n",
    "    embeddings_norm = get_embedding(model)\n",
    "    topnwords = [word for word, sim in get_top_similar(word,embeddings_norm, vocab, topN).items()]\n",
    "    print(topnwords)\n",
    "    return topnwords\n",
    "   "
   ]
  },
  {
   "cell_type": "markdown",
   "id": "0f347c31",
   "metadata": {},
   "source": [
    "## Similar words - aardgas"
   ]
  },
  {
   "cell_type": "markdown",
   "id": "0fa4aae5",
   "metadata": {},
   "source": [
    "### Similar words - gas 1963"
   ]
  },
  {
   "cell_type": "code",
   "execution_count": 36,
   "id": "2923b3a6",
   "metadata": {},
   "outputs": [
    {
     "name": "stdout",
     "output_type": "stream",
     "text": [
      "(28826, 300)\n",
      "['gas', 'aardgasvondst', 'gasveld', 'Noorden', 'bodemschatten', 'aardgasvoorraden', 'gasbel', 'bitumina', 'aardgasreserve', 'uranium']\n"
     ]
    }
   ],
   "source": [
    "year_folder = WEIGHTS_DIR+\"63\"\n",
    "sim_word_gas_63 = find_similar('aardgas', year_folder)"
   ]
  },
  {
   "cell_type": "markdown",
   "id": "b02606ae",
   "metadata": {},
   "source": [
    "### Similar words - gas 1967"
   ]
  },
  {
   "cell_type": "code",
   "execution_count": 37,
   "id": "bb8edeec",
   "metadata": {},
   "outputs": [
    {
     "name": "stdout",
     "output_type": "stream",
     "text": [
      "(28586, 300)\n",
      "['gas', 'gasveld', 'Slochterengas', 'kernenergie', 'gaa', 'delfstof', 'uranium', 'aardgasnet', 'winningsvergunning', 'blokverwarming']\n"
     ]
    }
   ],
   "source": [
    "year_folder = WEIGHTS_DIR+\"67\"\n",
    "sim_word_gas_67 = find_similar('aardgas', year_folder)"
   ]
  },
  {
   "cell_type": "markdown",
   "id": "4eafb76d",
   "metadata": {},
   "source": [
    "### Similar words - gas 1971"
   ]
  },
  {
   "cell_type": "code",
   "execution_count": 38,
   "id": "a9beb5ef",
   "metadata": {},
   "outputs": [
    {
     "name": "stdout",
     "output_type": "stream",
     "text": [
      "(28473, 300)\n",
      "['gas', 'gasveld', 'zwavelarme', 'magnesiumzout', 'monopolie', 'aardgasnet', 'bruinkool', 'aardgasveld', '31,4', 'benzine']\n"
     ]
    }
   ],
   "source": [
    "year_folder = WEIGHTS_DIR+\"71\"\n",
    "sim_word_gas_71 = find_similar('aardgas', year_folder)"
   ]
  },
  {
   "cell_type": "markdown",
   "id": "b76d83d3",
   "metadata": {},
   "source": [
    "### Similar words - gas 1975"
   ]
  },
  {
   "cell_type": "code",
   "execution_count": 39,
   "id": "1732ce7b",
   "metadata": {},
   "outputs": [
    {
     "name": "stdout",
     "output_type": "stream",
     "text": [
      "(26716, 300)\n",
      "['gas', 'Noordzeegas', 'gasveld', 'olieproducten', 'aardgasnet', 'steenkool', 'aardgasveld', 'gasbel', 'gasnet', 'olieprodukten']\n"
     ]
    }
   ],
   "source": [
    "year_folder = WEIGHTS_DIR+\"75\"\n",
    "sim_word_gas_75 = find_similar('aardgas', year_folder)"
   ]
  },
  {
   "cell_type": "markdown",
   "id": "5d438e16",
   "metadata": {},
   "source": [
    "### Similar words - gas 1979"
   ]
  },
  {
   "cell_type": "code",
   "execution_count": 40,
   "id": "b28894a3",
   "metadata": {},
   "outputs": [
    {
     "name": "stdout",
     "output_type": "stream",
     "text": [
      "(21924, 300)\n",
      "['gas', 'propaangas', 'gasveld', 'Noordzeegas', 'aardolieprodukten', 'LPG', 'olieprodukten', 'gasvormige', 'energie', 'kolengas']\n"
     ]
    }
   ],
   "source": [
    "year_folder = WEIGHTS_DIR+\"79\"\n",
    "sim_word_gas_79 = find_similar('aardgas', year_folder)"
   ]
  },
  {
   "cell_type": "markdown",
   "id": "b7c67603",
   "metadata": {},
   "source": [
    "### Similar words - gas 1983"
   ]
  },
  {
   "cell_type": "code",
   "execution_count": 41,
   "id": "6035fede",
   "metadata": {},
   "outputs": [
    {
     "name": "stdout",
     "output_type": "stream",
     "text": [
      "(37265, 300)\n",
      "['gas', 'exportgas', 'gasbel', 'aardgaswinning', 'grondstoffen', 'servicekosten', 'energie', 'gasvelden', 'gasveld', 'gasverkoop']\n"
     ]
    }
   ],
   "source": [
    "year_folder = WEIGHTS_DIR+\"83\"\n",
    "sim_word_gas_83 = find_similar('aardgas', year_folder)"
   ]
  },
  {
   "cell_type": "markdown",
   "id": "6e580f59",
   "metadata": {},
   "source": [
    "### Similar words - gas 1987"
   ]
  },
  {
   "cell_type": "code",
   "execution_count": 42,
   "id": "b54f39b8",
   "metadata": {},
   "outputs": [
    {
     "name": "stdout",
     "output_type": "stream",
     "text": [
      "(44278, 300)\n",
      "['gas', 'stortgas', 'gasverkoop', 'scheepvaartverkeer', 'aardgascondensaat', 'propaangas', 'biogas', 'olieproducten', 'steenzout', 'benzine']\n"
     ]
    }
   ],
   "source": [
    "year_folder = WEIGHTS_DIR+\"87\"\n",
    "sim_word_gas_87 = find_similar('aardgas', year_folder)"
   ]
  },
  {
   "cell_type": "markdown",
   "id": "f473fe9b",
   "metadata": {},
   "source": [
    "### Similar words - gas 1991"
   ]
  },
  {
   "cell_type": "code",
   "execution_count": 43,
   "id": "9872366a",
   "metadata": {},
   "outputs": [
    {
     "name": "stdout",
     "output_type": "stream",
     "text": [
      "(40437, 300)\n",
      "['gas', 'bruinkool', '73,6', 'zonne-', 'waterstof', 'tolueen', 'propaan', '2.400', 'gasreserve', 'benzine']\n"
     ]
    }
   ],
   "source": [
    "year_folder = WEIGHTS_DIR+\"91\"\n",
    "sim_word_gas_91 = find_similar('aardgas', year_folder)"
   ]
  },
  {
   "cell_type": "markdown",
   "id": "e3f7bf00",
   "metadata": {},
   "source": [
    "### Similar words - gas 1995"
   ]
  },
  {
   "cell_type": "code",
   "execution_count": 44,
   "id": "b82ed94d",
   "metadata": {},
   "outputs": [
    {
     "name": "stdout",
     "output_type": "stream",
     "text": [
      "(26882, 300)\n",
      "['gas', 'lpg', 'brandstoffen', 'reststoffen', 'energie', 'waddengas', 'aardolieprodukten', 'ingevoerde', 'verplaatst', 'gasvoorraden']\n"
     ]
    }
   ],
   "source": [
    "year_folder = WEIGHTS_DIR+\"95\"\n",
    "sim_word_gas_95 = find_similar('aardgas', year_folder)"
   ]
  },
  {
   "cell_type": "markdown",
   "id": "053a227b",
   "metadata": {},
   "source": [
    "## Similar words - aardolie\n",
    "\n",
    "### Similar words - aardolie 1963"
   ]
  },
  {
   "cell_type": "code",
   "execution_count": 15,
   "id": "153516ea",
   "metadata": {},
   "outputs": [
    {
     "name": "stdout",
     "output_type": "stream",
     "text": [
      "(28826, 300)\n",
      "['olie', 'bruinkool', 'delfstoffen', 'olleprodukten', 'verscheping', 'oliebronnen', 'waterstof', 'bauxiet', 'afzet', 'grondstof']\n"
     ]
    }
   ],
   "source": [
    "year_folder = WEIGHTS_DIR+\"63\"\n",
    "sim_word_aardolie_63 = find_similar('aardolie', year_folder)"
   ]
  },
  {
   "cell_type": "markdown",
   "id": "5bc12270",
   "metadata": {},
   "source": [
    "### Similar words - aardolie 1967"
   ]
  },
  {
   "cell_type": "code",
   "execution_count": 16,
   "id": "27741b22",
   "metadata": {},
   "outputs": [
    {
     "name": "stdout",
     "output_type": "stream",
     "text": [
      "(28586, 300)\n",
      "['olie', 'distributie', 'brutoproduktie', 'olie-', 'goedkoop', 'koolwaterstoffen', 'bruinkool', 'voedingsmiddelen', 'zwavel', 'Noordzeebodem']\n"
     ]
    }
   ],
   "source": [
    "year_folder = WEIGHTS_DIR+\"67\"\n",
    "sim_word_aardolie_67 = find_similar('aardolie', year_folder)"
   ]
  },
  {
   "cell_type": "markdown",
   "id": "c8762afb",
   "metadata": {},
   "source": [
    "### Similar words - aardolie 1971"
   ]
  },
  {
   "cell_type": "code",
   "execution_count": 17,
   "id": "607bd514",
   "metadata": {},
   "outputs": [
    {
     "name": "stdout",
     "output_type": "stream",
     "text": [
      "(28473, 300)\n",
      "['olie', 'grondstoffen', 'stookolie', 'granen', 'Brunei', 'ertsen', 'staal', 'olie-aanvoer', 'olie-', 'vervaardiging']\n"
     ]
    }
   ],
   "source": [
    "year_folder = WEIGHTS_DIR+\"71\"\n",
    "sim_word_aardolie_71 = find_similar('aardolie', year_folder)"
   ]
  },
  {
   "cell_type": "markdown",
   "id": "175fc10b",
   "metadata": {},
   "source": [
    "### Similar words - aardolie 1975"
   ]
  },
  {
   "cell_type": "code",
   "execution_count": 18,
   "id": "3e7fc295",
   "metadata": {},
   "outputs": [
    {
     "name": "stdout",
     "output_type": "stream",
     "text": [
      "(26716, 300)\n",
      "['olie', 'synthetisch', 'bruinkool', 'gasolle', 'West-Europa', 'lood', 'stookolie', 'West-Duitsland', 'oliereserves', 'eindprodukten']\n"
     ]
    }
   ],
   "source": [
    "year_folder = WEIGHTS_DIR+\"75\"\n",
    "sim_word_aardolie_75 = find_similar('aardolie', year_folder)"
   ]
  },
  {
   "cell_type": "markdown",
   "id": "97b8bf42",
   "metadata": {},
   "source": [
    "### Similar words - aardolie 1979"
   ]
  },
  {
   "cell_type": "code",
   "execution_count": 19,
   "id": "1aa12219",
   "metadata": {},
   "outputs": [
    {
     "name": "stdout",
     "output_type": "stream",
     "text": [
      "(21924, 300)\n",
      "['olie', 'aardolie-', 'vliegtuigen', 'ertsen', 'methaan', 'steenkoolgas', 'grondstoffen', 'stookolie', 'olie-', 'energiedragers']\n"
     ]
    }
   ],
   "source": [
    "year_folder = WEIGHTS_DIR+\"79\"\n",
    "sim_word_aardolie_79 = find_similar('aardolie', year_folder)"
   ]
  },
  {
   "cell_type": "markdown",
   "id": "225f63c1",
   "metadata": {},
   "source": [
    "### Similar words - aardolie 1983"
   ]
  },
  {
   "cell_type": "code",
   "execution_count": 20,
   "id": "a1306dcb",
   "metadata": {},
   "outputs": [
    {
     "name": "stdout",
     "output_type": "stream",
     "text": [
      "(37265, 300)\n",
      "['olie', 'stookolie', 'kapitaalgoederen', 'vloeistoffen', 'grondstof', 'produkten', 'kolengas', 'bruinkool', 'gasvelden', 'ex-dlvidend']\n"
     ]
    }
   ],
   "source": [
    "year_folder = WEIGHTS_DIR+\"83\"\n",
    "sim_word_aardolie_83 = find_similar('aardolie', year_folder)"
   ]
  },
  {
   "cell_type": "markdown",
   "id": "20d858b2",
   "metadata": {},
   "source": [
    "### Similar words - aardolie 1987"
   ]
  },
  {
   "cell_type": "code",
   "execution_count": 21,
   "id": "58d599c2",
   "metadata": {},
   "outputs": [
    {
     "name": "stdout",
     "output_type": "stream",
     "text": [
      "(44278, 300)\n",
      "['olie', 'olie-', 'edelmetalen', 'stookolie', 'veevoeders', 'residu', 'olieprodukten', 'energieprodukten', 'ijzererts', 'ertsen']\n"
     ]
    }
   ],
   "source": [
    "year_folder = WEIGHTS_DIR+\"87\"\n",
    "sim_word_aardolie_87 = find_similar('aardolie', year_folder)"
   ]
  },
  {
   "cell_type": "markdown",
   "id": "d7560a21",
   "metadata": {},
   "source": [
    "### Similar words - aardolie 1991"
   ]
  },
  {
   "cell_type": "code",
   "execution_count": 22,
   "id": "f5b07cc9",
   "metadata": {},
   "outputs": [
    {
     "name": "stdout",
     "output_type": "stream",
     "text": [
      "(40437, 300)\n",
      "['olie', 'dieselolie', 'ohe', 'geachte', 'plastics', 'stookolie', 'ethyleen', 'nettoproduktie', 'componenten', 'afvoer']\n"
     ]
    }
   ],
   "source": [
    "year_folder = WEIGHTS_DIR+\"91\"\n",
    "sim_word_aardolie_91 = find_similar('aardolie', year_folder)"
   ]
  },
  {
   "cell_type": "markdown",
   "id": "5c4b8e37",
   "metadata": {},
   "source": [
    "### Similar words - aardolie 1995"
   ]
  },
  {
   "cell_type": "code",
   "execution_count": 23,
   "id": "a685ac7c",
   "metadata": {},
   "outputs": [
    {
     "name": "stdout",
     "output_type": "stream",
     "text": [
      "(26882, 300)\n",
      "['olie', 'ertsen', 'Opsporing', 'massagoederen', 'ƒ37,10', 'energie', 'ohe', 'aluminium', 'bruinkool', 'dieselolie']\n"
     ]
    }
   ],
   "source": [
    "year_folder = WEIGHTS_DIR+\"95\"\n",
    "sim_word_aardolie_95 = find_similar('aardolie', year_folder)"
   ]
  },
  {
   "cell_type": "markdown",
   "id": "2e889ce6",
   "metadata": {},
   "source": [
    "## Similar words - steenkool\n",
    "\n",
    "### Similar words - steenkool 1963"
   ]
  },
  {
   "cell_type": "code",
   "execution_count": 24,
   "id": "10cd922c",
   "metadata": {},
   "outputs": [
    {
     "name": "stdout",
     "output_type": "stream",
     "text": [
      "(28826, 300)\n",
      "['kolen', 'steenkolen', 'anthraciet', 'huisbrandkolen', 'ruwe', 'draagvermogen', 'Sovjet-Unie', 'kernenergie', 'ijzererts', 'stikstof']\n"
     ]
    }
   ],
   "source": [
    "year_folder = WEIGHTS_DIR+\"63\"\n",
    "sim_word_steenkool_63 = find_similar('steenkool', year_folder)"
   ]
  },
  {
   "cell_type": "markdown",
   "id": "3d2e11e2",
   "metadata": {},
   "source": [
    "### Similar words - steenkool 1967"
   ]
  },
  {
   "cell_type": "code",
   "execution_count": 25,
   "id": "4a13d14e",
   "metadata": {},
   "outputs": [
    {
     "name": "stdout",
     "output_type": "stream",
     "text": [
      "(28586, 300)\n",
      "['kolen', '32.000', 'cokes', 'industriekolen', 'huisbrandkolen', 'Emma', 'steenkolen', 'huisbrand', 'mijnindustrie', 'Groot-Brittannië']\n"
     ]
    }
   ],
   "source": [
    "year_folder = WEIGHTS_DIR+\"67\"\n",
    "sim_word_steenkool_67 = find_similar('steenkool', year_folder)"
   ]
  },
  {
   "cell_type": "markdown",
   "id": "35703f0d",
   "metadata": {},
   "source": [
    "### Similar words - steenkool 1971"
   ]
  },
  {
   "cell_type": "code",
   "execution_count": 26,
   "id": "2d13f315",
   "metadata": {},
   "outputs": [
    {
     "name": "stdout",
     "output_type": "stream",
     "text": [
      "(28473, 300)\n",
      "['kolen', 'cokes', 'steenkolen', 'zwavel', 'aardgas', 'import', 'koolstof', 'benzine', 'huisbrand', 'zwavelarme']\n"
     ]
    }
   ],
   "source": [
    "year_folder = WEIGHTS_DIR+\"71\"\n",
    "sim_word_steenkool_71 = find_similar('steenkool', year_folder)"
   ]
  },
  {
   "cell_type": "markdown",
   "id": "565b26c4",
   "metadata": {},
   "source": [
    "### Similar words - steenkool 1975"
   ]
  },
  {
   "cell_type": "code",
   "execution_count": 27,
   "id": "7d0a63ee",
   "metadata": {},
   "outputs": [
    {
     "name": "stdout",
     "output_type": "stream",
     "text": [
      "(26716, 300)\n",
      "['kolen', 'bruinkool', 'mineralen', 'steenkolen', 'leisteen', 'teerzand', 'elektriciteit', 'delfstoffen', 'aardgas', 'cokes']\n"
     ]
    }
   ],
   "source": [
    "year_folder = WEIGHTS_DIR+\"75\"\n",
    "sim_word_steenkool_75 = find_similar('steenkool', year_folder)"
   ]
  },
  {
   "cell_type": "markdown",
   "id": "426dc632",
   "metadata": {},
   "source": [
    "### Similar words - steenkool 1979"
   ]
  },
  {
   "cell_type": "code",
   "execution_count": 28,
   "id": "88276f45",
   "metadata": {},
   "outputs": [
    {
     "name": "stdout",
     "output_type": "stream",
     "text": [
      "(21924, 300)\n",
      "['kolen', 'steenkolen', 'teerzand', 'steenkoollagen', 'aardwarmte', 'bruinkool', 'mijnen', 'Duinkerken', 'zonneenergie', 'aardolie']\n"
     ]
    }
   ],
   "source": [
    "year_folder = WEIGHTS_DIR+\"79\"\n",
    "sim_word_steenkool_79 = find_similar('steenkool', year_folder)"
   ]
  },
  {
   "cell_type": "markdown",
   "id": "3557e9c0",
   "metadata": {},
   "source": [
    "### Similar words - steenkool 1983"
   ]
  },
  {
   "cell_type": "code",
   "execution_count": 29,
   "id": "4b15dff0",
   "metadata": {},
   "outputs": [
    {
     "name": "stdout",
     "output_type": "stream",
     "text": [
      "(37265, 300)\n",
      "['kolen', 'steenkolen', 'teerzand', 'bruinkool', 'methanol', 'steen-', 'fosfaten', 'olie-equivalent', 'ethanol', 'cadmium']\n"
     ]
    }
   ],
   "source": [
    "year_folder = WEIGHTS_DIR+\"83\"\n",
    "sim_word_steenkool_83 = find_similar('steenkool', year_folder)"
   ]
  },
  {
   "cell_type": "markdown",
   "id": "3ac3c8c1",
   "metadata": {},
   "source": [
    "### Similar words - steenkool 1987"
   ]
  },
  {
   "cell_type": "code",
   "execution_count": 30,
   "id": "bed4fdc0",
   "metadata": {},
   "outputs": [
    {
     "name": "stdout",
     "output_type": "stream",
     "text": [
      "(44278, 300)\n",
      "['kolen', 'steenkolen', 'bruinkool', 'mica', 'delfstoffen', 'mineralen', 'landbouwprodukten', 'platina', 'Envoy', 'industrieprodukten']\n"
     ]
    }
   ],
   "source": [
    "year_folder = WEIGHTS_DIR+\"87\"\n",
    "sim_word_steenkool_87 = find_similar('steenkool', year_folder)"
   ]
  },
  {
   "cell_type": "markdown",
   "id": "22c9a243",
   "metadata": {},
   "source": [
    "### Similar words - steenkool 1991"
   ]
  },
  {
   "cell_type": "code",
   "execution_count": 31,
   "id": "7d0d6a78",
   "metadata": {},
   "outputs": [
    {
     "name": "stdout",
     "output_type": "stream",
     "text": [
      "(40437, 300)\n",
      "['kolen', 'steenkolen', 'platina', 'kassen', 'cadmium', 'uitvoer', 'goudmijnen', 'huishoudingen', 'kalk', 'suiker']\n"
     ]
    }
   ],
   "source": [
    "year_folder = WEIGHTS_DIR+\"91\"\n",
    "sim_word_steenkool_91 = find_similar('steenkool', year_folder)"
   ]
  },
  {
   "cell_type": "markdown",
   "id": "3dc006dc",
   "metadata": {},
   "source": [
    "### Similar words - steenkool 1995"
   ]
  },
  {
   "cell_type": "code",
   "execution_count": 32,
   "id": "b20587ac",
   "metadata": {},
   "outputs": [
    {
     "name": "stdout",
     "output_type": "stream",
     "text": [
      "(26882, 300)\n",
      "['kolen', 'landbouwprodukten', 'graan', 'kunstmest', 'upstream', 'Unox', 'oplosmiddelen', '260.000', 'oliehoudende', 'excl']\n"
     ]
    }
   ],
   "source": [
    "year_folder = WEIGHTS_DIR+\"95\"\n",
    "sim_word_steenkool_95 = find_similar('steenkool', year_folder)"
   ]
  },
  {
   "cell_type": "markdown",
   "id": "2ccc4cbc",
   "metadata": {},
   "source": [
    "## Similar words - Gas"
   ]
  },
  {
   "cell_type": "code",
   "execution_count": 49,
   "id": "d3716d7d",
   "metadata": {},
   "outputs": [],
   "source": [
    "pd.set_option('display.max_colwidth', 255)\n",
    "d = {'years':['1960-63','1964-67','1968-71','1972-75','1976-79','1980-83','1984-87','1988-91','1992-95'],\n",
    "     'Similar words - aardgas':[sim_word_gas_63,sim_word_gas_67,sim_word_gas_71,sim_word_gas_75,sim_word_gas_79,sim_word_gas_83,sim_word_gas_87\n",
    "                      ,sim_word_gas_91,sim_word_gas_95]}\n",
    "df_gas = pd.DataFrame(data=d)\n",
    "df_gas.to_csv('gas.csv')"
   ]
  },
  {
   "cell_type": "markdown",
   "id": "c236e3c0",
   "metadata": {},
   "source": [
    "## Similar words - aardolie"
   ]
  },
  {
   "cell_type": "code",
   "execution_count": 50,
   "id": "5f6abd71",
   "metadata": {},
   "outputs": [],
   "source": [
    "pd.set_option('display.max_colwidth', 255)\n",
    "d = {'years':['1960-63','1964-67','1968-71','1972-75','1976-79','1980-83','1984-87','1988-91','1992-95'],\n",
    "     'Similar words - aardolie':[sim_word_aardolie_63,sim_word_aardolie_67,sim_word_aardolie_71,sim_word_aardolie_75,sim_word_aardolie_79,sim_word_aardolie_83,sim_word_aardolie_87\n",
    "                      ,sim_word_gas_91,sim_word_gas_95]}\n",
    "df_oil =pd.DataFrame(data=d)\n",
    "df_oil.to_csv('aardolie.csv')"
   ]
  },
  {
   "cell_type": "markdown",
   "id": "2c18e04d",
   "metadata": {},
   "source": [
    "## Similar words - steenkool"
   ]
  },
  {
   "cell_type": "code",
   "execution_count": 51,
   "id": "3daf1c4e",
   "metadata": {},
   "outputs": [],
   "source": [
    "pd.set_option('display.max_colwidth', 255)\n",
    "d = {'years':['1960-63','1964-67','1968-71','1972-75','1976-79','1980-83','1984-87','1988-91','1992-95'],\n",
    "     'Similar words - steenkool':[sim_word_steenkool_63,sim_word_steenkool_67,sim_word_steenkool_71,sim_word_steenkool_75,sim_word_steenkool_79,sim_word_steenkool_83,sim_word_steenkool_87\n",
    "                      ,sim_word_gas_91,sim_word_gas_95]}\n",
    "df_coal = pd.DataFrame(data=d)\n",
    "df_coal.to_csv('steenkool.csv')"
   ]
  },
  {
   "cell_type": "code",
   "execution_count": null,
   "id": "14db8298",
   "metadata": {},
   "outputs": [],
   "source": []
  }
 ],
 "metadata": {
  "environment": {
   "name": "tf2-gpu.2-3.m74",
   "type": "gcloud",
   "uri": "gcr.io/deeplearning-platform-release/tf2-gpu.2-3:m74"
  },
  "kernelspec": {
   "display_name": "torch",
   "language": "python",
   "name": "torch"
  },
  "language_info": {
   "codemirror_mode": {
    "name": "ipython",
    "version": 3
   },
   "file_extension": ".py",
   "mimetype": "text/x-python",
   "name": "python",
   "nbconvert_exporter": "python",
   "pygments_lexer": "ipython3",
   "version": "3.8.13"
  }
 },
 "nbformat": 4,
 "nbformat_minor": 5
}
