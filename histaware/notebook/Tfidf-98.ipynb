{
 "cells": [
  {
   "cell_type": "code",
   "execution_count": 1,
   "id": "3174a224",
   "metadata": {},
   "outputs": [],
   "source": [
    "import sys\n",
    "import os\n",
    "sys.path.insert(0,'..')\n",
    "\n",
    "import pandas as pd\n",
    "from train_tfidf import train"
   ]
  },
  {
   "cell_type": "code",
   "execution_count": 2,
   "id": "5af37d6f",
   "metadata": {},
   "outputs": [],
   "source": [
    "DATA_DIR = '../../data/fuel_selected98/'"
   ]
  },
  {
   "cell_type": "markdown",
   "id": "a218f3d9",
   "metadata": {},
   "source": [
    "## Keywords 1960-63\n",
    "\n",
    "### Coal"
   ]
  },
  {
   "cell_type": "code",
   "execution_count": 3,
   "id": "7f57af6a",
   "metadata": {},
   "outputs": [
    {
     "name": "stdout",
     "output_type": "stream",
     "text": [
      "\n",
      "===Keywords===\n",
      "['percent', 'antraciet', 'dollar', 'nootje', 'ton stijging', 'benzine', 'rationalisatie', 'afvalwater', 'hoogovens', 'windkracht']\n"
     ]
    },
    {
     "name": "stderr",
     "output_type": "stream",
     "text": [
      "/Users/Zahed001/miniforge3/envs/torch/lib/python3.8/site-packages/sklearn/utils/deprecation.py:87: FutureWarning: Function get_feature_names is deprecated; get_feature_names is deprecated in 1.0 and will be removed in 1.2. Please use get_feature_names_out instead.\n",
      "  warnings.warn(msg, category=FutureWarning)\n"
     ]
    }
   ],
   "source": [
    "dir_1963 = 'tm_63'\n",
    "\n",
    "data_fp= os.path.join(DATA_DIR,dir_1963,'*coal*.csv')\n",
    "coal_63 = train(data_fp,data_fp) #"
   ]
  },
  {
   "cell_type": "markdown",
   "id": "d18ecf4f",
   "metadata": {},
   "source": [
    "### Gas"
   ]
  },
  {
   "cell_type": "code",
   "execution_count": 4,
   "id": "f48dc58c",
   "metadata": {},
   "outputs": [
    {
     "name": "stderr",
     "output_type": "stream",
     "text": [
      "/Users/Zahed001/miniforge3/envs/torch/lib/python3.8/site-packages/sklearn/utils/deprecation.py:87: FutureWarning: Function get_feature_names is deprecated; get_feature_names is deprecated in 1.0 and will be removed in 1.2. Please use get_feature_names_out instead.\n",
      "  warnings.warn(msg, category=FutureWarning)\n"
     ]
    },
    {
     "name": "stdout",
     "output_type": "stream",
     "text": [
      "\n",
      "===Keywords===\n",
      "['helaas', 'niks', 'spijk', 'heelal', 'opa', 'naalden', 'zaagsel', 'fooi', 'koppelbazen', 'zeep']\n"
     ]
    }
   ],
   "source": [
    "data_fp= os.path.join(DATA_DIR,dir_1963,'*gas*.csv')\n",
    "gas_63 = train(data_fp,data_fp)"
   ]
  },
  {
   "cell_type": "markdown",
   "id": "30e539a8",
   "metadata": {},
   "source": [
    "### Oil"
   ]
  },
  {
   "cell_type": "code",
   "execution_count": 5,
   "id": "4840cb4a",
   "metadata": {},
   "outputs": [
    {
     "name": "stderr",
     "output_type": "stream",
     "text": [
      "/Users/Zahed001/miniforge3/envs/torch/lib/python3.8/site-packages/sklearn/utils/deprecation.py:87: FutureWarning: Function get_feature_names is deprecated; get_feature_names is deprecated in 1.0 and will be removed in 1.2. Please use get_feature_names_out instead.\n",
      "  warnings.warn(msg, category=FutureWarning)\n"
     ]
    },
    {
     "name": "stdout",
     "output_type": "stream",
     "text": [
      "\n",
      "===Keywords===\n",
      "['transformator', 'frank', 'recept', 'choke', 'lagers', 'kernreactor', 'mok', 'koos', 'joden', 'bieten']\n"
     ]
    }
   ],
   "source": [
    "data_fp= os.path.join(DATA_DIR,dir_1963,'*oil*.csv')\n",
    "oil_63 = train(data_fp,data_fp)"
   ]
  },
  {
   "cell_type": "markdown",
   "id": "523ab840",
   "metadata": {},
   "source": [
    "## Keywords 1964-67\n",
    "\n",
    "### Coal"
   ]
  },
  {
   "cell_type": "code",
   "execution_count": 6,
   "id": "6ef49522",
   "metadata": {},
   "outputs": [
    {
     "name": "stdout",
     "output_type": "stream",
     "text": [
      "\n",
      "===Keywords===\n",
      "['lysine', 'kabelbaan', 'sjah', 'stofbestrijding', 'systeem', 'hoogovens', 'hoefnagels', 'min', 'embargo', 'werkloosheid']\n"
     ]
    },
    {
     "name": "stderr",
     "output_type": "stream",
     "text": [
      "/Users/Zahed001/miniforge3/envs/torch/lib/python3.8/site-packages/sklearn/utils/deprecation.py:87: FutureWarning: Function get_feature_names is deprecated; get_feature_names is deprecated in 1.0 and will be removed in 1.2. Please use get_feature_names_out instead.\n",
      "  warnings.warn(msg, category=FutureWarning)\n"
     ]
    }
   ],
   "source": [
    "dir_1967 = 'tm_67'\n",
    "\n",
    "data_fp= os.path.join(DATA_DIR,dir_1967,'*coal*.csv')\n",
    "coal_67 = train(data_fp,data_fp)"
   ]
  },
  {
   "cell_type": "markdown",
   "id": "9ce5d50f",
   "metadata": {},
   "source": [
    "### Gas"
   ]
  },
  {
   "cell_type": "code",
   "execution_count": 7,
   "id": "e0c28fd8",
   "metadata": {},
   "outputs": [
    {
     "name": "stderr",
     "output_type": "stream",
     "text": [
      "/Users/Zahed001/miniforge3/envs/torch/lib/python3.8/site-packages/sklearn/utils/deprecation.py:87: FutureWarning: Function get_feature_names is deprecated; get_feature_names is deprecated in 1.0 and will be removed in 1.2. Please use get_feature_names_out instead.\n",
      "  warnings.warn(msg, category=FutureWarning)\n"
     ]
    },
    {
     "name": "stdout",
     "output_type": "stream",
     "text": [
      "\n",
      "===Keywords===\n",
      "['lier', 'strepen', 'naalden', 'hervormde', 'aanleg aardgas', 'lysine', 'kaas', 'komeet', 'thee', 'aanklager']\n"
     ]
    }
   ],
   "source": [
    "data_fp= os.path.join(DATA_DIR,dir_1967,'*gas*.csv')\n",
    "gas_67 = train(data_fp,data_fp)"
   ]
  },
  {
   "cell_type": "markdown",
   "id": "b84b29a0",
   "metadata": {},
   "source": [
    "### Oil"
   ]
  },
  {
   "cell_type": "code",
   "execution_count": 8,
   "id": "0e5003db",
   "metadata": {},
   "outputs": [
    {
     "name": "stderr",
     "output_type": "stream",
     "text": [
      "/Users/Zahed001/miniforge3/envs/torch/lib/python3.8/site-packages/sklearn/utils/deprecation.py:87: FutureWarning: Function get_feature_names is deprecated; get_feature_names is deprecated in 1.0 and will be removed in 1.2. Please use get_feature_names_out instead.\n",
      "  warnings.warn(msg, category=FutureWarning)\n"
     ]
    },
    {
     "name": "stdout",
     "output_type": "stream",
     "text": [
      "\n",
      "===Keywords===\n",
      "['slang', 'wereldraad', 'roepia', 'kardinaal', 'arbeidskosten', 'ziekte', 'baker', 'malta']\n"
     ]
    }
   ],
   "source": [
    "data_fp= os.path.join(DATA_DIR,dir_1967,'*oil*.csv')\n",
    "oil_67 = train(data_fp,data_fp)"
   ]
  },
  {
   "cell_type": "markdown",
   "id": "153baa37",
   "metadata": {},
   "source": [
    "## Keywords 1968-71\n",
    "\n",
    "### Coal"
   ]
  },
  {
   "cell_type": "code",
   "execution_count": 9,
   "id": "2daf85ce",
   "metadata": {},
   "outputs": [
    {
     "name": "stdout",
     "output_type": "stream",
     "text": [
      "\n",
      "===Keywords===\n",
      "['benzine', 'watersport', 'miljard ton', 'pet', 'kilovolt', 'pond', 'aandeel aardgas', 'cokes', 'raffinaderijen', 'smelterij']\n"
     ]
    },
    {
     "name": "stderr",
     "output_type": "stream",
     "text": [
      "/Users/Zahed001/miniforge3/envs/torch/lib/python3.8/site-packages/sklearn/utils/deprecation.py:87: FutureWarning: Function get_feature_names is deprecated; get_feature_names is deprecated in 1.0 and will be removed in 1.2. Please use get_feature_names_out instead.\n",
      "  warnings.warn(msg, category=FutureWarning)\n"
     ]
    }
   ],
   "source": [
    "dir_1971 = 'tm_71'\n",
    "\n",
    "data_fp= os.path.join(DATA_DIR,dir_1971,'*coal*.csv')\n",
    "coal_71 = train(data_fp,data_fp)"
   ]
  },
  {
   "cell_type": "markdown",
   "id": "7008f1b3",
   "metadata": {},
   "source": [
    "### Gas"
   ]
  },
  {
   "cell_type": "code",
   "execution_count": 10,
   "id": "742b04d8",
   "metadata": {},
   "outputs": [
    {
     "name": "stderr",
     "output_type": "stream",
     "text": [
      "/Users/Zahed001/miniforge3/envs/torch/lib/python3.8/site-packages/sklearn/utils/deprecation.py:87: FutureWarning: Function get_feature_names is deprecated; get_feature_names is deprecated in 1.0 and will be removed in 1.2. Please use get_feature_names_out instead.\n",
      "  warnings.warn(msg, category=FutureWarning)\n"
     ]
    },
    {
     "name": "stdout",
     "output_type": "stream",
     "text": [
      "\n",
      "===Keywords===\n",
      "['procent', 'miljoen aardgas', 'etheen', 'dok', 'hennep', 'schoenmaker', 'zelfmoord', 'haalbaar', 'nachtkaars', 'min']\n"
     ]
    }
   ],
   "source": [
    "data_fp= os.path.join(DATA_DIR,dir_1971,'*gas*.csv')\n",
    "gas_71 = train(data_fp,data_fp)"
   ]
  },
  {
   "cell_type": "markdown",
   "id": "7d505033",
   "metadata": {},
   "source": [
    "### Oil"
   ]
  },
  {
   "cell_type": "code",
   "execution_count": 11,
   "id": "0121b653",
   "metadata": {},
   "outputs": [
    {
     "name": "stderr",
     "output_type": "stream",
     "text": [
      "/Users/Zahed001/miniforge3/envs/torch/lib/python3.8/site-packages/sklearn/utils/deprecation.py:87: FutureWarning: Function get_feature_names is deprecated; get_feature_names is deprecated in 1.0 and will be removed in 1.2. Please use get_feature_names_out instead.\n",
      "  warnings.warn(msg, category=FutureWarning)\n"
     ]
    },
    {
     "name": "stdout",
     "output_type": "stream",
     "text": [
      "\n",
      "===Keywords===\n",
      "['beklaagde', 'lieveheersbeestjes', 'rebbe', 'binnenlopen', 'miljard ton', 'verzetsbeweging', 'aanvallen', 'oranje']\n"
     ]
    }
   ],
   "source": [
    "data_fp= os.path.join(DATA_DIR,dir_1971,'*oil*.csv')\n",
    "oil_71 = train(data_fp,data_fp)"
   ]
  },
  {
   "cell_type": "markdown",
   "id": "1c3d37bb",
   "metadata": {},
   "source": [
    "## Keywords 1972-75\n",
    "\n",
    "### Coal"
   ]
  },
  {
   "cell_type": "code",
   "execution_count": 12,
   "id": "7cce003b",
   "metadata": {},
   "outputs": [
    {
     "name": "stdout",
     "output_type": "stream",
     "text": [
      "\n",
      "===Keywords===\n",
      "['methanol', 'afvalwater', 'platforms', 'wijs', 'waterstof', 'min ton', 'we moeten', 'zomertijd', 'stookolie moeten', 'chemie']\n"
     ]
    },
    {
     "name": "stderr",
     "output_type": "stream",
     "text": [
      "/Users/Zahed001/miniforge3/envs/torch/lib/python3.8/site-packages/sklearn/utils/deprecation.py:87: FutureWarning: Function get_feature_names is deprecated; get_feature_names is deprecated in 1.0 and will be removed in 1.2. Please use get_feature_names_out instead.\n",
      "  warnings.warn(msg, category=FutureWarning)\n"
     ]
    }
   ],
   "source": [
    "dir_1975 = 'tm_75'\n",
    "\n",
    "data_fp= os.path.join(DATA_DIR,dir_1975,'*coal*.csv')\n",
    "coal_75 = train(data_fp,data_fp)"
   ]
  },
  {
   "cell_type": "markdown",
   "id": "b611207b",
   "metadata": {},
   "source": [
    "### Gas"
   ]
  },
  {
   "cell_type": "code",
   "execution_count": 13,
   "id": "e2f3d836",
   "metadata": {},
   "outputs": [
    {
     "name": "stderr",
     "output_type": "stream",
     "text": [
      "/Users/Zahed001/miniforge3/envs/torch/lib/python3.8/site-packages/sklearn/utils/deprecation.py:87: FutureWarning: Function get_feature_names is deprecated; get_feature_names is deprecated in 1.0 and will be removed in 1.2. Please use get_feature_names_out instead.\n",
      "  warnings.warn(msg, category=FutureWarning)\n"
     ]
    },
    {
     "name": "stdout",
     "output_type": "stream",
     "text": [
      "\n",
      "===Keywords===\n",
      "['aardgas nodig', 'komeet', 'bomen', 'werden gemaakt', 'tekenen', 'bisschop', 'paneel', 'zonde', 'remise', 'gemaal']\n"
     ]
    }
   ],
   "source": [
    "data_fp= os.path.join(DATA_DIR,dir_1975,'*gas*.csv')\n",
    "gas_75 = train(data_fp,data_fp)"
   ]
  },
  {
   "cell_type": "markdown",
   "id": "308762eb",
   "metadata": {},
   "source": [
    "### Oil"
   ]
  },
  {
   "cell_type": "code",
   "execution_count": 14,
   "id": "d773d7ff",
   "metadata": {},
   "outputs": [
    {
     "name": "stderr",
     "output_type": "stream",
     "text": [
      "/Users/Zahed001/miniforge3/envs/torch/lib/python3.8/site-packages/sklearn/utils/deprecation.py:87: FutureWarning: Function get_feature_names is deprecated; get_feature_names is deprecated in 1.0 and will be removed in 1.2. Please use get_feature_names_out instead.\n",
      "  warnings.warn(msg, category=FutureWarning)\n"
     ]
    },
    {
     "name": "stdout",
     "output_type": "stream",
     "text": [
      "\n",
      "===Keywords===\n",
      "['verf', 'kaarsen', 'vogels', 'bomen', 'zonde', 'methanol', 'stokvis', 'leslokalen', 'lysine', 'percent']\n"
     ]
    }
   ],
   "source": [
    "data_fp= os.path.join(DATA_DIR,dir_1975,'*oil*.csv')\n",
    "oil_75 = train(data_fp,data_fp)"
   ]
  },
  {
   "cell_type": "markdown",
   "id": "8365233d",
   "metadata": {},
   "source": [
    "## Keywords 1975-79\n",
    "\n",
    "### Coal"
   ]
  },
  {
   "cell_type": "code",
   "execution_count": 15,
   "id": "20937e8a",
   "metadata": {},
   "outputs": [
    {
     "name": "stderr",
     "output_type": "stream",
     "text": [
      "/Users/Zahed001/miniforge3/envs/torch/lib/python3.8/site-packages/sklearn/utils/deprecation.py:87: FutureWarning: Function get_feature_names is deprecated; get_feature_names is deprecated in 1.0 and will be removed in 1.2. Please use get_feature_names_out instead.\n",
      "  warnings.warn(msg, category=FutureWarning)\n"
     ]
    },
    {
     "name": "stdout",
     "output_type": "stream",
     "text": [
      "\n",
      "===Keywords===\n",
      "['eenheden', 'rekken', 'verwacht aandeel', 'we', 'rag', 'windkracht', 'procent', 'waterstof', 'vereniging', 'kredieten']\n"
     ]
    }
   ],
   "source": [
    "dir_1979 = 'tm_79'\n",
    "\n",
    "data_fp= os.path.join(DATA_DIR,dir_1979,'*coal*.csv')\n",
    "coal_79 = train(data_fp,data_fp)"
   ]
  },
  {
   "cell_type": "markdown",
   "id": "5a0c91f8",
   "metadata": {},
   "source": [
    "### Gas"
   ]
  },
  {
   "cell_type": "code",
   "execution_count": 16,
   "id": "d4646243",
   "metadata": {},
   "outputs": [
    {
     "name": "stderr",
     "output_type": "stream",
     "text": [
      "/Users/Zahed001/miniforge3/envs/torch/lib/python3.8/site-packages/sklearn/utils/deprecation.py:87: FutureWarning: Function get_feature_names is deprecated; get_feature_names is deprecated in 1.0 and will be removed in 1.2. Please use get_feature_names_out instead.\n",
      "  warnings.warn(msg, category=FutureWarning)\n"
     ]
    },
    {
     "name": "stdout",
     "output_type": "stream",
     "text": [
      "\n",
      "===Keywords===\n",
      "['wel laten', 'aardgas daarmee', 'expeditie', 'globetrotters', 'verkeerslichten', 'mild', 'etheen', 'comités', 'navajo', 'kronkel']\n"
     ]
    }
   ],
   "source": [
    "data_fp= os.path.join(DATA_DIR,dir_1979,'*gas*.csv')\n",
    "gas_79 = train(data_fp,data_fp)"
   ]
  },
  {
   "cell_type": "markdown",
   "id": "9d041e36",
   "metadata": {},
   "source": [
    "### Oil"
   ]
  },
  {
   "cell_type": "code",
   "execution_count": 17,
   "id": "f4d0c9ed",
   "metadata": {},
   "outputs": [
    {
     "name": "stderr",
     "output_type": "stream",
     "text": [
      "/Users/Zahed001/miniforge3/envs/torch/lib/python3.8/site-packages/sklearn/utils/deprecation.py:87: FutureWarning: Function get_feature_names is deprecated; get_feature_names is deprecated in 1.0 and will be removed in 1.2. Please use get_feature_names_out instead.\n",
      "  warnings.warn(msg, category=FutureWarning)\n"
     ]
    },
    {
     "name": "stdout",
     "output_type": "stream",
     "text": [
      "\n",
      "===Keywords===\n",
      "['winkeliers', 'sela', 'koolvis', 'prins', 'arbeidskosten', 'gedistilleerd', 'eden', 'joden', 'atoomenergie', 'winstbelasting']\n"
     ]
    }
   ],
   "source": [
    "data_fp= os.path.join(DATA_DIR,dir_1979,'*oil*.csv')\n",
    "oil_79 = train(data_fp,data_fp)"
   ]
  },
  {
   "cell_type": "markdown",
   "id": "65e378cf",
   "metadata": {},
   "source": [
    "## Keywords 1980-83\n",
    "\n",
    "### Coal"
   ]
  },
  {
   "cell_type": "code",
   "execution_count": 18,
   "id": "e748b407",
   "metadata": {},
   "outputs": [
    {
     "name": "stderr",
     "output_type": "stream",
     "text": [
      "/Users/Zahed001/miniforge3/envs/torch/lib/python3.8/site-packages/sklearn/utils/deprecation.py:87: FutureWarning: Function get_feature_names is deprecated; get_feature_names is deprecated in 1.0 and will be removed in 1.2. Please use get_feature_names_out instead.\n",
      "  warnings.warn(msg, category=FutureWarning)\n"
     ]
    },
    {
     "name": "stdout",
     "output_type": "stream",
     "text": [
      "\n",
      "===Keywords===\n",
      "['mineraalwater', 'stichting']\n"
     ]
    }
   ],
   "source": [
    "dir_1983 = 'tm_83'\n",
    "\n",
    "data_fp= os.path.join(DATA_DIR,dir_1983,'*coal*.csv')\n",
    "coal_83 = train(data_fp,data_fp)"
   ]
  },
  {
   "cell_type": "markdown",
   "id": "a6dba9e1",
   "metadata": {},
   "source": [
    "### Gas"
   ]
  },
  {
   "cell_type": "code",
   "execution_count": 19,
   "id": "99e852ce",
   "metadata": {},
   "outputs": [
    {
     "name": "stderr",
     "output_type": "stream",
     "text": [
      "/Users/Zahed001/miniforge3/envs/torch/lib/python3.8/site-packages/sklearn/utils/deprecation.py:87: FutureWarning: Function get_feature_names is deprecated; get_feature_names is deprecated in 1.0 and will be removed in 1.2. Please use get_feature_names_out instead.\n",
      "  warnings.warn(msg, category=FutureWarning)\n"
     ]
    },
    {
     "name": "stdout",
     "output_type": "stream",
     "text": [
      "\n",
      "===Keywords===\n",
      "['verwacht', 'renner', 'molens', 'onteigenen']\n"
     ]
    }
   ],
   "source": [
    "data_fp= os.path.join(DATA_DIR,dir_1983,'*gas*.csv')\n",
    "gas_83 = train(data_fp,data_fp)"
   ]
  },
  {
   "cell_type": "markdown",
   "id": "25ccfdf6",
   "metadata": {},
   "source": [
    "### Oil"
   ]
  },
  {
   "cell_type": "code",
   "execution_count": 20,
   "id": "ee82ef04",
   "metadata": {},
   "outputs": [
    {
     "name": "stdout",
     "output_type": "stream",
     "text": [
      "\n",
      "===Keywords===\n",
      "['procent', 'elektrische', 'miljard ton', 'kolencentrales', 'elektrische energie', 'cent', 'kolen', 'miljard']\n"
     ]
    },
    {
     "name": "stderr",
     "output_type": "stream",
     "text": [
      "/Users/Zahed001/miniforge3/envs/torch/lib/python3.8/site-packages/sklearn/utils/deprecation.py:87: FutureWarning: Function get_feature_names is deprecated; get_feature_names is deprecated in 1.0 and will be removed in 1.2. Please use get_feature_names_out instead.\n",
      "  warnings.warn(msg, category=FutureWarning)\n"
     ]
    }
   ],
   "source": [
    "data_fp= os.path.join(DATA_DIR,dir_1983,'*oil*.csv')\n",
    "oil_83 = train(data_fp,data_fp)"
   ]
  },
  {
   "cell_type": "markdown",
   "id": "2eb131a1",
   "metadata": {},
   "source": [
    "## Keywords 1984-87\n",
    "\n",
    "### Coal"
   ]
  },
  {
   "cell_type": "code",
   "execution_count": 21,
   "id": "aad553cb",
   "metadata": {},
   "outputs": [
    {
     "name": "stderr",
     "output_type": "stream",
     "text": [
      "/Users/Zahed001/miniforge3/envs/torch/lib/python3.8/site-packages/sklearn/utils/deprecation.py:87: FutureWarning: Function get_feature_names is deprecated; get_feature_names is deprecated in 1.0 and will be removed in 1.2. Please use get_feature_names_out instead.\n",
      "  warnings.warn(msg, category=FutureWarning)\n"
     ]
    },
    {
     "name": "stdout",
     "output_type": "stream",
     "text": [
      "\n",
      "===Keywords===\n",
      "['grind', 'vliegas']\n"
     ]
    }
   ],
   "source": [
    "dir_1987 = 'tm_87'\n",
    "\n",
    "data_fp= os.path.join(DATA_DIR,dir_1987,'*coal*.csv')\n",
    "coal_87 = train(data_fp,data_fp)"
   ]
  },
  {
   "cell_type": "markdown",
   "id": "8f360fad",
   "metadata": {},
   "source": [
    "### Gas"
   ]
  },
  {
   "cell_type": "code",
   "execution_count": 22,
   "id": "136a0ebc",
   "metadata": {},
   "outputs": [
    {
     "name": "stderr",
     "output_type": "stream",
     "text": [
      "/Users/Zahed001/miniforge3/envs/torch/lib/python3.8/site-packages/sklearn/utils/deprecation.py:87: FutureWarning: Function get_feature_names is deprecated; get_feature_names is deprecated in 1.0 and will be removed in 1.2. Please use get_feature_names_out instead.\n",
      "  warnings.warn(msg, category=FutureWarning)\n"
     ]
    },
    {
     "name": "stdout",
     "output_type": "stream",
     "text": [
      "\n",
      "===Keywords===\n",
      "['freon', 'miljard aardgas', 'taks', 'zwemblaas']\n"
     ]
    }
   ],
   "source": [
    "data_fp= os.path.join(DATA_DIR,dir_1987,'*gas*.csv')\n",
    "gas_87 = train(data_fp,data_fp)"
   ]
  },
  {
   "cell_type": "markdown",
   "id": "44777b1e",
   "metadata": {},
   "source": [
    "### Oil"
   ]
  },
  {
   "cell_type": "code",
   "execution_count": 23,
   "id": "32906f34",
   "metadata": {},
   "outputs": [
    {
     "name": "stdout",
     "output_type": "stream",
     "text": [
      "\n",
      "===Keywords===\n",
      "['dollar', 'miljoen', 'rapport', 'kolen', 'project', 'miljoen ton', 'kolencentrales', 'omgezet', 'dag']\n"
     ]
    },
    {
     "name": "stderr",
     "output_type": "stream",
     "text": [
      "/Users/Zahed001/miniforge3/envs/torch/lib/python3.8/site-packages/sklearn/utils/deprecation.py:87: FutureWarning: Function get_feature_names is deprecated; get_feature_names is deprecated in 1.0 and will be removed in 1.2. Please use get_feature_names_out instead.\n",
      "  warnings.warn(msg, category=FutureWarning)\n"
     ]
    }
   ],
   "source": [
    "data_fp= os.path.join(DATA_DIR,dir_1987,'*oil*.csv')\n",
    "oil_87 = train(data_fp,data_fp)"
   ]
  },
  {
   "cell_type": "markdown",
   "id": "d0d0f900",
   "metadata": {},
   "source": [
    "## Keywords 1988-91\n",
    "\n",
    "### Coal"
   ]
  },
  {
   "cell_type": "code",
   "execution_count": 24,
   "id": "4db745b6",
   "metadata": {},
   "outputs": [
    {
     "name": "stderr",
     "output_type": "stream",
     "text": [
      "/Users/Zahed001/miniforge3/envs/torch/lib/python3.8/site-packages/sklearn/utils/deprecation.py:87: FutureWarning: Function get_feature_names is deprecated; get_feature_names is deprecated in 1.0 and will be removed in 1.2. Please use get_feature_names_out instead.\n",
      "  warnings.warn(msg, category=FutureWarning)\n"
     ]
    },
    {
     "name": "stdout",
     "output_type": "stream",
     "text": [
      "\n",
      "===Keywords===\n",
      "['enci', 'handvest', 'pitch', 'waterstof']\n"
     ]
    }
   ],
   "source": [
    "dir_1991 = 'tm_91'\n",
    "\n",
    "data_fp= os.path.join(DATA_DIR,dir_1991,'*coal*.csv')\n",
    "coal_91 = train(data_fp,data_fp)"
   ]
  },
  {
   "cell_type": "markdown",
   "id": "18712824",
   "metadata": {},
   "source": [
    "### Gas"
   ]
  },
  {
   "cell_type": "code",
   "execution_count": 25,
   "id": "bed1a9a0",
   "metadata": {},
   "outputs": [
    {
     "name": "stderr",
     "output_type": "stream",
     "text": [
      "/Users/Zahed001/miniforge3/envs/torch/lib/python3.8/site-packages/sklearn/utils/deprecation.py:87: FutureWarning: Function get_feature_names is deprecated; get_feature_names is deprecated in 1.0 and will be removed in 1.2. Please use get_feature_names_out instead.\n",
      "  warnings.warn(msg, category=FutureWarning)\n"
     ]
    },
    {
     "name": "stdout",
     "output_type": "stream",
     "text": [
      "\n",
      "===Keywords===\n",
      "['kleed', 'minder meter', 'vrg', 'vietnam', 'roebel', 'aftrekbaar', 'serre']\n"
     ]
    }
   ],
   "source": [
    "data_fp= os.path.join(DATA_DIR,dir_1991,'*gas*.csv')\n",
    "gas_91 = train(data_fp,data_fp)"
   ]
  },
  {
   "cell_type": "markdown",
   "id": "def18d36",
   "metadata": {},
   "source": [
    "### Oil"
   ]
  },
  {
   "cell_type": "code",
   "execution_count": 26,
   "id": "7c47f8de",
   "metadata": {},
   "outputs": [
    {
     "name": "stderr",
     "output_type": "stream",
     "text": [
      "/Users/Zahed001/miniforge3/envs/torch/lib/python3.8/site-packages/sklearn/utils/deprecation.py:87: FutureWarning: Function get_feature_names is deprecated; get_feature_names is deprecated in 1.0 and will be removed in 1.2. Please use get_feature_names_out instead.\n",
      "  warnings.warn(msg, category=FutureWarning)\n"
     ]
    },
    {
     "name": "stdout",
     "output_type": "stream",
     "text": [
      "\n",
      "===Keywords===\n",
      "['dc', 'bernard']\n"
     ]
    }
   ],
   "source": [
    "data_fp= os.path.join(DATA_DIR,dir_1991,'*oil*.csv')\n",
    "oil_91 = train(data_fp,data_fp)"
   ]
  },
  {
   "cell_type": "markdown",
   "id": "a4378c0e",
   "metadata": {},
   "source": [
    "## Keywords 1992-95\n",
    "### Coal"
   ]
  },
  {
   "cell_type": "code",
   "execution_count": 27,
   "id": "5ce5d4e9",
   "metadata": {},
   "outputs": [
    {
     "name": "stdout",
     "output_type": "stream",
     "text": [
      "\n",
      "===Keywords===\n",
      "['pdvsa', 'waterstof', 'mijnen', 'cent']\n"
     ]
    },
    {
     "name": "stderr",
     "output_type": "stream",
     "text": [
      "/Users/Zahed001/miniforge3/envs/torch/lib/python3.8/site-packages/sklearn/utils/deprecation.py:87: FutureWarning: Function get_feature_names is deprecated; get_feature_names is deprecated in 1.0 and will be removed in 1.2. Please use get_feature_names_out instead.\n",
      "  warnings.warn(msg, category=FutureWarning)\n"
     ]
    }
   ],
   "source": [
    "dir_1995= 'tm_95'\n",
    "\n",
    "data_fp= os.path.join(DATA_DIR,dir_1995,'*coal*.csv')\n",
    "coal_95 = train(data_fp,data_fp)"
   ]
  },
  {
   "cell_type": "markdown",
   "id": "245f73b9",
   "metadata": {},
   "source": [
    "### Gas"
   ]
  },
  {
   "cell_type": "code",
   "execution_count": 28,
   "id": "8af52cc5",
   "metadata": {},
   "outputs": [
    {
     "name": "stderr",
     "output_type": "stream",
     "text": [
      "/Users/Zahed001/miniforge3/envs/torch/lib/python3.8/site-packages/sklearn/utils/deprecation.py:87: FutureWarning: Function get_feature_names is deprecated; get_feature_names is deprecated in 1.0 and will be removed in 1.2. Please use get_feature_names_out instead.\n",
      "  warnings.warn(msg, category=FutureWarning)\n"
     ]
    },
    {
     "name": "stdout",
     "output_type": "stream",
     "text": [
      "\n",
      "===Keywords===\n",
      "['nf', 'kippernest', 'gdv', 'nedlloyd', 'dc', 'spitbs', 'db', 'vierhizen', 'komineft']\n"
     ]
    }
   ],
   "source": [
    "data_fp= os.path.join(DATA_DIR,dir_1995,'*gas*.csv')\n",
    "gas_95 = train(data_fp,data_fp)"
   ]
  },
  {
   "cell_type": "markdown",
   "id": "00dcd8e3",
   "metadata": {},
   "source": [
    "### Oil"
   ]
  },
  {
   "cell_type": "code",
   "execution_count": 29,
   "id": "abd3d6db",
   "metadata": {},
   "outputs": [
    {
     "name": "stderr",
     "output_type": "stream",
     "text": [
      "/Users/Zahed001/miniforge3/envs/torch/lib/python3.8/site-packages/sklearn/utils/deprecation.py:87: FutureWarning: Function get_feature_names is deprecated; get_feature_names is deprecated in 1.0 and will be removed in 1.2. Please use get_feature_names_out instead.\n",
      "  warnings.warn(msg, category=FutureWarning)\n"
     ]
    },
    {
     "name": "stdout",
     "output_type": "stream",
     "text": [
      "\n",
      "===Keywords===\n",
      "['nf']\n"
     ]
    }
   ],
   "source": [
    "data_fp= os.path.join(DATA_DIR,dir_1995,'*oil*.csv')\n",
    "oil_95 = train(data_fp,data_fp)"
   ]
  },
  {
   "cell_type": "markdown",
   "id": "e6c1a755",
   "metadata": {},
   "source": [
    "## List of keywords - Coal"
   ]
  },
  {
   "cell_type": "code",
   "execution_count": 30,
   "id": "f1b2094f",
   "metadata": {},
   "outputs": [
    {
     "data": {
      "text/html": [
       "<div>\n",
       "<style scoped>\n",
       "    .dataframe tbody tr th:only-of-type {\n",
       "        vertical-align: middle;\n",
       "    }\n",
       "\n",
       "    .dataframe tbody tr th {\n",
       "        vertical-align: top;\n",
       "    }\n",
       "\n",
       "    .dataframe thead th {\n",
       "        text-align: right;\n",
       "    }\n",
       "</style>\n",
       "<table border=\"1\" class=\"dataframe\">\n",
       "  <thead>\n",
       "    <tr style=\"text-align: right;\">\n",
       "      <th></th>\n",
       "      <th>years</th>\n",
       "      <th>keywords-Coal</th>\n",
       "    </tr>\n",
       "  </thead>\n",
       "  <tbody>\n",
       "    <tr>\n",
       "      <th>0</th>\n",
       "      <td>1960-63</td>\n",
       "      <td>[percent, antraciet, dollar, nootje, ton stijging, benzine, rationalisatie, afvalwater, hoogovens, windkracht]</td>\n",
       "    </tr>\n",
       "    <tr>\n",
       "      <th>1</th>\n",
       "      <td>1964-67</td>\n",
       "      <td>[lysine, kabelbaan, sjah, stofbestrijding, systeem, hoogovens, hoefnagels, min, embargo, werkloosheid]</td>\n",
       "    </tr>\n",
       "    <tr>\n",
       "      <th>2</th>\n",
       "      <td>1968-71</td>\n",
       "      <td>[benzine, watersport, miljard ton, pet, kilovolt, pond, aandeel aardgas, cokes, raffinaderijen, smelterij]</td>\n",
       "    </tr>\n",
       "    <tr>\n",
       "      <th>3</th>\n",
       "      <td>1972-75</td>\n",
       "      <td>[methanol, afvalwater, platforms, wijs, waterstof, min ton, we moeten, zomertijd, stookolie moeten, chemie]</td>\n",
       "    </tr>\n",
       "    <tr>\n",
       "      <th>4</th>\n",
       "      <td>1976-79</td>\n",
       "      <td>[eenheden, rekken, verwacht aandeel, we, rag, windkracht, procent, waterstof, vereniging, kredieten]</td>\n",
       "    </tr>\n",
       "    <tr>\n",
       "      <th>5</th>\n",
       "      <td>1980-83</td>\n",
       "      <td>[mineraalwater, stichting]</td>\n",
       "    </tr>\n",
       "    <tr>\n",
       "      <th>6</th>\n",
       "      <td>1984-87</td>\n",
       "      <td>[grind, vliegas]</td>\n",
       "    </tr>\n",
       "    <tr>\n",
       "      <th>7</th>\n",
       "      <td>1988-91</td>\n",
       "      <td>[enci, handvest, pitch, waterstof]</td>\n",
       "    </tr>\n",
       "    <tr>\n",
       "      <th>8</th>\n",
       "      <td>1992-95</td>\n",
       "      <td>[pdvsa, waterstof, mijnen, cent]</td>\n",
       "    </tr>\n",
       "  </tbody>\n",
       "</table>\n",
       "</div>"
      ],
      "text/plain": [
       "     years  \\\n",
       "0  1960-63   \n",
       "1  1964-67   \n",
       "2  1968-71   \n",
       "3  1972-75   \n",
       "4  1976-79   \n",
       "5  1980-83   \n",
       "6  1984-87   \n",
       "7  1988-91   \n",
       "8  1992-95   \n",
       "\n",
       "                                                                                                    keywords-Coal  \n",
       "0  [percent, antraciet, dollar, nootje, ton stijging, benzine, rationalisatie, afvalwater, hoogovens, windkracht]  \n",
       "1          [lysine, kabelbaan, sjah, stofbestrijding, systeem, hoogovens, hoefnagels, min, embargo, werkloosheid]  \n",
       "2      [benzine, watersport, miljard ton, pet, kilovolt, pond, aandeel aardgas, cokes, raffinaderijen, smelterij]  \n",
       "3     [methanol, afvalwater, platforms, wijs, waterstof, min ton, we moeten, zomertijd, stookolie moeten, chemie]  \n",
       "4            [eenheden, rekken, verwacht aandeel, we, rag, windkracht, procent, waterstof, vereniging, kredieten]  \n",
       "5                                                                                      [mineraalwater, stichting]  \n",
       "6                                                                                                [grind, vliegas]  \n",
       "7                                                                              [enci, handvest, pitch, waterstof]  \n",
       "8                                                                                [pdvsa, waterstof, mijnen, cent]  "
      ]
     },
     "execution_count": 30,
     "metadata": {},
     "output_type": "execute_result"
    }
   ],
   "source": [
    "pd.set_option('display.max_colwidth', 255)\n",
    "d = {'years':['1960-63','1964-67','1968-71','1972-75','1976-79','1980-83','1984-87','1988-91','1992-95'],\n",
    "     'keywords-Coal':[coal_63,coal_67,coal_71,coal_75,coal_79,coal_83,coal_87,coal_91,coal_95]}\n",
    "pd.DataFrame(data=d)"
   ]
  },
  {
   "cell_type": "markdown",
   "id": "99a56fbf",
   "metadata": {},
   "source": [
    "## List of keywords - Gas"
   ]
  },
  {
   "cell_type": "code",
   "execution_count": 31,
   "id": "6845649e",
   "metadata": {},
   "outputs": [
    {
     "data": {
      "text/html": [
       "<div>\n",
       "<style scoped>\n",
       "    .dataframe tbody tr th:only-of-type {\n",
       "        vertical-align: middle;\n",
       "    }\n",
       "\n",
       "    .dataframe tbody tr th {\n",
       "        vertical-align: top;\n",
       "    }\n",
       "\n",
       "    .dataframe thead th {\n",
       "        text-align: right;\n",
       "    }\n",
       "</style>\n",
       "<table border=\"1\" class=\"dataframe\">\n",
       "  <thead>\n",
       "    <tr style=\"text-align: right;\">\n",
       "      <th></th>\n",
       "      <th>years</th>\n",
       "      <th>keywords-Gas</th>\n",
       "    </tr>\n",
       "  </thead>\n",
       "  <tbody>\n",
       "    <tr>\n",
       "      <th>0</th>\n",
       "      <td>1960-63</td>\n",
       "      <td>[helaas, niks, spijk, heelal, opa, naalden, zaagsel, fooi, koppelbazen, zeep]</td>\n",
       "    </tr>\n",
       "    <tr>\n",
       "      <th>1</th>\n",
       "      <td>1964-67</td>\n",
       "      <td>[lier, strepen, naalden, hervormde, aanleg aardgas, lysine, kaas, komeet, thee, aanklager]</td>\n",
       "    </tr>\n",
       "    <tr>\n",
       "      <th>2</th>\n",
       "      <td>1968-71</td>\n",
       "      <td>[procent, miljoen aardgas, etheen, dok, hennep, schoenmaker, zelfmoord, haalbaar, nachtkaars, min]</td>\n",
       "    </tr>\n",
       "    <tr>\n",
       "      <th>3</th>\n",
       "      <td>1972-75</td>\n",
       "      <td>[aardgas nodig, komeet, bomen, werden gemaakt, tekenen, bisschop, paneel, zonde, remise, gemaal]</td>\n",
       "    </tr>\n",
       "    <tr>\n",
       "      <th>4</th>\n",
       "      <td>1976-79</td>\n",
       "      <td>[wel laten, aardgas daarmee, expeditie, globetrotters, verkeerslichten, mild, etheen, comités, navajo, kronkel]</td>\n",
       "    </tr>\n",
       "    <tr>\n",
       "      <th>5</th>\n",
       "      <td>1980-83</td>\n",
       "      <td>[verwacht, renner, molens, onteigenen]</td>\n",
       "    </tr>\n",
       "    <tr>\n",
       "      <th>6</th>\n",
       "      <td>1984-87</td>\n",
       "      <td>[freon, miljard aardgas, taks, zwemblaas]</td>\n",
       "    </tr>\n",
       "    <tr>\n",
       "      <th>7</th>\n",
       "      <td>1988-91</td>\n",
       "      <td>[kleed, minder meter, vrg, vietnam, roebel, aftrekbaar, serre]</td>\n",
       "    </tr>\n",
       "    <tr>\n",
       "      <th>8</th>\n",
       "      <td>1992-95</td>\n",
       "      <td>[nf, kippernest, gdv, nedlloyd, dc, spitbs, db, vierhizen, komineft]</td>\n",
       "    </tr>\n",
       "  </tbody>\n",
       "</table>\n",
       "</div>"
      ],
      "text/plain": [
       "     years  \\\n",
       "0  1960-63   \n",
       "1  1964-67   \n",
       "2  1968-71   \n",
       "3  1972-75   \n",
       "4  1976-79   \n",
       "5  1980-83   \n",
       "6  1984-87   \n",
       "7  1988-91   \n",
       "8  1992-95   \n",
       "\n",
       "                                                                                                      keywords-Gas  \n",
       "0                                    [helaas, niks, spijk, heelal, opa, naalden, zaagsel, fooi, koppelbazen, zeep]  \n",
       "1                       [lier, strepen, naalden, hervormde, aanleg aardgas, lysine, kaas, komeet, thee, aanklager]  \n",
       "2               [procent, miljoen aardgas, etheen, dok, hennep, schoenmaker, zelfmoord, haalbaar, nachtkaars, min]  \n",
       "3                 [aardgas nodig, komeet, bomen, werden gemaakt, tekenen, bisschop, paneel, zonde, remise, gemaal]  \n",
       "4  [wel laten, aardgas daarmee, expeditie, globetrotters, verkeerslichten, mild, etheen, comités, navajo, kronkel]  \n",
       "5                                                                           [verwacht, renner, molens, onteigenen]  \n",
       "6                                                                        [freon, miljard aardgas, taks, zwemblaas]  \n",
       "7                                                   [kleed, minder meter, vrg, vietnam, roebel, aftrekbaar, serre]  \n",
       "8                                             [nf, kippernest, gdv, nedlloyd, dc, spitbs, db, vierhizen, komineft]  "
      ]
     },
     "execution_count": 31,
     "metadata": {},
     "output_type": "execute_result"
    }
   ],
   "source": [
    "d = {'years':['1960-63','1964-67','1968-71','1972-75','1976-79','1980-83','1984-87','1988-91','1992-95'],\n",
    "     'keywords-Gas':[gas_63,gas_67,gas_71,gas_75,gas_79,gas_83,gas_87,gas_91,gas_95]}\n",
    "pd.DataFrame(data=d)"
   ]
  },
  {
   "cell_type": "markdown",
   "id": "58c3509e",
   "metadata": {},
   "source": [
    "## List of keywords - Oil"
   ]
  },
  {
   "cell_type": "code",
   "execution_count": 32,
   "id": "a6ac5d9c",
   "metadata": {},
   "outputs": [
    {
     "data": {
      "text/html": [
       "<div>\n",
       "<style scoped>\n",
       "    .dataframe tbody tr th:only-of-type {\n",
       "        vertical-align: middle;\n",
       "    }\n",
       "\n",
       "    .dataframe tbody tr th {\n",
       "        vertical-align: top;\n",
       "    }\n",
       "\n",
       "    .dataframe thead th {\n",
       "        text-align: right;\n",
       "    }\n",
       "</style>\n",
       "<table border=\"1\" class=\"dataframe\">\n",
       "  <thead>\n",
       "    <tr style=\"text-align: right;\">\n",
       "      <th></th>\n",
       "      <th>years</th>\n",
       "      <th>keywords-Oil</th>\n",
       "    </tr>\n",
       "  </thead>\n",
       "  <tbody>\n",
       "    <tr>\n",
       "      <th>0</th>\n",
       "      <td>1960-63</td>\n",
       "      <td>[transformator, frank, recept, choke, lagers, kernreactor, mok, koos, joden, bieten]</td>\n",
       "    </tr>\n",
       "    <tr>\n",
       "      <th>1</th>\n",
       "      <td>1964-67</td>\n",
       "      <td>[slang, wereldraad, roepia, kardinaal, arbeidskosten, ziekte, baker, malta]</td>\n",
       "    </tr>\n",
       "    <tr>\n",
       "      <th>2</th>\n",
       "      <td>1968-71</td>\n",
       "      <td>[beklaagde, lieveheersbeestjes, rebbe, binnenlopen, miljard ton, verzetsbeweging, aanvallen, oranje]</td>\n",
       "    </tr>\n",
       "    <tr>\n",
       "      <th>3</th>\n",
       "      <td>1972-75</td>\n",
       "      <td>[verf, kaarsen, vogels, bomen, zonde, methanol, stokvis, leslokalen, lysine, percent]</td>\n",
       "    </tr>\n",
       "    <tr>\n",
       "      <th>4</th>\n",
       "      <td>1976-79</td>\n",
       "      <td>[winkeliers, sela, koolvis, prins, arbeidskosten, gedistilleerd, eden, joden, atoomenergie, winstbelasting]</td>\n",
       "    </tr>\n",
       "    <tr>\n",
       "      <th>5</th>\n",
       "      <td>1980-83</td>\n",
       "      <td>[procent, elektrische, miljard ton, kolencentrales, elektrische energie, cent, kolen, miljard]</td>\n",
       "    </tr>\n",
       "    <tr>\n",
       "      <th>6</th>\n",
       "      <td>1984-87</td>\n",
       "      <td>[dollar, miljoen, rapport, kolen, project, miljoen ton, kolencentrales, omgezet, dag]</td>\n",
       "    </tr>\n",
       "    <tr>\n",
       "      <th>7</th>\n",
       "      <td>1988-91</td>\n",
       "      <td>[dc, bernard]</td>\n",
       "    </tr>\n",
       "    <tr>\n",
       "      <th>8</th>\n",
       "      <td>1992-95</td>\n",
       "      <td>[nf]</td>\n",
       "    </tr>\n",
       "  </tbody>\n",
       "</table>\n",
       "</div>"
      ],
      "text/plain": [
       "     years  \\\n",
       "0  1960-63   \n",
       "1  1964-67   \n",
       "2  1968-71   \n",
       "3  1972-75   \n",
       "4  1976-79   \n",
       "5  1980-83   \n",
       "6  1984-87   \n",
       "7  1988-91   \n",
       "8  1992-95   \n",
       "\n",
       "                                                                                                  keywords-Oil  \n",
       "0                         [transformator, frank, recept, choke, lagers, kernreactor, mok, koos, joden, bieten]  \n",
       "1                                  [slang, wereldraad, roepia, kardinaal, arbeidskosten, ziekte, baker, malta]  \n",
       "2         [beklaagde, lieveheersbeestjes, rebbe, binnenlopen, miljard ton, verzetsbeweging, aanvallen, oranje]  \n",
       "3                        [verf, kaarsen, vogels, bomen, zonde, methanol, stokvis, leslokalen, lysine, percent]  \n",
       "4  [winkeliers, sela, koolvis, prins, arbeidskosten, gedistilleerd, eden, joden, atoomenergie, winstbelasting]  \n",
       "5               [procent, elektrische, miljard ton, kolencentrales, elektrische energie, cent, kolen, miljard]  \n",
       "6                        [dollar, miljoen, rapport, kolen, project, miljoen ton, kolencentrales, omgezet, dag]  \n",
       "7                                                                                                [dc, bernard]  \n",
       "8                                                                                                         [nf]  "
      ]
     },
     "execution_count": 32,
     "metadata": {},
     "output_type": "execute_result"
    }
   ],
   "source": [
    "d = {'years':['1960-63','1964-67','1968-71','1972-75','1976-79','1980-83','1984-87','1988-91','1992-95'],\n",
    "     'keywords-Oil':[oil_63,oil_67,oil_71,oil_75,oil_79,oil_83,oil_87,oil_91,oil_95]}\n",
    "pd.DataFrame(data=d)"
   ]
  },
  {
   "cell_type": "code",
   "execution_count": null,
   "id": "d0ba01e7",
   "metadata": {},
   "outputs": [],
   "source": []
  }
 ],
 "metadata": {
  "kernelspec": {
   "display_name": "torch",
   "language": "python",
   "name": "torch"
  },
  "language_info": {
   "codemirror_mode": {
    "name": "ipython",
    "version": 3
   },
   "file_extension": ".py",
   "mimetype": "text/x-python",
   "name": "python",
   "nbconvert_exporter": "python",
   "pygments_lexer": "ipython3",
   "version": "3.8.13"
  }
 },
 "nbformat": 4,
 "nbformat_minor": 5
}
