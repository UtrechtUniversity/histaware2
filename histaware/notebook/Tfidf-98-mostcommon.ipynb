{
 "cells": [
  {
   "cell_type": "code",
   "execution_count": 1,
   "id": "3174a224",
   "metadata": {},
   "outputs": [],
   "source": [
    "import sys\n",
    "import os\n",
    "sys.path.insert(0,'..')\n",
    "\n",
    "import pandas as pd\n",
    "from train_tfidf import train"
   ]
  },
  {
   "cell_type": "code",
   "execution_count": 2,
   "id": "5af37d6f",
   "metadata": {},
   "outputs": [],
   "source": [
    "DATA_DIR = '../../data/fuel_selected98/'"
   ]
  },
  {
   "cell_type": "markdown",
   "id": "a218f3d9",
   "metadata": {},
   "source": [
    "## Keywords 1960-63\n",
    "\n",
    "### Coal"
   ]
  },
  {
   "cell_type": "code",
   "execution_count": 3,
   "id": "7f57af6a",
   "metadata": {},
   "outputs": [
    {
     "name": "stderr",
     "output_type": "stream",
     "text": [
      "/Users/Zahed001/miniforge3/envs/torch/lib/python3.8/site-packages/sklearn/utils/deprecation.py:87: FutureWarning: Function get_feature_names is deprecated; get_feature_names is deprecated in 1.0 and will be removed in 1.2. Please use get_feature_names_out instead.\n",
      "  warnings.warn(msg, category=FutureWarning)\n"
     ]
    },
    {
     "name": "stdout",
     "output_type": "stream",
     "text": [
      "['aardgas', 'procent', 'minister', 'olie', 'mijnen', 'gas', 'gemeenschap', 'meter', 'europa', 'nederlandse', 'europese', 'produktie', 'landen', 'limburg', 'centrale', 'kubieke meter', 'aardolie', 'energie', 'kernenergie', 'kubieke']\n"
     ]
    }
   ],
   "source": [
    "dir_1963 = 'tm_63'\n",
    "\n",
    "data_fp= os.path.join(DATA_DIR,dir_1963,'*coal*.csv')\n",
    "coal_63 = train(data_fp,data_fp,True)"
   ]
  },
  {
   "cell_type": "markdown",
   "id": "d18ecf4f",
   "metadata": {},
   "source": [
    "### Gas"
   ]
  },
  {
   "cell_type": "code",
   "execution_count": 4,
   "id": "f48dc58c",
   "metadata": {},
   "outputs": [
    {
     "name": "stderr",
     "output_type": "stream",
     "text": [
      "/Users/Zahed001/miniforge3/envs/torch/lib/python3.8/site-packages/sklearn/utils/deprecation.py:87: FutureWarning: Function get_feature_names is deprecated; get_feature_names is deprecated in 1.0 and will be removed in 1.2. Please use get_feature_names_out instead.\n",
      "  warnings.warn(msg, category=FutureWarning)\n"
     ]
    },
    {
     "name": "stdout",
     "output_type": "stream",
     "text": [
      "['aardgas', 'heer', 'minister', 'per', 'olie', 'gasunie', 'procent', 'cent', 'prijs', 'groningen', 'meter', 'gemeenten', 'kubieke', 'gas', 'kubieke meter', 'nederlandse', 'pet', 'jaar', 'regering', 'zei']\n"
     ]
    }
   ],
   "source": [
    "data_fp= os.path.join(DATA_DIR,dir_1963,'*gas*.csv')\n",
    "gas_63 = train(data_fp,data_fp,True)"
   ]
  },
  {
   "cell_type": "markdown",
   "id": "30e539a8",
   "metadata": {},
   "source": [
    "### Oil"
   ]
  },
  {
   "cell_type": "code",
   "execution_count": 5,
   "id": "4840cb4a",
   "metadata": {},
   "outputs": [
    {
     "name": "stderr",
     "output_type": "stream",
     "text": [
      "/Users/Zahed001/miniforge3/envs/torch/lib/python3.8/site-packages/sklearn/utils/deprecation.py:87: FutureWarning: Function get_feature_names is deprecated; get_feature_names is deprecated in 1.0 and will be removed in 1.2. Please use get_feature_names_out instead.\n",
      "  warnings.warn(msg, category=FutureWarning)\n"
     ]
    },
    {
     "name": "stdout",
     "output_type": "stream",
     "text": [
      "['punten', 'aandelen', 'gisteren', 'koers', 'pnt', 'pet', 'lager', 'procent', 'aardgas', 'vandaag', 'stemming', 'markt', 'beurs', 'hoger', 'per', 'week', 'olie', 'minister', 'regering', 'dollar']\n"
     ]
    }
   ],
   "source": [
    "data_fp= os.path.join(DATA_DIR,dir_1963,'*oil*.csv')\n",
    "oil_63 = train(data_fp,data_fp,True)"
   ]
  },
  {
   "cell_type": "markdown",
   "id": "523ab840",
   "metadata": {},
   "source": [
    "## Keywords 1964-67\n",
    "\n",
    "### Coal"
   ]
  },
  {
   "cell_type": "code",
   "execution_count": 6,
   "id": "6ef49522",
   "metadata": {},
   "outputs": [
    {
     "name": "stderr",
     "output_type": "stream",
     "text": [
      "/Users/Zahed001/miniforge3/envs/torch/lib/python3.8/site-packages/sklearn/utils/deprecation.py:87: FutureWarning: Function get_feature_names is deprecated; get_feature_names is deprecated in 1.0 and will be removed in 1.2. Please use get_feature_names_out instead.\n",
      "  warnings.warn(msg, category=FutureWarning)\n"
     ]
    },
    {
     "name": "stdout",
     "output_type": "stream",
     "text": [
      "['procent', 'aardgas', 'mijnen', 'steenkool', 'minister', 'jaar', 'centrale', 'produktie', 'staatsmijnen', 'centrales', 'duitse', 'limburg', 'mijnwerkers', 'meter', 'gas', 'kubieke', 'bedrijven', 'olie', 'kubieke meter', 'kolen']\n"
     ]
    }
   ],
   "source": [
    "dir_1967 = 'tm_67'\n",
    "\n",
    "data_fp= os.path.join(DATA_DIR,dir_1967,'*coal*.csv')\n",
    "coal_67 = train(data_fp,data_fp,True)"
   ]
  },
  {
   "cell_type": "markdown",
   "id": "9ce5d50f",
   "metadata": {},
   "source": [
    "### Gas"
   ]
  },
  {
   "cell_type": "code",
   "execution_count": 7,
   "id": "e0c28fd8",
   "metadata": {},
   "outputs": [
    {
     "name": "stderr",
     "output_type": "stream",
     "text": [
      "/Users/Zahed001/miniforge3/envs/torch/lib/python3.8/site-packages/sklearn/utils/deprecation.py:87: FutureWarning: Function get_feature_names is deprecated; get_feature_names is deprecated in 1.0 and will be removed in 1.2. Please use get_feature_names_out instead.\n",
      "  warnings.warn(msg, category=FutureWarning)\n"
     ]
    },
    {
     "name": "stdout",
     "output_type": "stream",
     "text": [
      "['minister', 'aardgas', 'pet', 'procent', 'heer', 'meter', 'per', 'jaar', 'kubieke meter', 'kubieke', 'olie', 'gasunie', 'nam', 'aandelen', 'gas', 'nederlandse', 'regering', 'produktie', 'gulden', 'uyl']\n"
     ]
    }
   ],
   "source": [
    "data_fp= os.path.join(DATA_DIR,dir_1967,'*gas*.csv')\n",
    "gas_67 = train(data_fp,data_fp,True)"
   ]
  },
  {
   "cell_type": "markdown",
   "id": "b84b29a0",
   "metadata": {},
   "source": [
    "### Oil"
   ]
  },
  {
   "cell_type": "code",
   "execution_count": 8,
   "id": "0e5003db",
   "metadata": {},
   "outputs": [
    {
     "name": "stderr",
     "output_type": "stream",
     "text": [
      "/Users/Zahed001/miniforge3/envs/torch/lib/python3.8/site-packages/sklearn/utils/deprecation.py:87: FutureWarning: Function get_feature_names is deprecated; get_feature_names is deprecated in 1.0 and will be removed in 1.2. Please use get_feature_names_out instead.\n",
      "  warnings.warn(msg, category=FutureWarning)\n"
     ]
    },
    {
     "name": "stdout",
     "output_type": "stream",
     "text": [
      "['aandelen', 'pet', 'koers', 'pnt', 'procent', 'punten', 'lager', 'gisteren', 'vandaag', 'aardgas', 'minister', 'markt', 'gulden', 'jaar', 'hoger', 'beurs', 'per', 'britse', 'shell', 'regering']\n"
     ]
    }
   ],
   "source": [
    "data_fp= os.path.join(DATA_DIR,dir_1967,'*oil*.csv')\n",
    "oil_67 = train(data_fp,data_fp,True)"
   ]
  },
  {
   "cell_type": "markdown",
   "id": "153baa37",
   "metadata": {},
   "source": [
    "## Keywords 1968-71\n",
    "\n",
    "### Coal"
   ]
  },
  {
   "cell_type": "code",
   "execution_count": 9,
   "id": "2daf85ce",
   "metadata": {},
   "outputs": [
    {
     "name": "stdout",
     "output_type": "stream",
     "text": [
      "['procent', 'aardgas', 'commissie', 'jaar', 'zullen', 'centrale', 'pet', 'europese', 'gas', 'mijnen', 'limburg', 'olie', 'per', 'uranium', 'wel', 'hoogovens', 'europa', 'minister', 'rapport', 'steenkool']\n"
     ]
    },
    {
     "name": "stderr",
     "output_type": "stream",
     "text": [
      "/Users/Zahed001/miniforge3/envs/torch/lib/python3.8/site-packages/sklearn/utils/deprecation.py:87: FutureWarning: Function get_feature_names is deprecated; get_feature_names is deprecated in 1.0 and will be removed in 1.2. Please use get_feature_names_out instead.\n",
      "  warnings.warn(msg, category=FutureWarning)\n"
     ]
    }
   ],
   "source": [
    "dir_1971 = 'tm_71'\n",
    "\n",
    "data_fp= os.path.join(DATA_DIR,dir_1971,'*coal*.csv')\n",
    "coal_71 = train(data_fp,data_fp,True)"
   ]
  },
  {
   "cell_type": "markdown",
   "id": "7008f1b3",
   "metadata": {},
   "source": [
    "### Gas"
   ]
  },
  {
   "cell_type": "code",
   "execution_count": 10,
   "id": "742b04d8",
   "metadata": {},
   "outputs": [
    {
     "name": "stderr",
     "output_type": "stream",
     "text": [
      "/Users/Zahed001/miniforge3/envs/torch/lib/python3.8/site-packages/sklearn/utils/deprecation.py:87: FutureWarning: Function get_feature_names is deprecated; get_feature_names is deprecated in 1.0 and will be removed in 1.2. Please use get_feature_names_out instead.\n",
      "  warnings.warn(msg, category=FutureWarning)\n"
     ]
    },
    {
     "name": "stdout",
     "output_type": "stream",
     "text": [
      "['noorden', 'procent', 'aardgas', 'pet', 'heer', 'meter', 'kubieke', 'kubieke meter', 'minister', 'jaar', 'shell', 'olie', 'gulden', 'per', 'wel', 'nieuwe', 'regering', 'groningen', 'gasunie', 'auto']\n"
     ]
    }
   ],
   "source": [
    "data_fp= os.path.join(DATA_DIR,dir_1971,'*gas*.csv')\n",
    "gas_71 = train(data_fp,data_fp,True)"
   ]
  },
  {
   "cell_type": "markdown",
   "id": "7d505033",
   "metadata": {},
   "source": [
    "### Oil"
   ]
  },
  {
   "cell_type": "code",
   "execution_count": 11,
   "id": "0121b653",
   "metadata": {},
   "outputs": [
    {
     "name": "stderr",
     "output_type": "stream",
     "text": [
      "/Users/Zahed001/miniforge3/envs/torch/lib/python3.8/site-packages/sklearn/utils/deprecation.py:87: FutureWarning: Function get_feature_names is deprecated; get_feature_names is deprecated in 1.0 and will be removed in 1.2. Please use get_feature_names_out instead.\n",
      "  warnings.warn(msg, category=FutureWarning)\n"
     ]
    },
    {
     "name": "stdout",
     "output_type": "stream",
     "text": [
      "['punten', 'koers', 'procent', 'pet', 'gulden', 'shell', 'aandelen', 'lager', 'markt', 'dollar', 'pnt', 'hoger', 'aku', 'landen', 'jaar', 'winst', 'per', 'gisteren', 'unilever', 'beurs']\n"
     ]
    }
   ],
   "source": [
    "data_fp= os.path.join(DATA_DIR,dir_1971,'*oil*.csv')\n",
    "oil_71 = train(data_fp,data_fp,True)"
   ]
  },
  {
   "cell_type": "markdown",
   "id": "1c3d37bb",
   "metadata": {},
   "source": [
    "## Keywords 1972-75\n",
    "\n",
    "### Coal"
   ]
  },
  {
   "cell_type": "code",
   "execution_count": 12,
   "id": "7cce003b",
   "metadata": {},
   "outputs": [
    {
     "name": "stderr",
     "output_type": "stream",
     "text": [
      "/Users/Zahed001/miniforge3/envs/torch/lib/python3.8/site-packages/sklearn/utils/deprecation.py:87: FutureWarning: Function get_feature_names is deprecated; get_feature_names is deprecated in 1.0 and will be removed in 1.2. Please use get_feature_names_out instead.\n",
      "  warnings.warn(msg, category=FutureWarning)\n"
     ]
    },
    {
     "name": "stdout",
     "output_type": "stream",
     "text": [
      "['procent', 'olie', 'jaar', 'energie', 'landen', 'aardgas', 'commissie', 'kolen', 'mijnen', 'steenkool', 'per', 'pet', 'shell', 'dollar', 'dsm', 'moeten', 'arabische', 'gulden', 'eeg', 'centrale']\n"
     ]
    }
   ],
   "source": [
    "dir_1975 = 'tm_75'\n",
    "\n",
    "data_fp= os.path.join(DATA_DIR,dir_1975,'*coal*.csv')\n",
    "coal_75 = train(data_fp,data_fp,True)"
   ]
  },
  {
   "cell_type": "markdown",
   "id": "b611207b",
   "metadata": {},
   "source": [
    "### Gas"
   ]
  },
  {
   "cell_type": "code",
   "execution_count": 13,
   "id": "e2f3d836",
   "metadata": {},
   "outputs": [
    {
     "name": "stderr",
     "output_type": "stream",
     "text": [
      "/Users/Zahed001/miniforge3/envs/torch/lib/python3.8/site-packages/sklearn/utils/deprecation.py:87: FutureWarning: Function get_feature_names is deprecated; get_feature_names is deprecated in 1.0 and will be removed in 1.2. Please use get_feature_names_out instead.\n",
      "  warnings.warn(msg, category=FutureWarning)\n"
     ]
    },
    {
     "name": "stdout",
     "output_type": "stream",
     "text": [
      "['procent', 'olie', 'aardgas', 'jaar', 'meter', 'minister', 'per', 'kubieke', 'kubieke meter', 'gasunie', 'heer', 'nam', 'energie', 'regering', 'pet', 'wel', 'gas', 'ameland', 'cent', 'landen']\n"
     ]
    }
   ],
   "source": [
    "data_fp= os.path.join(DATA_DIR,dir_1975,'*gas*.csv')\n",
    "gas_75 = train(data_fp,data_fp,True)"
   ]
  },
  {
   "cell_type": "markdown",
   "id": "308762eb",
   "metadata": {},
   "source": [
    "### Oil"
   ]
  },
  {
   "cell_type": "code",
   "execution_count": 14,
   "id": "d773d7ff",
   "metadata": {},
   "outputs": [
    {
     "name": "stderr",
     "output_type": "stream",
     "text": [
      "/Users/Zahed001/miniforge3/envs/torch/lib/python3.8/site-packages/sklearn/utils/deprecation.py:87: FutureWarning: Function get_feature_names is deprecated; get_feature_names is deprecated in 1.0 and will be removed in 1.2. Please use get_feature_names_out instead.\n",
      "  warnings.warn(msg, category=FutureWarning)\n"
     ]
    },
    {
     "name": "stdout",
     "output_type": "stream",
     "text": [
      "['landen', 'cent', 'procent', 'dollar', 'winst', 'koers', 'shell', 'markt', 'arabische', 'jaar', 'gulden', 'aandelen', 'per', 'nederland', 'pet', 'regering', 'minister', 'beurs', 'israël', 'hoger']\n"
     ]
    }
   ],
   "source": [
    "data_fp= os.path.join(DATA_DIR,dir_1975,'*oil*.csv')\n",
    "oil_75 = train(data_fp,data_fp,True)"
   ]
  },
  {
   "cell_type": "markdown",
   "id": "8365233d",
   "metadata": {},
   "source": [
    "## Keywords 1975-79\n",
    "\n",
    "### Coal"
   ]
  },
  {
   "cell_type": "code",
   "execution_count": 15,
   "id": "20937e8a",
   "metadata": {},
   "outputs": [
    {
     "name": "stderr",
     "output_type": "stream",
     "text": [
      "/Users/Zahed001/miniforge3/envs/torch/lib/python3.8/site-packages/sklearn/utils/deprecation.py:87: FutureWarning: Function get_feature_names is deprecated; get_feature_names is deprecated in 1.0 and will be removed in 1.2. Please use get_feature_names_out instead.\n",
      "  warnings.warn(msg, category=FutureWarning)\n"
     ]
    },
    {
     "name": "stdout",
     "output_type": "stream",
     "text": [
      "['procent', 'steenkool', 'energie', 'olie', 'kolen', 'kernenergie', 'shell', 'landen', 'per', 'gas', 'commissie', 'rapport', 'nederland', 'aardgas', 'dag', 'jaar', 'meter', 'per dag', 'amerikaanse', 'mijnen']\n"
     ]
    }
   ],
   "source": [
    "dir_1979 = 'tm_79'\n",
    "\n",
    "data_fp= os.path.join(DATA_DIR,dir_1979,'*coal*.csv')\n",
    "coal_79 = train(data_fp,data_fp,True)"
   ]
  },
  {
   "cell_type": "markdown",
   "id": "5a0c91f8",
   "metadata": {},
   "source": [
    "### Gas"
   ]
  },
  {
   "cell_type": "code",
   "execution_count": 16,
   "id": "d4646243",
   "metadata": {},
   "outputs": [
    {
     "name": "stderr",
     "output_type": "stream",
     "text": [
      "/Users/Zahed001/miniforge3/envs/torch/lib/python3.8/site-packages/sklearn/utils/deprecation.py:87: FutureWarning: Function get_feature_names is deprecated; get_feature_names is deprecated in 1.0 and will be removed in 1.2. Please use get_feature_names_out instead.\n",
      "  warnings.warn(msg, category=FutureWarning)\n"
     ]
    },
    {
     "name": "stdout",
     "output_type": "stream",
     "text": [
      "['procent', 'olie', 'jaar', 'meter', 'gulden', 'lng', 'energie', 'kubieke', 'per', 'kubieke meter', 'eemshaven', 'gasunie', 'wel', 'gas', 'aardgas', 'heer', 'regering', 'cent', 'kolen', 'groningen']\n"
     ]
    }
   ],
   "source": [
    "data_fp= os.path.join(DATA_DIR,dir_1979,'*gas*.csv')\n",
    "gas_79 = train(data_fp,data_fp,True)"
   ]
  },
  {
   "cell_type": "markdown",
   "id": "9d041e36",
   "metadata": {},
   "source": [
    "### Oil"
   ]
  },
  {
   "cell_type": "code",
   "execution_count": 17,
   "id": "f4d0c9ed",
   "metadata": {},
   "outputs": [
    {
     "name": "stderr",
     "output_type": "stream",
     "text": [
      "/Users/Zahed001/miniforge3/envs/torch/lib/python3.8/site-packages/sklearn/utils/deprecation.py:87: FutureWarning: Function get_feature_names is deprecated; get_feature_names is deprecated in 1.0 and will be removed in 1.2. Please use get_feature_names_out instead.\n",
      "  warnings.warn(msg, category=FutureWarning)\n"
     ]
    },
    {
     "name": "stdout",
     "output_type": "stream",
     "text": [
      "['procent', 'cent', 'markt', 'dollar', 'shell', 'landen', 'jaar', 'gulden', 'koers', 'olie', 'winst', 'per', 'opec', 'carter', 'beurs', 'iran', 'vaten', 'amerikaanse', 'lager', 'hoger']\n"
     ]
    }
   ],
   "source": [
    "data_fp= os.path.join(DATA_DIR,dir_1979,'*oil*.csv')\n",
    "oil_79 = train(data_fp,data_fp,True)"
   ]
  },
  {
   "cell_type": "markdown",
   "id": "65e378cf",
   "metadata": {},
   "source": [
    "## Keywords 1980-83\n",
    "\n",
    "### Coal"
   ]
  },
  {
   "cell_type": "code",
   "execution_count": 18,
   "id": "e748b407",
   "metadata": {},
   "outputs": [
    {
     "name": "stderr",
     "output_type": "stream",
     "text": [
      "/Users/Zahed001/miniforge3/envs/torch/lib/python3.8/site-packages/sklearn/utils/deprecation.py:87: FutureWarning: Function get_feature_names is deprecated; get_feature_names is deprecated in 1.0 and will be removed in 1.2. Please use get_feature_names_out instead.\n",
      "  warnings.warn(msg, category=FutureWarning)\n"
     ]
    },
    {
     "name": "stdout",
     "output_type": "stream",
     "text": [
      "['procent', 'kernenergie', 'olie', 'kolen', 'landen', 'jaar', 'energie', 'steenkool', 'shell', 'sep', 'ir', 'gas', 'zuid', 'gasunie', 'rotterdam', 'vaten', 'commissie', 'aardgas', 'per dag', 'afrika']\n"
     ]
    }
   ],
   "source": [
    "dir_1983 = 'tm_83'\n",
    "\n",
    "data_fp= os.path.join(DATA_DIR,dir_1983,'*coal*.csv')\n",
    "coal_83 = train(data_fp,data_fp,True)"
   ]
  },
  {
   "cell_type": "markdown",
   "id": "a6dba9e1",
   "metadata": {},
   "source": [
    "### Gas"
   ]
  },
  {
   "cell_type": "code",
   "execution_count": 19,
   "id": "99e852ce",
   "metadata": {},
   "outputs": [
    {
     "name": "stderr",
     "output_type": "stream",
     "text": [
      "/Users/Zahed001/miniforge3/envs/torch/lib/python3.8/site-packages/sklearn/utils/deprecation.py:87: FutureWarning: Function get_feature_names is deprecated; get_feature_names is deprecated in 1.0 and will be removed in 1.2. Please use get_feature_names_out instead.\n",
      "  warnings.warn(msg, category=FutureWarning)\n"
     ]
    },
    {
     "name": "stdout",
     "output_type": "stream",
     "text": [
      "['procent', 'olie', 'jaar', 'gasunie', 'cent', 'gulden', 'per', 'minister', 'groningen', 'noorden', 'kabinet', 'mensen', 'meter', 'gas', 'shell', 'nam', 'vegin', 'wel', 'aardgas', 'kubieke']\n"
     ]
    }
   ],
   "source": [
    "data_fp= os.path.join(DATA_DIR,dir_1983,'*gas*.csv')\n",
    "gas_83 = train(data_fp,data_fp,True)"
   ]
  },
  {
   "cell_type": "markdown",
   "id": "25ccfdf6",
   "metadata": {},
   "source": [
    "### Oil"
   ]
  },
  {
   "cell_type": "code",
   "execution_count": 20,
   "id": "ee82ef04",
   "metadata": {},
   "outputs": [
    {
     "name": "stdout",
     "output_type": "stream",
     "text": [
      "['steenkool', 'kolen', 'procent', 'centrales', 'landen', 'aardgas', 'stroom', 'minister', 'aardenne', 'kerncentrales', 'gebruik', 'moeten', 'industrie', 'energievoorziening', 'installaties', 'rapport', 'deel', 'vooral', 'procent procent', 'olie']\n"
     ]
    },
    {
     "name": "stderr",
     "output_type": "stream",
     "text": [
      "/Users/Zahed001/miniforge3/envs/torch/lib/python3.8/site-packages/sklearn/utils/deprecation.py:87: FutureWarning: Function get_feature_names is deprecated; get_feature_names is deprecated in 1.0 and will be removed in 1.2. Please use get_feature_names_out instead.\n",
      "  warnings.warn(msg, category=FutureWarning)\n"
     ]
    }
   ],
   "source": [
    "data_fp= os.path.join(DATA_DIR,dir_1983,'*oil*.csv')\n",
    "oil_83 = train(data_fp,data_fp,True)"
   ]
  },
  {
   "cell_type": "markdown",
   "id": "2eb131a1",
   "metadata": {},
   "source": [
    "## Keywords 1984-87\n",
    "\n",
    "### Coal"
   ]
  },
  {
   "cell_type": "code",
   "execution_count": 21,
   "id": "aad553cb",
   "metadata": {},
   "outputs": [
    {
     "name": "stderr",
     "output_type": "stream",
     "text": [
      "/Users/Zahed001/miniforge3/envs/torch/lib/python3.8/site-packages/sklearn/utils/deprecation.py:87: FutureWarning: Function get_feature_names is deprecated; get_feature_names is deprecated in 1.0 and will be removed in 1.2. Please use get_feature_names_out instead.\n",
      "  warnings.warn(msg, category=FutureWarning)\n"
     ]
    },
    {
     "name": "stdout",
     "output_type": "stream",
     "text": [
      "['procent', 'kerncentrales', 'olie', 'aardgas', 'zuid', 'afrika', 'zuid afrika', 'kernenergie', 'energie', 'dollar', 'europese', 'cent', 'steenkool', 'centrales', 'jaar', 'stroom', 'moeten', 'sep', 'megawatt', 'gulden']\n"
     ]
    }
   ],
   "source": [
    "dir_1987 = 'tm_87'\n",
    "\n",
    "data_fp= os.path.join(DATA_DIR,dir_1987,'*coal*.csv')\n",
    "coal_87 = train(data_fp,data_fp,True)"
   ]
  },
  {
   "cell_type": "markdown",
   "id": "8f360fad",
   "metadata": {},
   "source": [
    "### Gas"
   ]
  },
  {
   "cell_type": "code",
   "execution_count": 22,
   "id": "136a0ebc",
   "metadata": {},
   "outputs": [
    {
     "name": "stderr",
     "output_type": "stream",
     "text": [
      "/Users/Zahed001/miniforge3/envs/torch/lib/python3.8/site-packages/sklearn/utils/deprecation.py:87: FutureWarning: Function get_feature_names is deprecated; get_feature_names is deprecated in 1.0 and will be removed in 1.2. Please use get_feature_names_out instead.\n",
      "  warnings.warn(msg, category=FutureWarning)\n"
     ]
    },
    {
     "name": "stdout",
     "output_type": "stream",
     "text": [
      "['procent', 'cent', 'gasunie', 'jaar', 'gulden', 'olie', 'aardgas', 'per', 'mensen', 'meter', 'groningen', 'vegin', 'nam', 'kubieke', 'kabinet', 'kubieke meter', 'prijs', 'dollar', 'gas', 'gasprijs']\n"
     ]
    }
   ],
   "source": [
    "data_fp= os.path.join(DATA_DIR,dir_1987,'*gas*.csv')\n",
    "gas_87 = train(data_fp,data_fp,True)"
   ]
  },
  {
   "cell_type": "markdown",
   "id": "44777b1e",
   "metadata": {},
   "source": [
    "### Oil"
   ]
  },
  {
   "cell_type": "code",
   "execution_count": 23,
   "id": "32906f34",
   "metadata": {},
   "outputs": [
    {
     "name": "stdout",
     "output_type": "stream",
     "text": [
      "['kolen', 'engeland', 'britse', 'australië', 'australische', 'aardgas', 'japan', 'gebruik', 'energie', 'waarschijnlijk', 'aldus', 'omgezet', 'rapport', 'regering', 'steenkool', 'arabië', 'gevolgen', 'laten', 'wees', 'saoedi arabië']\n"
     ]
    },
    {
     "name": "stderr",
     "output_type": "stream",
     "text": [
      "/Users/Zahed001/miniforge3/envs/torch/lib/python3.8/site-packages/sklearn/utils/deprecation.py:87: FutureWarning: Function get_feature_names is deprecated; get_feature_names is deprecated in 1.0 and will be removed in 1.2. Please use get_feature_names_out instead.\n",
      "  warnings.warn(msg, category=FutureWarning)\n"
     ]
    }
   ],
   "source": [
    "data_fp= os.path.join(DATA_DIR,dir_1987,'*oil*.csv')\n",
    "oil_87 = train(data_fp,data_fp,True)"
   ]
  },
  {
   "cell_type": "markdown",
   "id": "d0d0f900",
   "metadata": {},
   "source": [
    "## Keywords 1988-91\n",
    "\n",
    "### Coal"
   ]
  },
  {
   "cell_type": "code",
   "execution_count": 24,
   "id": "4db745b6",
   "metadata": {},
   "outputs": [
    {
     "name": "stderr",
     "output_type": "stream",
     "text": [
      "/Users/Zahed001/miniforge3/envs/torch/lib/python3.8/site-packages/sklearn/utils/deprecation.py:87: FutureWarning: Function get_feature_names is deprecated; get_feature_names is deprecated in 1.0 and will be removed in 1.2. Please use get_feature_names_out instead.\n",
      "  warnings.warn(msg, category=FutureWarning)\n"
     ]
    },
    {
     "name": "stdout",
     "output_type": "stream",
     "text": [
      "['sep', 'procent', 'energie', 'zuidafrikaanse', 'gas', 'kernenergie', 'steenkool', 'uitstoot', 'olie', 'kerncentrales', 'havens', 'onderzoek', 'jaar', 'stroom', 'kolen', 'shell', 'ontwikkeling', 'prijs', 'landen', 'megawatt']\n"
     ]
    }
   ],
   "source": [
    "dir_1991 = 'tm_91'\n",
    "\n",
    "data_fp= os.path.join(DATA_DIR,dir_1991,'*coal*.csv')\n",
    "coal_91 = train(data_fp,data_fp,True)"
   ]
  },
  {
   "cell_type": "markdown",
   "id": "18712824",
   "metadata": {},
   "source": [
    "### Gas"
   ]
  },
  {
   "cell_type": "code",
   "execution_count": 25,
   "id": "bed1a9a0",
   "metadata": {},
   "outputs": [
    {
     "name": "stderr",
     "output_type": "stream",
     "text": [
      "/Users/Zahed001/miniforge3/envs/torch/lib/python3.8/site-packages/sklearn/utils/deprecation.py:87: FutureWarning: Function get_feature_names is deprecated; get_feature_names is deprecated in 1.0 and will be removed in 1.2. Please use get_feature_names_out instead.\n",
      "  warnings.warn(msg, category=FutureWarning)\n"
     ]
    },
    {
     "name": "stdout",
     "output_type": "stream",
     "text": [
      "['procent', 'jaar', 'gulden', 'nam', 'gasunie', 'aardgas', 'per', 'meter', 'groningen', 'cent', 'olie', 'kubieke', 'kubieke meter', 'gas', 'shell', 'auto', 'wel', 'prijs', 'winst', 'minister']\n"
     ]
    }
   ],
   "source": [
    "data_fp= os.path.join(DATA_DIR,dir_1991,'*gas*.csv')\n",
    "gas_91 = train(data_fp,data_fp,True)"
   ]
  },
  {
   "cell_type": "markdown",
   "id": "def18d36",
   "metadata": {},
   "source": [
    "### Oil"
   ]
  },
  {
   "cell_type": "code",
   "execution_count": 26,
   "id": "7c47f8de",
   "metadata": {},
   "outputs": [
    {
     "name": "stderr",
     "output_type": "stream",
     "text": [
      "/Users/Zahed001/miniforge3/envs/torch/lib/python3.8/site-packages/sklearn/utils/deprecation.py:87: FutureWarning: Function get_feature_names is deprecated; get_feature_names is deprecated in 1.0 and will be removed in 1.2. Please use get_feature_names_out instead.\n",
      "  warnings.warn(msg, category=FutureWarning)\n"
     ]
    },
    {
     "name": "stdout",
     "output_type": "stream",
     "text": [
      "['dollar', 'procent', 'irak', 'cent', 'vaten', 'jaar', 'klm philips', 'punten', 'opec', 'winst', 'shell', 'kuwayt', 'unilever klm', 'dubbeltjes', 'landen', 'saddam', 'olie unilever', 'amerikaanse', 'per dag', 'iraq']\n"
     ]
    }
   ],
   "source": [
    "data_fp= os.path.join(DATA_DIR,dir_1991,'*oil*.csv')\n",
    "oil_91 = train(data_fp,data_fp,True)"
   ]
  },
  {
   "cell_type": "markdown",
   "id": "a4378c0e",
   "metadata": {},
   "source": [
    "## Keywords 1992-95\n",
    "### Coal"
   ]
  },
  {
   "cell_type": "code",
   "execution_count": 27,
   "id": "5ce5d4e9",
   "metadata": {},
   "outputs": [
    {
     "name": "stdout",
     "output_type": "stream",
     "text": [
      "['procent', 'kernenergie', 'co', 'kerncentrales', 'centrale', 'landen', 'megawatt', 'groot', 'jaar', 'onderzoek', 'kooldioxyde', 'europese', 'vraag', 'andriessen', 'groei', 'bouw', 'vermogen', 'olie', 'ce', 'aarde']\n"
     ]
    },
    {
     "name": "stderr",
     "output_type": "stream",
     "text": [
      "/Users/Zahed001/miniforge3/envs/torch/lib/python3.8/site-packages/sklearn/utils/deprecation.py:87: FutureWarning: Function get_feature_names is deprecated; get_feature_names is deprecated in 1.0 and will be removed in 1.2. Please use get_feature_names_out instead.\n",
      "  warnings.warn(msg, category=FutureWarning)\n"
     ]
    }
   ],
   "source": [
    "dir_1995= 'tm_95'\n",
    "\n",
    "data_fp= os.path.join(DATA_DIR,dir_1995,'*coal*.csv')\n",
    "coal_95 = train(data_fp,data_fp,True)"
   ]
  },
  {
   "cell_type": "markdown",
   "id": "245f73b9",
   "metadata": {},
   "source": [
    "### Gas"
   ]
  },
  {
   "cell_type": "code",
   "execution_count": 28,
   "id": "8af52cc5",
   "metadata": {},
   "outputs": [
    {
     "name": "stderr",
     "output_type": "stream",
     "text": [
      "/Users/Zahed001/miniforge3/envs/torch/lib/python3.8/site-packages/sklearn/utils/deprecation.py:87: FutureWarning: Function get_feature_names is deprecated; get_feature_names is deprecated in 1.0 and will be removed in 1.2. Please use get_feature_names_out instead.\n",
      "  warnings.warn(msg, category=FutureWarning)\n"
     ]
    },
    {
     "name": "stdout",
     "output_type": "stream",
     "text": [
      "['procent', 'jaar', 'gasunie', 'nam', 'waddenzee', 'groningen', 'gulden', 'meter', 'kabinet', 'cent', 'minister', 'kubieke', 'per', 'kubieke meter', 'gas', 'wel', 'onderzoek', 'olie', 'aardgas', 'energie']\n"
     ]
    }
   ],
   "source": [
    "data_fp= os.path.join(DATA_DIR,dir_1995,'*gas*.csv')\n",
    "gas_95 = train(data_fp,data_fp,True)"
   ]
  },
  {
   "cell_type": "markdown",
   "id": "00dcd8e3",
   "metadata": {},
   "source": [
    "### Oil"
   ]
  },
  {
   "cell_type": "code",
   "execution_count": 29,
   "id": "abd3d6db",
   "metadata": {},
   "outputs": [
    {
     "name": "stderr",
     "output_type": "stream",
     "text": [
      "/Users/Zahed001/miniforge3/envs/torch/lib/python3.8/site-packages/sklearn/utils/deprecation.py:87: FutureWarning: Function get_feature_names is deprecated; get_feature_names is deprecated in 1.0 and will be removed in 1.2. Please use get_feature_names_out instead.\n",
      "  warnings.warn(msg, category=FutureWarning)\n"
     ]
    },
    {
     "name": "stdout",
     "output_type": "stream",
     "text": [
      "['cent', 'procent', 'dollar', 'koers', 'punten', 'winst', 'index', 'jaar', 'shell', 'opec', 'vaten', 'punt', 'waarv', 'vn', 'olie unilever klm', 'id', 'gas', 'ging', 'irak', 'landen']\n"
     ]
    }
   ],
   "source": [
    "data_fp= os.path.join(DATA_DIR,dir_1995,'*oil*.csv')\n",
    "oil_95 = train(data_fp,data_fp,True)"
   ]
  },
  {
   "cell_type": "markdown",
   "id": "e6c1a755",
   "metadata": {},
   "source": [
    "## List of keywords - Coal"
   ]
  },
  {
   "cell_type": "code",
   "execution_count": 30,
   "id": "f1b2094f",
   "metadata": {},
   "outputs": [],
   "source": [
    "pd.set_option('display.max_colwidth', 255)\n",
    "d = {'years':['1960-63','1964-67','1968-71','1972-75','1976-79','1980-83','1984-87','1988-91','1992-95'],\n",
    "     'keywords-Coal':[coal_63,coal_67,coal_71,coal_75,coal_79,coal_83,coal_87,coal_91,coal_95]}\n",
    "df_coal = pd.DataFrame(data=d)\n",
    "df_coal.to_csv('coal_keywords_mostCommon.csv')"
   ]
  },
  {
   "cell_type": "markdown",
   "id": "99a56fbf",
   "metadata": {},
   "source": [
    "## List of keywords - Gas"
   ]
  },
  {
   "cell_type": "code",
   "execution_count": 31,
   "id": "6845649e",
   "metadata": {},
   "outputs": [],
   "source": [
    "d = {'years':['1960-63','1964-67','1968-71','1972-75','1976-79','1980-83','1984-87','1988-91','1992-95'],\n",
    "     'keywords-Gas':[gas_63,gas_67,gas_71,gas_75,gas_79,gas_83,gas_87,gas_91,gas_95]}\n",
    "df_gas = pd.DataFrame(data=d)\n",
    "df_gas.to_csv('gas_keywords_mostCommon.csv')"
   ]
  },
  {
   "cell_type": "markdown",
   "id": "58c3509e",
   "metadata": {},
   "source": [
    "## List of keywords - Oil"
   ]
  },
  {
   "cell_type": "code",
   "execution_count": 32,
   "id": "a6ac5d9c",
   "metadata": {},
   "outputs": [],
   "source": [
    "d = {'years':['1960-63','1964-67','1968-71','1972-75','1976-79','1980-83','1984-87','1988-91','1992-95'],\n",
    "     'keywords-Oil':[oil_63,oil_67,oil_71,oil_75,oil_79,oil_83,oil_87,oil_91,oil_95]}\n",
    "df_oil = pd.DataFrame(data=d)\n",
    "df_oil.to_csv('oil_keywords_mostCommon.csv')"
   ]
  },
  {
   "cell_type": "code",
   "execution_count": null,
   "id": "d0ba01e7",
   "metadata": {},
   "outputs": [],
   "source": []
  },
  {
   "cell_type": "code",
   "execution_count": null,
   "id": "58ea789d",
   "metadata": {},
   "outputs": [],
   "source": []
  }
 ],
 "metadata": {
  "kernelspec": {
   "display_name": "torch",
   "language": "python",
   "name": "torch"
  },
  "language_info": {
   "codemirror_mode": {
    "name": "ipython",
    "version": 3
   },
   "file_extension": ".py",
   "mimetype": "text/x-python",
   "name": "python",
   "nbconvert_exporter": "python",
   "pygments_lexer": "ipython3",
   "version": "3.8.13"
  }
 },
 "nbformat": 4,
 "nbformat_minor": 5
}
