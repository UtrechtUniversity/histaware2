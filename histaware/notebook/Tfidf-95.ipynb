{
 "cells": [
  {
   "cell_type": "code",
   "execution_count": 1,
   "id": "3174a224",
   "metadata": {},
   "outputs": [],
   "source": [
    "import sys\n",
    "import os\n",
    "sys.path.insert(0,'..')\n",
    "\n",
    "import pandas as pd\n",
    "from train_tfidf import train"
   ]
  },
  {
   "cell_type": "code",
   "execution_count": 2,
   "id": "128ccd25",
   "metadata": {},
   "outputs": [],
   "source": [
    "DATA_DIR = '../../data/fuel_selected95/'"
   ]
  },
  {
   "cell_type": "markdown",
   "id": "49ccc0a5",
   "metadata": {},
   "source": [
    "## Keywords 1960-63\n",
    "\n",
    "### Coal"
   ]
  },
  {
   "cell_type": "code",
   "execution_count": 3,
   "id": "7f57af6a",
   "metadata": {},
   "outputs": [
    {
     "name": "stderr",
     "output_type": "stream",
     "text": [
      "/Users/Zahed001/miniforge3/envs/torch/lib/python3.8/site-packages/sklearn/utils/deprecation.py:87: FutureWarning: Function get_feature_names is deprecated; get_feature_names is deprecated in 1.0 and will be removed in 1.2. Please use get_feature_names_out instead.\n",
      "  warnings.warn(msg, category=FutureWarning)\n"
     ]
    },
    {
     "name": "stdout",
     "output_type": "stream",
     "text": [
      "['studieloon', 'lysine', 'israël', 'middenstand', 'emigratie', 'megawatt', 'savannah', 'kooldioxide', 'grouw', 'mars', 'woningen', 'uien', 'huisvuil', 'ganzen', 'percent', 'min', 'nederland jaar', 'india', 'finland']\n"
     ]
    }
   ],
   "source": [
    "dir_1963 = 'tm_63'\n",
    "\n",
    "data_fp= os.path.join(DATA_DIR,dir_1963,'*coal*.csv')\n",
    "coal_63 = train(data_fp,data_fp)"
   ]
  },
  {
   "cell_type": "markdown",
   "id": "618dc411",
   "metadata": {},
   "source": [
    "### Gas"
   ]
  },
  {
   "cell_type": "code",
   "execution_count": 4,
   "id": "17b4a633",
   "metadata": {},
   "outputs": [
    {
     "name": "stderr",
     "output_type": "stream",
     "text": [
      "/Users/Zahed001/miniforge3/envs/torch/lib/python3.8/site-packages/sklearn/utils/deprecation.py:87: FutureWarning: Function get_feature_names is deprecated; get_feature_names is deprecated in 1.0 and will be removed in 1.2. Please use get_feature_names_out instead.\n",
      "  warnings.warn(msg, category=FutureWarning)\n"
     ]
    },
    {
     "name": "stdout",
     "output_type": "stream",
     "text": [
      "['aardgas', 'typisch', 'ledereen', 'mln', 'tt', 'jaar zullen', 'ft', 'niks', 'uitgeschakeld', 'seneca', 'pnt', 'integratie', 'aeolus', 'schlumberger', 'basje', 'filbert', 'eh', 'opa']\n"
     ]
    }
   ],
   "source": [
    "data_fp= os.path.join(DATA_DIR,dir_1963,'*gas*.csv')\n",
    "gas_63 = train(data_fp,data_fp)"
   ]
  },
  {
   "cell_type": "markdown",
   "id": "3d6ed654",
   "metadata": {},
   "source": [
    "### Oil"
   ]
  },
  {
   "cell_type": "code",
   "execution_count": 5,
   "id": "727f3c27",
   "metadata": {},
   "outputs": [
    {
     "name": "stderr",
     "output_type": "stream",
     "text": [
      "/Users/Zahed001/miniforge3/envs/torch/lib/python3.8/site-packages/sklearn/utils/deprecation.py:87: FutureWarning: Function get_feature_names is deprecated; get_feature_names is deprecated in 1.0 and will be removed in 1.2. Please use get_feature_names_out instead.\n",
      "  warnings.warn(msg, category=FutureWarning)\n"
     ]
    },
    {
     "name": "stdout",
     "output_type": "stream",
     "text": [
      "['olie', 'ft', 'tt', 'coevorden', 'kg', 'balt', 'brummel', 'vlieland', 'bolivar', 'energiebronnen', 'rullen', 'dlr', 'mln', 'harlingen', 'brt', 'mw', 'frank', 'terneuzen', 'ms', 'beambten']\n"
     ]
    }
   ],
   "source": [
    "data_fp= os.path.join(DATA_DIR,dir_1963,'*oil*.csv')\n",
    "oil_63 = train(data_fp,data_fp)"
   ]
  },
  {
   "cell_type": "markdown",
   "id": "f3d1b6c2",
   "metadata": {},
   "source": [
    "## Keywords 1964-67\n",
    "\n",
    "### Coal"
   ]
  },
  {
   "cell_type": "code",
   "execution_count": 6,
   "id": "a9e883fc",
   "metadata": {},
   "outputs": [
    {
     "name": "stderr",
     "output_type": "stream",
     "text": [
      "/Users/Zahed001/miniforge3/envs/torch/lib/python3.8/site-packages/sklearn/utils/deprecation.py:87: FutureWarning: Function get_feature_names is deprecated; get_feature_names is deprecated in 1.0 and will be removed in 1.2. Please use get_feature_names_out instead.\n",
      "  warnings.warn(msg, category=FutureWarning)\n"
     ]
    },
    {
     "name": "stdout",
     "output_type": "stream",
     "text": [
      "['torn', 'rijnstaal', 'houtskool', 'kw', 'lysine', 'thyssen', 'zambia', 'gvs', 'rwe', 'ketelkolen', 'rhodesia', 'huisvrouwen', 'ac', 'gulf', 'prijsvragen', 'ske', 'gas unie', 'doranjeboom']\n"
     ]
    }
   ],
   "source": [
    "dir_1967 = 'tm_67'\n",
    "\n",
    "data_fp= os.path.join(DATA_DIR,dir_1967,'*coal*.csv')\n",
    "coal_67 = train(data_fp,data_fp)"
   ]
  },
  {
   "cell_type": "markdown",
   "id": "0905d671",
   "metadata": {},
   "source": [
    "### Gas"
   ]
  },
  {
   "cell_type": "code",
   "execution_count": 7,
   "id": "29413f84",
   "metadata": {},
   "outputs": [
    {
     "name": "stderr",
     "output_type": "stream",
     "text": [
      "/Users/Zahed001/miniforge3/envs/torch/lib/python3.8/site-packages/sklearn/utils/deprecation.py:87: FutureWarning: Function get_feature_names is deprecated; get_feature_names is deprecated in 1.0 and will be removed in 1.2. Please use get_feature_names_out instead.\n",
      "  warnings.warn(msg, category=FutureWarning)\n"
     ]
    },
    {
     "name": "stdout",
     "output_type": "stream",
     "text": [
      "['zei', 'nt', 'aardgas', 'ontevreden', 'voel', 'iraakse', 'proc', 'ay', 'avro', 'ex', 'verdubbeld', 'aug', 'strepen', 'frankie', 'prettiger', 'naalden', 'ballon', 'schwerin', 'do', 'lucy']\n"
     ]
    }
   ],
   "source": [
    "data_fp= os.path.join(DATA_DIR,dir_1967,'*gas*.csv')\n",
    "gas_67 = train(data_fp,data_fp)"
   ]
  },
  {
   "cell_type": "markdown",
   "id": "cc908bb3",
   "metadata": {},
   "source": [
    "### Oil"
   ]
  },
  {
   "cell_type": "code",
   "execution_count": 8,
   "id": "465b4876",
   "metadata": {},
   "outputs": [
    {
     "name": "stderr",
     "output_type": "stream",
     "text": [
      "/Users/Zahed001/miniforge3/envs/torch/lib/python3.8/site-packages/sklearn/utils/deprecation.py:87: FutureWarning: Function get_feature_names is deprecated; get_feature_names is deprecated in 1.0 and will be removed in 1.2. Please use get_feature_names_out instead.\n",
      "  warnings.warn(msg, category=FutureWarning)\n"
     ]
    },
    {
     "name": "stdout",
     "output_type": "stream",
     "text": [
      "['nt', 'duurder', 'fanny', 'milj', 'rp', 'claude', 'peso', 'terugkeer', 'lutkie', 'duits', 'jood', 'jezus', 'cement', 'can', 'nr', 'wijkeentra', 'slang', 'verdubbeld', 'kw']\n"
     ]
    }
   ],
   "source": [
    "data_fp= os.path.join(DATA_DIR,dir_1967,'*oil*.csv')\n",
    "oil_67 = train(data_fp,data_fp)"
   ]
  },
  {
   "cell_type": "markdown",
   "id": "1bd229f3",
   "metadata": {},
   "source": [
    "## Keywords 1968-71\n",
    "\n",
    "### Coal"
   ]
  },
  {
   "cell_type": "code",
   "execution_count": 9,
   "id": "090a1007",
   "metadata": {},
   "outputs": [
    {
     "name": "stderr",
     "output_type": "stream",
     "text": [
      "/Users/Zahed001/miniforge3/envs/torch/lib/python3.8/site-packages/sklearn/utils/deprecation.py:87: FutureWarning: Function get_feature_names is deprecated; get_feature_names is deprecated in 1.0 and will be removed in 1.2. Please use get_feature_names_out instead.\n",
      "  warnings.warn(msg, category=FutureWarning)\n"
     ]
    },
    {
     "name": "stdout",
     "output_type": "stream",
     "text": [
      "['mijnsteen', 'pakistan', 'gw', 'ddr', 'kunstnier', 'plutonium', 'lago', 'toeneming', 'napels', 'zonne', 'vkr', 'watersport', 'pet', 'caja', 'accijns', 'dollar', 'dcl', 'nur', 'brugge', 'batavus']\n"
     ]
    }
   ],
   "source": [
    "dir_1971 = 'tm_71'\n",
    "\n",
    "data_fp= os.path.join(DATA_DIR,dir_1971,'*coal*.csv')\n",
    "coal_71 = train(data_fp,data_fp)"
   ]
  },
  {
   "cell_type": "markdown",
   "id": "f6c737d9",
   "metadata": {},
   "source": [
    "### Gas"
   ]
  },
  {
   "cell_type": "code",
   "execution_count": 10,
   "id": "5d6e7e95",
   "metadata": {},
   "outputs": [
    {
     "name": "stderr",
     "output_type": "stream",
     "text": [
      "/Users/Zahed001/miniforge3/envs/torch/lib/python3.8/site-packages/sklearn/utils/deprecation.py:87: FutureWarning: Function get_feature_names is deprecated; get_feature_names is deprecated in 1.0 and will be removed in 1.2. Please use get_feature_names_out instead.\n",
      "  warnings.warn(msg, category=FutureWarning)\n"
     ]
    },
    {
     "name": "stdout",
     "output_type": "stream",
     "text": [
      "['investering', 'aardgas', 'efficiënt', 'percent', 'roosteren', 'zei minister', 'etheen', 'aga', 'bew', 'haalbaar', 'maddox', 'uitgevoerde', 'schelp', 'vuurwerk', 'zelfmoord', 'gaan zien', 'schoenmaker', 'zon', 'minst', 'hennep']\n"
     ]
    }
   ],
   "source": [
    "data_fp= os.path.join(DATA_DIR,dir_1971,'*gas*.csv')\n",
    "gas_71 = train(data_fp,data_fp)"
   ]
  },
  {
   "cell_type": "markdown",
   "id": "0f49e915",
   "metadata": {},
   "source": [
    "### Oil"
   ]
  },
  {
   "cell_type": "code",
   "execution_count": 11,
   "id": "37af9c48",
   "metadata": {},
   "outputs": [
    {
     "name": "stderr",
     "output_type": "stream",
     "text": [
      "/Users/Zahed001/miniforge3/envs/torch/lib/python3.8/site-packages/sklearn/utils/deprecation.py:87: FutureWarning: Function get_feature_names is deprecated; get_feature_names is deprecated in 1.0 and will be removed in 1.2. Please use get_feature_names_out instead.\n",
      "  warnings.warn(msg, category=FutureWarning)\n"
     ]
    },
    {
     "name": "stdout",
     "output_type": "stream",
     "text": [
      "['olie', 'volkswoningen', 'mln', 'gmbh', 'pt', 'dm', 'efficiënt', 'loehr', 'floris', 'huid', 'plant', 'kas', 'zon', 'barrels', 'algen', 'penh', 'wintershall', 'bew']\n"
     ]
    }
   ],
   "source": [
    "data_fp= os.path.join(DATA_DIR,dir_1971,'*oil*.csv')\n",
    "oil_71 = train(data_fp,data_fp)"
   ]
  },
  {
   "cell_type": "markdown",
   "id": "3156c71a",
   "metadata": {},
   "source": [
    "## Keywords 1972-75\n",
    "\n",
    "### Coal"
   ]
  },
  {
   "cell_type": "code",
   "execution_count": 12,
   "id": "5acecba2",
   "metadata": {},
   "outputs": [
    {
     "name": "stderr",
     "output_type": "stream",
     "text": [
      "/Users/Zahed001/miniforge3/envs/torch/lib/python3.8/site-packages/sklearn/utils/deprecation.py:87: FutureWarning: Function get_feature_names is deprecated; get_feature_names is deprecated in 1.0 and will be removed in 1.2. Please use get_feature_names_out instead.\n",
      "  warnings.warn(msg, category=FutureWarning)\n"
     ]
    },
    {
     "name": "stdout",
     "output_type": "stream",
     "text": [
      "['mtoe', 'forint', 'venus', 'mw', 'milj', 'methanol', 'ta', 'waarom', 'cent', 'gemaal', 'multinationals', 'ssm', 'antarctica', 'cara', 'leeuwarden', 'mogelijkheden kernenergie', 'gebrachte', 'duurder', 'schering', 'ethaan']\n"
     ]
    }
   ],
   "source": [
    "dir_1975 = 'tm_75'\n",
    "\n",
    "data_fp= os.path.join(DATA_DIR,dir_1975,'*coal*.csv')\n",
    "coal_75 = train(data_fp,data_fp)"
   ]
  },
  {
   "cell_type": "markdown",
   "id": "df14f441",
   "metadata": {},
   "source": [
    "### Gas"
   ]
  },
  {
   "cell_type": "code",
   "execution_count": 13,
   "id": "7d15276d",
   "metadata": {},
   "outputs": [
    {
     "name": "stderr",
     "output_type": "stream",
     "text": [
      "/Users/Zahed001/miniforge3/envs/torch/lib/python3.8/site-packages/sklearn/utils/deprecation.py:87: FutureWarning: Function get_feature_names is deprecated; get_feature_names is deprecated in 1.0 and will be removed in 1.2. Please use get_feature_names_out instead.\n",
      "  warnings.warn(msg, category=FutureWarning)\n"
     ]
    },
    {
     "name": "stdout",
     "output_type": "stream",
     "text": [
      "['wel', 'aardgas', 'parijs', 'jf', 'mee moeten', 'weinigen', 'turf', 'gogh', 'saba', 'drie gulden', 'ontvangsten', 'visserweert', 'basf', 'skoop', 'sabotage', 'drs', 'vlek', 'denk', 'herbie', 'io']\n"
     ]
    }
   ],
   "source": [
    "data_fp= os.path.join(DATA_DIR,dir_1975,'*gas*.csv')\n",
    "gas_75 = train(data_fp,data_fp)"
   ]
  },
  {
   "cell_type": "markdown",
   "id": "ffb8bc6e",
   "metadata": {},
   "source": [
    "### Oil"
   ]
  },
  {
   "cell_type": "code",
   "execution_count": 14,
   "id": "ec87e41e",
   "metadata": {},
   "outputs": [
    {
     "name": "stderr",
     "output_type": "stream",
     "text": [
      "/Users/Zahed001/miniforge3/envs/torch/lib/python3.8/site-packages/sklearn/utils/deprecation.py:87: FutureWarning: Function get_feature_names is deprecated; get_feature_names is deprecated in 1.0 and will be removed in 1.2. Please use get_feature_names_out instead.\n",
      "  warnings.warn(msg, category=FutureWarning)\n"
     ]
    },
    {
     "name": "stdout",
     "output_type": "stream",
     "text": [
      "['olie', 'landen', 'mrd', 'cebeco', 'fl', 'mg', 'pond', 'curom', 'turf', 'sjah', 'jk', 'kernenergie', 'winair', 'bomen', 'koerden', 'accu', 'kwh', 'taxichauffeurs', 'procent', 'basf']\n"
     ]
    }
   ],
   "source": [
    "data_fp= os.path.join(DATA_DIR,dir_1975,'*oil*.csv')\n",
    "oil_75 = train(data_fp,data_fp)"
   ]
  },
  {
   "cell_type": "markdown",
   "id": "db96d441",
   "metadata": {},
   "source": [
    "## Keywords 1975-79\n",
    "\n",
    "### Coal"
   ]
  },
  {
   "cell_type": "code",
   "execution_count": 15,
   "id": "e68b5a94",
   "metadata": {},
   "outputs": [
    {
     "name": "stderr",
     "output_type": "stream",
     "text": [
      "/Users/Zahed001/miniforge3/envs/torch/lib/python3.8/site-packages/sklearn/utils/deprecation.py:87: FutureWarning: Function get_feature_names is deprecated; get_feature_names is deprecated in 1.0 and will be removed in 1.2. Please use get_feature_names_out instead.\n",
      "  warnings.warn(msg, category=FutureWarning)\n"
     ]
    },
    {
     "name": "stdout",
     "output_type": "stream",
     "text": [
      "['probleem kernenergie', 'methode', 'yuan', 'méér', 'bbu', 'blumenthai', 'owen', 'eenheden', 'gelei', 'linthorst', 'slurrie', 'atoomenergie', 'zwavel', 'ske', 'barrels', 'israel', 'gw', 'zwaveluitworp', 'mijnsteen', 'dohmen']\n"
     ]
    }
   ],
   "source": [
    "dir_1979 = 'tm_79'\n",
    "\n",
    "data_fp= os.path.join(DATA_DIR,dir_1979,'*coal*.csv')\n",
    "coal_79 = train(data_fp,data_fp)"
   ]
  },
  {
   "cell_type": "markdown",
   "id": "4e5c1f8e",
   "metadata": {},
   "source": [
    "### Gas"
   ]
  },
  {
   "cell_type": "code",
   "execution_count": 16,
   "id": "14206356",
   "metadata": {},
   "outputs": [
    {
     "name": "stderr",
     "output_type": "stream",
     "text": [
      "/Users/Zahed001/miniforge3/envs/torch/lib/python3.8/site-packages/sklearn/utils/deprecation.py:87: FutureWarning: Function get_feature_names is deprecated; get_feature_names is deprecated in 1.0 and will be removed in 1.2. Please use get_feature_names_out instead.\n",
      "  warnings.warn(msg, category=FutureWarning)\n"
     ]
    },
    {
     "name": "stdout",
     "output_type": "stream",
     "text": [
      "['inhouden', 'aardgas', 'portier', 'ct', 'rekeneenheden', 'ronald', 'waal', 'expeditie', 'sluit', 'straalt', 'sittard', 'jan', 'moeten aldus', 'poule', 'vorm', 'zei', 'saba', 'dwang']\n"
     ]
    }
   ],
   "source": [
    "data_fp= os.path.join(DATA_DIR,dir_1979,'*gas*.csv')\n",
    "gas_79 = train(data_fp,data_fp)"
   ]
  },
  {
   "cell_type": "markdown",
   "id": "9da2e7b0",
   "metadata": {},
   "source": [
    "### Oil"
   ]
  },
  {
   "cell_type": "code",
   "execution_count": 17,
   "id": "c6d5d767",
   "metadata": {},
   "outputs": [
    {
     "name": "stderr",
     "output_type": "stream",
     "text": [
      "/Users/Zahed001/miniforge3/envs/torch/lib/python3.8/site-packages/sklearn/utils/deprecation.py:87: FutureWarning: Function get_feature_names is deprecated; get_feature_names is deprecated in 1.0 and will be removed in 1.2. Please use get_feature_names_out instead.\n",
      "  warnings.warn(msg, category=FutureWarning)\n"
     ]
    },
    {
     "name": "stdout",
     "output_type": "stream",
     "text": [
      "['olieboycot', 'waarschuwde', 'miss', 'nie', 'tempel', 'jan', 'piar', 'schreiner', 'suiker', 'belridge', 'expeditie', 'pcb', 'dr', 'punt', 'gwu', 'vogels', 'kerkrade', 'lpg']\n"
     ]
    }
   ],
   "source": [
    "data_fp= os.path.join(DATA_DIR,dir_1979,'*oil*.csv')\n",
    "oil_79 = train(data_fp,data_fp)"
   ]
  },
  {
   "cell_type": "markdown",
   "id": "a466174f",
   "metadata": {},
   "source": [
    "## Keywords 1980-83\n",
    "\n",
    "### Coal"
   ]
  },
  {
   "cell_type": "code",
   "execution_count": 18,
   "id": "5a383f28",
   "metadata": {},
   "outputs": [
    {
     "name": "stderr",
     "output_type": "stream",
     "text": [
      "/Users/Zahed001/miniforge3/envs/torch/lib/python3.8/site-packages/sklearn/utils/deprecation.py:87: FutureWarning: Function get_feature_names is deprecated; get_feature_names is deprecated in 1.0 and will be removed in 1.2. Please use get_feature_names_out instead.\n",
      "  warnings.warn(msg, category=FutureWarning)\n"
     ]
    },
    {
     "name": "stdout",
     "output_type": "stream",
     "text": [
      "['fl', 'mwe', 'éénderde', 'dd']\n"
     ]
    }
   ],
   "source": [
    "dir_1983 = 'tm_83'\n",
    "\n",
    "data_fp= os.path.join(DATA_DIR,dir_1983,'*coal*.csv')\n",
    "coal_83 = train(data_fp,data_fp)"
   ]
  },
  {
   "cell_type": "markdown",
   "id": "0a7da80f",
   "metadata": {},
   "source": [
    "### Gas"
   ]
  },
  {
   "cell_type": "code",
   "execution_count": 19,
   "id": "46cb8203",
   "metadata": {},
   "outputs": [
    {
     "name": "stderr",
     "output_type": "stream",
     "text": [
      "/Users/Zahed001/miniforge3/envs/torch/lib/python3.8/site-packages/sklearn/utils/deprecation.py:87: FutureWarning: Function get_feature_names is deprecated; get_feature_names is deprecated in 1.0 and will be removed in 1.2. Please use get_feature_names_out instead.\n",
      "  warnings.warn(msg, category=FutureWarning)\n"
     ]
    },
    {
     "name": "stdout",
     "output_type": "stream",
     "text": [
      "['misverstand', 'gulden', 'subsidie', 'arugas', 'gen', 'molens', 'quasars']\n"
     ]
    }
   ],
   "source": [
    "data_fp= os.path.join(DATA_DIR,dir_1983,'*gas*.csv')\n",
    "gas_83 = train(data_fp,data_fp)"
   ]
  },
  {
   "cell_type": "markdown",
   "id": "ce9be22f",
   "metadata": {},
   "source": [
    "### Oil"
   ]
  },
  {
   "cell_type": "code",
   "execution_count": 20,
   "id": "1352524c",
   "metadata": {},
   "outputs": [
    {
     "name": "stderr",
     "output_type": "stream",
     "text": [
      "/Users/Zahed001/miniforge3/envs/torch/lib/python3.8/site-packages/sklearn/utils/deprecation.py:87: FutureWarning: Function get_feature_names is deprecated; get_feature_names is deprecated in 1.0 and will be removed in 1.2. Please use get_feature_names_out instead.\n",
      "  warnings.warn(msg, category=FutureWarning)\n"
     ]
    },
    {
     "name": "stdout",
     "output_type": "stream",
     "text": [
      "['web', 'tijssen', 'harlingen', 'ligniet', 'frank', 'mw', 'alcohol', 'cuba', 'volvo', 'botswana', 'tsjaad', 'suiker', 'klm', 'hoogovens', 'akzo', 'roepia', 'beatrix', 'antarctica', 'seizoen', 'joegoslavië']\n"
     ]
    }
   ],
   "source": [
    "data_fp= os.path.join(DATA_DIR,dir_1983,'*oil*.csv')\n",
    "oil_83 = train(data_fp,data_fp)"
   ]
  },
  {
   "cell_type": "markdown",
   "id": "e3d500d9",
   "metadata": {},
   "source": [
    "## Keywords 1984-87\n",
    "\n",
    "### Coal"
   ]
  },
  {
   "cell_type": "code",
   "execution_count": 21,
   "id": "648357f7",
   "metadata": {},
   "outputs": [
    {
     "name": "stderr",
     "output_type": "stream",
     "text": [
      "/Users/Zahed001/miniforge3/envs/torch/lib/python3.8/site-packages/sklearn/utils/deprecation.py:87: FutureWarning: Function get_feature_names is deprecated; get_feature_names is deprecated in 1.0 and will be removed in 1.2. Please use get_feature_names_out instead.\n",
      "  warnings.warn(msg, category=FutureWarning)\n"
     ]
    },
    {
     "name": "stdout",
     "output_type": "stream",
     "text": [
      "['grind', 'jones', 'accu', 'alo']\n"
     ]
    }
   ],
   "source": [
    "dir_1987 = 'tm_87'\n",
    "\n",
    "data_fp= os.path.join(DATA_DIR,dir_1987,'*coal*.csv')\n",
    "coal_87 = train(data_fp,data_fp)"
   ]
  },
  {
   "cell_type": "markdown",
   "id": "bb438445",
   "metadata": {},
   "source": [
    "### Gas"
   ]
  },
  {
   "cell_type": "code",
   "execution_count": 22,
   "id": "af2cd38f",
   "metadata": {},
   "outputs": [
    {
     "name": "stderr",
     "output_type": "stream",
     "text": [
      "/Users/Zahed001/miniforge3/envs/torch/lib/python3.8/site-packages/sklearn/utils/deprecation.py:87: FutureWarning: Function get_feature_names is deprecated; get_feature_names is deprecated in 1.0 and will be removed in 1.2. Please use get_feature_names_out instead.\n",
      "  warnings.warn(msg, category=FutureWarning)\n"
     ]
    },
    {
     "name": "stdout",
     "output_type": "stream",
     "text": [
      "['zeggen', 'waard', 'volgens', 'regering', 'helpen', 'gulden', 'geval']\n"
     ]
    }
   ],
   "source": [
    "data_fp= os.path.join(DATA_DIR,dir_1987,'*gas*.csv')\n",
    "gas_87 = train(data_fp,data_fp)"
   ]
  },
  {
   "cell_type": "markdown",
   "id": "b5ee6157",
   "metadata": {},
   "source": [
    "### Oil"
   ]
  },
  {
   "cell_type": "code",
   "execution_count": 23,
   "id": "ca4eb14c",
   "metadata": {},
   "outputs": [
    {
     "name": "stderr",
     "output_type": "stream",
     "text": [
      "/Users/Zahed001/miniforge3/envs/torch/lib/python3.8/site-packages/sklearn/utils/deprecation.py:87: FutureWarning: Function get_feature_names is deprecated; get_feature_names is deprecated in 1.0 and will be removed in 1.2. Please use get_feature_names_out instead.\n",
      "  warnings.warn(msg, category=FutureWarning)\n"
     ]
    },
    {
     "name": "stdout",
     "output_type": "stream",
     "text": [
      "['kw', 'rsv', 'soedan', 'dsm', 'lago', 'pakhoed', 'avp', 'israel', 'lansink', 'china', 'martinair', 'vluchtelingen', 'flexicoker', 'autobanden', 'crestian', 'alcohol', 'vno', 'web', 'worldwatch', 'bouterse']\n"
     ]
    }
   ],
   "source": [
    "data_fp= os.path.join(DATA_DIR,dir_1987,'*oil*.csv')\n",
    "oil_87 = train(data_fp,data_fp)"
   ]
  },
  {
   "cell_type": "markdown",
   "id": "18c48cfd",
   "metadata": {},
   "source": [
    "## Keywords 1988-91\n",
    "\n",
    "### Coal"
   ]
  },
  {
   "cell_type": "code",
   "execution_count": 24,
   "id": "2ab65656",
   "metadata": {},
   "outputs": [
    {
     "name": "stderr",
     "output_type": "stream",
     "text": [
      "/Users/Zahed001/miniforge3/envs/torch/lib/python3.8/site-packages/sklearn/utils/deprecation.py:87: FutureWarning: Function get_feature_names is deprecated; get_feature_names is deprecated in 1.0 and will be removed in 1.2. Please use get_feature_names_out instead.\n",
      "  warnings.warn(msg, category=FutureWarning)\n"
     ]
    },
    {
     "name": "stdout",
     "output_type": "stream",
     "text": [
      "['waterstof', 'emden', 'iraq', 'rsv', 'campings']\n"
     ]
    }
   ],
   "source": [
    "dir_1991 = 'tm_91'\n",
    "\n",
    "data_fp= os.path.join(DATA_DIR,dir_1991,'*coal*.csv')\n",
    "coal_91 = train(data_fp,data_fp)"
   ]
  },
  {
   "cell_type": "markdown",
   "id": "4b915423",
   "metadata": {},
   "source": [
    "### Gas"
   ]
  },
  {
   "cell_type": "code",
   "execution_count": 25,
   "id": "02e38a62",
   "metadata": {},
   "outputs": [
    {
     "name": "stderr",
     "output_type": "stream",
     "text": [
      "/Users/Zahed001/miniforge3/envs/torch/lib/python3.8/site-packages/sklearn/utils/deprecation.py:87: FutureWarning: Function get_feature_names is deprecated; get_feature_names is deprecated in 1.0 and will be removed in 1.2. Please use get_feature_names_out instead.\n",
      "  warnings.warn(msg, category=FutureWarning)\n"
     ]
    },
    {
     "name": "stdout",
     "output_type": "stream",
     "text": [
      "['moeten', 'aardgas', 'tuurlijk', 'zeeland', 'jaar aardgas', 'milieuramp', 'tussendoor', 'nr', 'roebel', 'vlees']\n"
     ]
    }
   ],
   "source": [
    "data_fp= os.path.join(DATA_DIR,dir_1991,'*gas*.csv')\n",
    "gas_91 = train(data_fp,data_fp)"
   ]
  },
  {
   "cell_type": "markdown",
   "id": "b3882df5",
   "metadata": {},
   "source": [
    "### Oil"
   ]
  },
  {
   "cell_type": "code",
   "execution_count": 26,
   "id": "a6a8b48a",
   "metadata": {},
   "outputs": [
    {
     "name": "stderr",
     "output_type": "stream",
     "text": [
      "/Users/Zahed001/miniforge3/envs/torch/lib/python3.8/site-packages/sklearn/utils/deprecation.py:87: FutureWarning: Function get_feature_names is deprecated; get_feature_names is deprecated in 1.0 and will be removed in 1.2. Please use get_feature_names_out instead.\n",
      "  warnings.warn(msg, category=FutureWarning)\n"
     ]
    },
    {
     "name": "stdout",
     "output_type": "stream",
     "text": [
      "['barry', 'quick', 'bernard', 'fignon']\n"
     ]
    }
   ],
   "source": [
    "data_fp= os.path.join(DATA_DIR,dir_1991,'*oil*.csv')\n",
    "oil_91 = train(data_fp,data_fp)"
   ]
  },
  {
   "cell_type": "markdown",
   "id": "b8fd329e",
   "metadata": {},
   "source": [
    "## Keywords 1992-95\n",
    "### Coal"
   ]
  },
  {
   "cell_type": "code",
   "execution_count": 27,
   "id": "61f404cf",
   "metadata": {},
   "outputs": [
    {
     "name": "stderr",
     "output_type": "stream",
     "text": [
      "/Users/Zahed001/miniforge3/envs/torch/lib/python3.8/site-packages/sklearn/utils/deprecation.py:87: FutureWarning: Function get_feature_names is deprecated; get_feature_names is deprecated in 1.0 and will be removed in 1.2. Please use get_feature_names_out instead.\n",
      "  warnings.warn(msg, category=FutureWarning)\n"
     ]
    },
    {
     "name": "stdout",
     "output_type": "stream",
     "text": [
      "['aluminium', 'polymeren', 'ethanol', 'cfk', 'afrika', 'uitbreiding kernenergie', 'ijs']\n"
     ]
    }
   ],
   "source": [
    "dir_1995= 'tm_95'\n",
    "\n",
    "data_fp= os.path.join(DATA_DIR,dir_1995,'*coal*.csv')\n",
    "coal_95 = train(data_fp,data_fp)"
   ]
  },
  {
   "cell_type": "markdown",
   "id": "5ad982d5",
   "metadata": {},
   "source": [
    "### Gas"
   ]
  },
  {
   "cell_type": "code",
   "execution_count": 28,
   "id": "014dace2",
   "metadata": {},
   "outputs": [
    {
     "name": "stderr",
     "output_type": "stream",
     "text": [
      "/Users/Zahed001/miniforge3/envs/torch/lib/python3.8/site-packages/sklearn/utils/deprecation.py:87: FutureWarning: Function get_feature_names is deprecated; get_feature_names is deprecated in 1.0 and will be removed in 1.2. Please use get_feature_names_out instead.\n",
      "  warnings.warn(msg, category=FutureWarning)\n"
     ]
    },
    {
     "name": "stdout",
     "output_type": "stream",
     "text": [
      "['minister', 'argument', 'aardgas', 'goedkeuring', 'rpf', 'zegel', 'db', 'kippernest', 'uitvallen', 'gdv', 'nedlloyd', 'steeg procent', 'gevaar lopen', 'spuitbus', 'hcs', 'reactoren', 'opstellen', 'kramer', 'magnetron', 'penn']\n"
     ]
    }
   ],
   "source": [
    "data_fp= os.path.join(DATA_DIR,dir_1995,'*gas*.csv')\n",
    "gas_95 = train(data_fp,data_fp)"
   ]
  },
  {
   "cell_type": "markdown",
   "id": "61564495",
   "metadata": {},
   "source": [
    "### Oil"
   ]
  },
  {
   "cell_type": "code",
   "execution_count": 29,
   "id": "6cfc6328",
   "metadata": {},
   "outputs": [
    {
     "name": "stderr",
     "output_type": "stream",
     "text": [
      "/Users/Zahed001/miniforge3/envs/torch/lib/python3.8/site-packages/sklearn/utils/deprecation.py:87: FutureWarning: Function get_feature_names is deprecated; get_feature_names is deprecated in 1.0 and will be removed in 1.2. Please use get_feature_names_out instead.\n",
      "  warnings.warn(msg, category=FutureWarning)\n"
     ]
    },
    {
     "name": "stdout",
     "output_type": "stream",
     "text": [
      "['uur', 'dinar', 'aloë', 'kenner', 'god', 'pci']\n"
     ]
    }
   ],
   "source": [
    "data_fp= os.path.join(DATA_DIR,dir_1995,'*oil*.csv')\n",
    "oil_95 = train(data_fp,data_fp)"
   ]
  },
  {
   "cell_type": "code",
   "execution_count": 30,
   "id": "3e92c8a6",
   "metadata": {},
   "outputs": [
    {
     "data": {
      "text/html": [
       "<div>\n",
       "<style scoped>\n",
       "    .dataframe tbody tr th:only-of-type {\n",
       "        vertical-align: middle;\n",
       "    }\n",
       "\n",
       "    .dataframe tbody tr th {\n",
       "        vertical-align: top;\n",
       "    }\n",
       "\n",
       "    .dataframe thead th {\n",
       "        text-align: right;\n",
       "    }\n",
       "</style>\n",
       "<table border=\"1\" class=\"dataframe\">\n",
       "  <thead>\n",
       "    <tr style=\"text-align: right;\">\n",
       "      <th></th>\n",
       "      <th>years</th>\n",
       "      <th>keywords-Coal</th>\n",
       "    </tr>\n",
       "  </thead>\n",
       "  <tbody>\n",
       "    <tr>\n",
       "      <th>0</th>\n",
       "      <td>1960-63</td>\n",
       "      <td>[studieloon, lysine, israël, middenstand, emigratie, megawatt, savannah, kooldioxide, grouw, mars, woningen, uien, huisvuil, ganzen, percent, min, nederland jaar, india, finland]</td>\n",
       "    </tr>\n",
       "    <tr>\n",
       "      <th>1</th>\n",
       "      <td>1964-67</td>\n",
       "      <td>[torn, rijnstaal, houtskool, kw, lysine, thyssen, zambia, gvs, rwe, ketelkolen, rhodesia, huisvrouwen, ac, gulf, prijsvragen, ske, gas unie, doranjeboom]</td>\n",
       "    </tr>\n",
       "    <tr>\n",
       "      <th>2</th>\n",
       "      <td>1968-71</td>\n",
       "      <td>[mijnsteen, pakistan, gw, ddr, kunstnier, plutonium, lago, toeneming, napels, zonne, vkr, watersport, pet, caja, accijns, dollar, dcl, nur, brugge, batavus]</td>\n",
       "    </tr>\n",
       "    <tr>\n",
       "      <th>3</th>\n",
       "      <td>1972-1975</td>\n",
       "      <td>[mtoe, forint, venus, mw, milj, methanol, ta, waarom, cent, gemaal, multinationals, ssm, antarctica, cara, leeuwarden, mogelijkheden kernenergie, gebrachte, duurder, schering, ethaan]</td>\n",
       "    </tr>\n",
       "    <tr>\n",
       "      <th>4</th>\n",
       "      <td>1976-79</td>\n",
       "      <td>[probleem kernenergie, methode, yuan, méér, bbu, blumenthai, owen, eenheden, gelei, linthorst, slurrie, atoomenergie, zwavel, ske, barrels, israel, gw, zwaveluitworp, mijnsteen, dohmen]</td>\n",
       "    </tr>\n",
       "    <tr>\n",
       "      <th>5</th>\n",
       "      <td>1980-83</td>\n",
       "      <td>[fl, mwe, éénderde, dd]</td>\n",
       "    </tr>\n",
       "    <tr>\n",
       "      <th>6</th>\n",
       "      <td>1984-87</td>\n",
       "      <td>[grind, jones, accu, alo]</td>\n",
       "    </tr>\n",
       "    <tr>\n",
       "      <th>7</th>\n",
       "      <td>1988-91</td>\n",
       "      <td>[waterstof, emden, iraq, rsv, campings]</td>\n",
       "    </tr>\n",
       "    <tr>\n",
       "      <th>8</th>\n",
       "      <td>1992-95</td>\n",
       "      <td>[aluminium, polymeren, ethanol, cfk, afrika, uitbreiding kernenergie, ijs]</td>\n",
       "    </tr>\n",
       "  </tbody>\n",
       "</table>\n",
       "</div>"
      ],
      "text/plain": [
       "       years  \\\n",
       "0    1960-63   \n",
       "1    1964-67   \n",
       "2    1968-71   \n",
       "3  1972-1975   \n",
       "4    1976-79   \n",
       "5    1980-83   \n",
       "6    1984-87   \n",
       "7    1988-91   \n",
       "8    1992-95   \n",
       "\n",
       "                                                                                                                                                                               keywords-Coal  \n",
       "0         [studieloon, lysine, israël, middenstand, emigratie, megawatt, savannah, kooldioxide, grouw, mars, woningen, uien, huisvuil, ganzen, percent, min, nederland jaar, india, finland]  \n",
       "1                                  [torn, rijnstaal, houtskool, kw, lysine, thyssen, zambia, gvs, rwe, ketelkolen, rhodesia, huisvrouwen, ac, gulf, prijsvragen, ske, gas unie, doranjeboom]  \n",
       "2                               [mijnsteen, pakistan, gw, ddr, kunstnier, plutonium, lago, toeneming, napels, zonne, vkr, watersport, pet, caja, accijns, dollar, dcl, nur, brugge, batavus]  \n",
       "3    [mtoe, forint, venus, mw, milj, methanol, ta, waarom, cent, gemaal, multinationals, ssm, antarctica, cara, leeuwarden, mogelijkheden kernenergie, gebrachte, duurder, schering, ethaan]  \n",
       "4  [probleem kernenergie, methode, yuan, méér, bbu, blumenthai, owen, eenheden, gelei, linthorst, slurrie, atoomenergie, zwavel, ske, barrels, israel, gw, zwaveluitworp, mijnsteen, dohmen]  \n",
       "5                                                                                                                                                                    [fl, mwe, éénderde, dd]  \n",
       "6                                                                                                                                                                  [grind, jones, accu, alo]  \n",
       "7                                                                                                                                                    [waterstof, emden, iraq, rsv, campings]  \n",
       "8                                                                                                                 [aluminium, polymeren, ethanol, cfk, afrika, uitbreiding kernenergie, ijs]  "
      ]
     },
     "execution_count": 30,
     "metadata": {},
     "output_type": "execute_result"
    }
   ],
   "source": [
    "pd.set_option('display.max_colwidth', 255)\n",
    "d = {'years':['1960-63','1964-67','1968-71','1972-1975','1976-79','1980-83','1984-87','1988-91','1992-95'],\n",
    "     'keywords-Coal':[coal_63,coal_67,coal_71,coal_75,coal_79,coal_83,coal_87,coal_91,coal_95]}\n",
    "pd.DataFrame(data=d)"
   ]
  },
  {
   "cell_type": "code",
   "execution_count": 31,
   "id": "f0850dff",
   "metadata": {},
   "outputs": [
    {
     "data": {
      "text/html": [
       "<div>\n",
       "<style scoped>\n",
       "    .dataframe tbody tr th:only-of-type {\n",
       "        vertical-align: middle;\n",
       "    }\n",
       "\n",
       "    .dataframe tbody tr th {\n",
       "        vertical-align: top;\n",
       "    }\n",
       "\n",
       "    .dataframe thead th {\n",
       "        text-align: right;\n",
       "    }\n",
       "</style>\n",
       "<table border=\"1\" class=\"dataframe\">\n",
       "  <thead>\n",
       "    <tr style=\"text-align: right;\">\n",
       "      <th></th>\n",
       "      <th>years</th>\n",
       "      <th>keywords-Gas</th>\n",
       "    </tr>\n",
       "  </thead>\n",
       "  <tbody>\n",
       "    <tr>\n",
       "      <th>0</th>\n",
       "      <td>1960-63</td>\n",
       "      <td>[aardgas, typisch, ledereen, mln, tt, jaar zullen, ft, niks, uitgeschakeld, seneca, pnt, integratie, aeolus, schlumberger, basje, filbert, eh, opa]</td>\n",
       "    </tr>\n",
       "    <tr>\n",
       "      <th>1</th>\n",
       "      <td>1964-67</td>\n",
       "      <td>[zei, nt, aardgas, ontevreden, voel, iraakse, proc, ay, avro, ex, verdubbeld, aug, strepen, frankie, prettiger, naalden, ballon, schwerin, do, lucy]</td>\n",
       "    </tr>\n",
       "    <tr>\n",
       "      <th>2</th>\n",
       "      <td>1968-71</td>\n",
       "      <td>[investering, aardgas, efficiënt, percent, roosteren, zei minister, etheen, aga, bew, haalbaar, maddox, uitgevoerde, schelp, vuurwerk, zelfmoord, gaan zien, schoenmaker, zon, minst, hennep]</td>\n",
       "    </tr>\n",
       "    <tr>\n",
       "      <th>3</th>\n",
       "      <td>1972-75</td>\n",
       "      <td>[wel, aardgas, parijs, jf, mee moeten, weinigen, turf, gogh, saba, drie gulden, ontvangsten, visserweert, basf, skoop, sabotage, drs, vlek, denk, herbie, io]</td>\n",
       "    </tr>\n",
       "    <tr>\n",
       "      <th>4</th>\n",
       "      <td>1976-79</td>\n",
       "      <td>[inhouden, aardgas, portier, ct, rekeneenheden, ronald, waal, expeditie, sluit, straalt, sittard, jan, moeten aldus, poule, vorm, zei, saba, dwang]</td>\n",
       "    </tr>\n",
       "    <tr>\n",
       "      <th>5</th>\n",
       "      <td>1980-83</td>\n",
       "      <td>[misverstand, gulden, subsidie, arugas, gen, molens, quasars]</td>\n",
       "    </tr>\n",
       "    <tr>\n",
       "      <th>6</th>\n",
       "      <td>1984-87</td>\n",
       "      <td>[zeggen, waard, volgens, regering, helpen, gulden, geval]</td>\n",
       "    </tr>\n",
       "    <tr>\n",
       "      <th>7</th>\n",
       "      <td>1988-91</td>\n",
       "      <td>[moeten, aardgas, tuurlijk, zeeland, jaar aardgas, milieuramp, tussendoor, nr, roebel, vlees]</td>\n",
       "    </tr>\n",
       "    <tr>\n",
       "      <th>8</th>\n",
       "      <td>1992-95</td>\n",
       "      <td>[minister, argument, aardgas, goedkeuring, rpf, zegel, db, kippernest, uitvallen, gdv, nedlloyd, steeg procent, gevaar lopen, spuitbus, hcs, reactoren, opstellen, kramer, magnetron, penn]</td>\n",
       "    </tr>\n",
       "  </tbody>\n",
       "</table>\n",
       "</div>"
      ],
      "text/plain": [
       "     years  \\\n",
       "0  1960-63   \n",
       "1  1964-67   \n",
       "2  1968-71   \n",
       "3  1972-75   \n",
       "4  1976-79   \n",
       "5  1980-83   \n",
       "6  1984-87   \n",
       "7  1988-91   \n",
       "8  1992-95   \n",
       "\n",
       "                                                                                                                                                                                    keywords-Gas  \n",
       "0                                            [aardgas, typisch, ledereen, mln, tt, jaar zullen, ft, niks, uitgeschakeld, seneca, pnt, integratie, aeolus, schlumberger, basje, filbert, eh, opa]  \n",
       "1                                           [zei, nt, aardgas, ontevreden, voel, iraakse, proc, ay, avro, ex, verdubbeld, aug, strepen, frankie, prettiger, naalden, ballon, schwerin, do, lucy]  \n",
       "2  [investering, aardgas, efficiënt, percent, roosteren, zei minister, etheen, aga, bew, haalbaar, maddox, uitgevoerde, schelp, vuurwerk, zelfmoord, gaan zien, schoenmaker, zon, minst, hennep]  \n",
       "3                                  [wel, aardgas, parijs, jf, mee moeten, weinigen, turf, gogh, saba, drie gulden, ontvangsten, visserweert, basf, skoop, sabotage, drs, vlek, denk, herbie, io]  \n",
       "4                                            [inhouden, aardgas, portier, ct, rekeneenheden, ronald, waal, expeditie, sluit, straalt, sittard, jan, moeten aldus, poule, vorm, zei, saba, dwang]  \n",
       "5                                                                                                                                  [misverstand, gulden, subsidie, arugas, gen, molens, quasars]  \n",
       "6                                                                                                                                      [zeggen, waard, volgens, regering, helpen, gulden, geval]  \n",
       "7                                                                                                  [moeten, aardgas, tuurlijk, zeeland, jaar aardgas, milieuramp, tussendoor, nr, roebel, vlees]  \n",
       "8    [minister, argument, aardgas, goedkeuring, rpf, zegel, db, kippernest, uitvallen, gdv, nedlloyd, steeg procent, gevaar lopen, spuitbus, hcs, reactoren, opstellen, kramer, magnetron, penn]  "
      ]
     },
     "execution_count": 31,
     "metadata": {},
     "output_type": "execute_result"
    }
   ],
   "source": [
    "d = {'years':['1960-63','1964-67','1968-71','1972-75','1976-79','1980-83','1984-87','1988-91','1992-95'],\n",
    "     'keywords-Gas':[gas_63,gas_67,gas_71,gas_75,gas_79,gas_83,gas_87,gas_91,gas_95]}\n",
    "pd.DataFrame(data=d)"
   ]
  },
  {
   "cell_type": "code",
   "execution_count": 32,
   "id": "4f935b0c",
   "metadata": {},
   "outputs": [
    {
     "data": {
      "text/html": [
       "<div>\n",
       "<style scoped>\n",
       "    .dataframe tbody tr th:only-of-type {\n",
       "        vertical-align: middle;\n",
       "    }\n",
       "\n",
       "    .dataframe tbody tr th {\n",
       "        vertical-align: top;\n",
       "    }\n",
       "\n",
       "    .dataframe thead th {\n",
       "        text-align: right;\n",
       "    }\n",
       "</style>\n",
       "<table border=\"1\" class=\"dataframe\">\n",
       "  <thead>\n",
       "    <tr style=\"text-align: right;\">\n",
       "      <th></th>\n",
       "      <th>years</th>\n",
       "      <th>keywords-Oil</th>\n",
       "    </tr>\n",
       "  </thead>\n",
       "  <tbody>\n",
       "    <tr>\n",
       "      <th>0</th>\n",
       "      <td>1960-63</td>\n",
       "      <td>[olie, ft, tt, coevorden, kg, balt, brummel, vlieland, bolivar, energiebronnen, rullen, dlr, mln, harlingen, brt, mw, frank, terneuzen, ms, beambten]</td>\n",
       "    </tr>\n",
       "    <tr>\n",
       "      <th>1</th>\n",
       "      <td>1964-67</td>\n",
       "      <td>[nt, duurder, fanny, milj, rp, claude, peso, terugkeer, lutkie, duits, jood, jezus, cement, can, nr, wijkeentra, slang, verdubbeld, kw]</td>\n",
       "    </tr>\n",
       "    <tr>\n",
       "      <th>2</th>\n",
       "      <td>1968-71</td>\n",
       "      <td>[olie, volkswoningen, mln, gmbh, pt, dm, efficiënt, loehr, floris, huid, plant, kas, zon, barrels, algen, penh, wintershall, bew]</td>\n",
       "    </tr>\n",
       "    <tr>\n",
       "      <th>3</th>\n",
       "      <td>1972-75</td>\n",
       "      <td>[olie, landen, mrd, cebeco, fl, mg, pond, curom, turf, sjah, jk, kernenergie, winair, bomen, koerden, accu, kwh, taxichauffeurs, procent, basf]</td>\n",
       "    </tr>\n",
       "    <tr>\n",
       "      <th>4</th>\n",
       "      <td>1976-79</td>\n",
       "      <td>[olieboycot, waarschuwde, miss, nie, tempel, jan, piar, schreiner, suiker, belridge, expeditie, pcb, dr, punt, gwu, vogels, kerkrade, lpg]</td>\n",
       "    </tr>\n",
       "    <tr>\n",
       "      <th>5</th>\n",
       "      <td>1980-83</td>\n",
       "      <td>[web, tijssen, harlingen, ligniet, frank, mw, alcohol, cuba, volvo, botswana, tsjaad, suiker, klm, hoogovens, akzo, roepia, beatrix, antarctica, seizoen, joegoslavië]</td>\n",
       "    </tr>\n",
       "    <tr>\n",
       "      <th>6</th>\n",
       "      <td>1984-87</td>\n",
       "      <td>[kw, rsv, soedan, dsm, lago, pakhoed, avp, israel, lansink, china, martinair, vluchtelingen, flexicoker, autobanden, crestian, alcohol, vno, web, worldwatch, bouterse]</td>\n",
       "    </tr>\n",
       "    <tr>\n",
       "      <th>7</th>\n",
       "      <td>1988-91</td>\n",
       "      <td>[barry, quick, bernard, fignon]</td>\n",
       "    </tr>\n",
       "    <tr>\n",
       "      <th>8</th>\n",
       "      <td>1992-95</td>\n",
       "      <td>[uur, dinar, aloë, kenner, god, pci]</td>\n",
       "    </tr>\n",
       "  </tbody>\n",
       "</table>\n",
       "</div>"
      ],
      "text/plain": [
       "     years  \\\n",
       "0  1960-63   \n",
       "1  1964-67   \n",
       "2  1968-71   \n",
       "3  1972-75   \n",
       "4  1976-79   \n",
       "5  1980-83   \n",
       "6  1984-87   \n",
       "7  1988-91   \n",
       "8  1992-95   \n",
       "\n",
       "                                                                                                                                                              keywords-Oil  \n",
       "0                    [olie, ft, tt, coevorden, kg, balt, brummel, vlieland, bolivar, energiebronnen, rullen, dlr, mln, harlingen, brt, mw, frank, terneuzen, ms, beambten]  \n",
       "1                                  [nt, duurder, fanny, milj, rp, claude, peso, terugkeer, lutkie, duits, jood, jezus, cement, can, nr, wijkeentra, slang, verdubbeld, kw]  \n",
       "2                                        [olie, volkswoningen, mln, gmbh, pt, dm, efficiënt, loehr, floris, huid, plant, kas, zon, barrels, algen, penh, wintershall, bew]  \n",
       "3                          [olie, landen, mrd, cebeco, fl, mg, pond, curom, turf, sjah, jk, kernenergie, winair, bomen, koerden, accu, kwh, taxichauffeurs, procent, basf]  \n",
       "4                               [olieboycot, waarschuwde, miss, nie, tempel, jan, piar, schreiner, suiker, belridge, expeditie, pcb, dr, punt, gwu, vogels, kerkrade, lpg]  \n",
       "5   [web, tijssen, harlingen, ligniet, frank, mw, alcohol, cuba, volvo, botswana, tsjaad, suiker, klm, hoogovens, akzo, roepia, beatrix, antarctica, seizoen, joegoslavië]  \n",
       "6  [kw, rsv, soedan, dsm, lago, pakhoed, avp, israel, lansink, china, martinair, vluchtelingen, flexicoker, autobanden, crestian, alcohol, vno, web, worldwatch, bouterse]  \n",
       "7                                                                                                                                          [barry, quick, bernard, fignon]  \n",
       "8                                                                                                                                     [uur, dinar, aloë, kenner, god, pci]  "
      ]
     },
     "execution_count": 32,
     "metadata": {},
     "output_type": "execute_result"
    }
   ],
   "source": [
    "d = {'years':['1960-63','1964-67','1968-71','1972-75','1976-79','1980-83','1984-87','1988-91','1992-95'],\n",
    "     'keywords-Oil':[oil_63,oil_67,oil_71,oil_75,oil_79,oil_83,oil_87,oil_91,oil_95]}\n",
    "pd.DataFrame(data=d)"
   ]
  },
  {
   "cell_type": "code",
   "execution_count": null,
   "id": "a37a64be",
   "metadata": {},
   "outputs": [],
   "source": []
  }
 ],
 "metadata": {
  "kernelspec": {
   "display_name": "torch",
   "language": "python",
   "name": "torch"
  },
  "language_info": {
   "codemirror_mode": {
    "name": "ipython",
    "version": 3
   },
   "file_extension": ".py",
   "mimetype": "text/x-python",
   "name": "python",
   "nbconvert_exporter": "python",
   "pygments_lexer": "ipython3",
   "version": "3.8.13"
  }
 },
 "nbformat": 4,
 "nbformat_minor": 5
}
