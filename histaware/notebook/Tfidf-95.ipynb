{
 "cells": [
  {
   "cell_type": "code",
   "execution_count": 1,
   "id": "3174a224",
   "metadata": {},
   "outputs": [],
   "source": [
    "import sys\n",
    "import os\n",
    "sys.path.insert(0,'..')\n",
    "\n",
    "import pandas as pd\n",
    "from train_tfidf import train"
   ]
  },
  {
   "cell_type": "code",
   "execution_count": 2,
   "id": "128ccd25",
   "metadata": {},
   "outputs": [],
   "source": [
    "DATA_DIR = '../../data/fuel_selected95/'"
   ]
  },
  {
   "cell_type": "markdown",
   "id": "49ccc0a5",
   "metadata": {},
   "source": [
    "## Keywords 1960-63\n",
    "\n",
    "### Coal"
   ]
  },
  {
   "cell_type": "code",
   "execution_count": 3,
   "id": "7f57af6a",
   "metadata": {},
   "outputs": [
    {
     "name": "stderr",
     "output_type": "stream",
     "text": [
      "/Users/Zahed001/miniforge3/envs/torch/lib/python3.8/site-packages/sklearn/utils/deprecation.py:87: FutureWarning: Function get_feature_names is deprecated; get_feature_names is deprecated in 1.0 and will be removed in 1.2. Please use get_feature_names_out instead.\n",
      "  warnings.warn(msg, category=FutureWarning)\n"
     ]
    },
    {
     "name": "stdout",
     "output_type": "stream",
     "text": [
      "\n",
      "===Keywords===\n",
      "['dc', 'israël', 'lysine', 'emigratie', 'middenstand', 'grouw', 'megawatt', 'savannah']\n"
     ]
    }
   ],
   "source": [
    "dir_1963 = 'tm_63'\n",
    "\n",
    "data_fp= os.path.join(DATA_DIR,dir_1963,'*coal*.csv')\n",
    "coal_63 = train(data_fp,data_fp)"
   ]
  },
  {
   "cell_type": "markdown",
   "id": "618dc411",
   "metadata": {},
   "source": [
    "### Gas"
   ]
  },
  {
   "cell_type": "code",
   "execution_count": 4,
   "id": "17b4a633",
   "metadata": {},
   "outputs": [
    {
     "name": "stderr",
     "output_type": "stream",
     "text": [
      "/Users/Zahed001/miniforge3/envs/torch/lib/python3.8/site-packages/sklearn/utils/deprecation.py:87: FutureWarning: Function get_feature_names is deprecated; get_feature_names is deprecated in 1.0 and will be removed in 1.2. Please use get_feature_names_out instead.\n",
      "  warnings.warn(msg, category=FutureWarning)\n"
     ]
    },
    {
     "name": "stdout",
     "output_type": "stream",
     "text": [
      "\n",
      "===Keywords===\n",
      "['aardgas', 'typisch', 'ledereen', 'mln', 'tt', 'niks', 'dc', 'uitgeschakeld', '000 miljard']\n"
     ]
    }
   ],
   "source": [
    "data_fp= os.path.join(DATA_DIR,dir_1963,'*gas*.csv')\n",
    "gas_63 = train(data_fp,data_fp)"
   ]
  },
  {
   "cell_type": "markdown",
   "id": "3d6ed654",
   "metadata": {},
   "source": [
    "### Oil"
   ]
  },
  {
   "cell_type": "code",
   "execution_count": 5,
   "id": "727f3c27",
   "metadata": {},
   "outputs": [
    {
     "name": "stderr",
     "output_type": "stream",
     "text": [
      "/Users/Zahed001/miniforge3/envs/torch/lib/python3.8/site-packages/sklearn/utils/deprecation.py:87: FutureWarning: Function get_feature_names is deprecated; get_feature_names is deprecated in 1.0 and will be removed in 1.2. Please use get_feature_names_out instead.\n",
      "  warnings.warn(msg, category=FutureWarning)\n"
     ]
    },
    {
     "name": "stdout",
     "output_type": "stream",
     "text": [
      "\n",
      "===Keywords===\n",
      "['olie', 'coevorden', 'tt', 'pdst', 'vlieland', 'energiebronnen', 'dc', 'mln', 'dir', 'beambten']\n"
     ]
    }
   ],
   "source": [
    "data_fp= os.path.join(DATA_DIR,dir_1963,'*oil*.csv')\n",
    "oil_63 = train(data_fp,data_fp)"
   ]
  },
  {
   "cell_type": "markdown",
   "id": "f3d1b6c2",
   "metadata": {},
   "source": [
    "## Keywords 1964-67\n",
    "\n",
    "### Coal"
   ]
  },
  {
   "cell_type": "code",
   "execution_count": 6,
   "id": "a9e883fc",
   "metadata": {},
   "outputs": [
    {
     "name": "stderr",
     "output_type": "stream",
     "text": [
      "/Users/Zahed001/miniforge3/envs/torch/lib/python3.8/site-packages/sklearn/utils/deprecation.py:87: FutureWarning: Function get_feature_names is deprecated; get_feature_names is deprecated in 1.0 and will be removed in 1.2. Please use get_feature_names_out instead.\n",
      "  warnings.warn(msg, category=FutureWarning)\n"
     ]
    },
    {
     "name": "stdout",
     "output_type": "stream",
     "text": [
      "\n",
      "===Keywords===\n",
      "['dc', 'houtskool', 'rijnstaal', 'lysine', 'thyssen', 'gvs', 'huisvrouwen', 'rhodesia', 'ketelkolen']\n"
     ]
    }
   ],
   "source": [
    "dir_1967 = 'tm_67'\n",
    "\n",
    "data_fp= os.path.join(DATA_DIR,dir_1967,'*coal*.csv')\n",
    "coal_67 = train(data_fp,data_fp)"
   ]
  },
  {
   "cell_type": "markdown",
   "id": "0905d671",
   "metadata": {},
   "source": [
    "### Gas"
   ]
  },
  {
   "cell_type": "code",
   "execution_count": 7,
   "id": "29413f84",
   "metadata": {},
   "outputs": [
    {
     "name": "stderr",
     "output_type": "stream",
     "text": [
      "/Users/Zahed001/miniforge3/envs/torch/lib/python3.8/site-packages/sklearn/utils/deprecation.py:87: FutureWarning: Function get_feature_names is deprecated; get_feature_names is deprecated in 1.0 and will be removed in 1.2. Please use get_feature_names_out instead.\n",
      "  warnings.warn(msg, category=FutureWarning)\n"
     ]
    },
    {
     "name": "stdout",
     "output_type": "stream",
     "text": [
      "\n",
      "===Keywords===\n",
      "['zei', 'aardgas', 'ontevreden', 'voel', 'iraakse', 'proc', 'dc', 'avro', 'strepen', 'frankie']\n"
     ]
    }
   ],
   "source": [
    "data_fp= os.path.join(DATA_DIR,dir_1967,'*gas*.csv')\n",
    "gas_67 = train(data_fp,data_fp)"
   ]
  },
  {
   "cell_type": "markdown",
   "id": "cc908bb3",
   "metadata": {},
   "source": [
    "### Oil"
   ]
  },
  {
   "cell_type": "code",
   "execution_count": 8,
   "id": "465b4876",
   "metadata": {},
   "outputs": [
    {
     "name": "stderr",
     "output_type": "stream",
     "text": [
      "/Users/Zahed001/miniforge3/envs/torch/lib/python3.8/site-packages/sklearn/utils/deprecation.py:87: FutureWarning: Function get_feature_names is deprecated; get_feature_names is deprecated in 1.0 and will be removed in 1.2. Please use get_feature_names_out instead.\n",
      "  warnings.warn(msg, category=FutureWarning)\n"
     ]
    },
    {
     "name": "stdout",
     "output_type": "stream",
     "text": [
      "\n",
      "===Keywords===\n",
      "['duurder', 'fanny', 'rp', 'claude', 'duits', 'terugkeer', 'dc', 'lutkie', 'peso']\n"
     ]
    }
   ],
   "source": [
    "data_fp= os.path.join(DATA_DIR,dir_1967,'*oil*.csv')\n",
    "oil_67 = train(data_fp,data_fp)"
   ]
  },
  {
   "cell_type": "markdown",
   "id": "1bd229f3",
   "metadata": {},
   "source": [
    "## Keywords 1968-71\n",
    "\n",
    "### Coal"
   ]
  },
  {
   "cell_type": "code",
   "execution_count": 9,
   "id": "090a1007",
   "metadata": {},
   "outputs": [
    {
     "name": "stderr",
     "output_type": "stream",
     "text": [
      "/Users/Zahed001/miniforge3/envs/torch/lib/python3.8/site-packages/sklearn/utils/deprecation.py:87: FutureWarning: Function get_feature_names is deprecated; get_feature_names is deprecated in 1.0 and will be removed in 1.2. Please use get_feature_names_out instead.\n",
      "  warnings.warn(msg, category=FutureWarning)\n"
     ]
    },
    {
     "name": "stdout",
     "output_type": "stream",
     "text": [
      "\n",
      "===Keywords===\n",
      "['mijnsteen', 'pakistan', 'dc', 'kunstnier', 'ddr', 'plutonium', 'zonne', 'watersport', 'dcl']\n"
     ]
    }
   ],
   "source": [
    "dir_1971 = 'tm_71'\n",
    "\n",
    "data_fp= os.path.join(DATA_DIR,dir_1971,'*coal*.csv')\n",
    "coal_71 = train(data_fp,data_fp)"
   ]
  },
  {
   "cell_type": "markdown",
   "id": "f6c737d9",
   "metadata": {},
   "source": [
    "### Gas"
   ]
  },
  {
   "cell_type": "code",
   "execution_count": 10,
   "id": "5d6e7e95",
   "metadata": {},
   "outputs": [
    {
     "name": "stderr",
     "output_type": "stream",
     "text": [
      "/Users/Zahed001/miniforge3/envs/torch/lib/python3.8/site-packages/sklearn/utils/deprecation.py:87: FutureWarning: Function get_feature_names is deprecated; get_feature_names is deprecated in 1.0 and will be removed in 1.2. Please use get_feature_names_out instead.\n",
      "  warnings.warn(msg, category=FutureWarning)\n"
     ]
    },
    {
     "name": "stdout",
     "output_type": "stream",
     "text": [
      "\n",
      "===Keywords===\n",
      "['we', 'aardgas', 'efficiënt', 'investering', 'roosteren', 'zei minister', 'dc', 'etheen', 'maddox', 'aga']\n"
     ]
    }
   ],
   "source": [
    "data_fp= os.path.join(DATA_DIR,dir_1971,'*gas*.csv')\n",
    "gas_71 = train(data_fp,data_fp)"
   ]
  },
  {
   "cell_type": "markdown",
   "id": "0f49e915",
   "metadata": {},
   "source": [
    "### Oil"
   ]
  },
  {
   "cell_type": "code",
   "execution_count": 11,
   "id": "37af9c48",
   "metadata": {},
   "outputs": [
    {
     "name": "stderr",
     "output_type": "stream",
     "text": [
      "/Users/Zahed001/miniforge3/envs/torch/lib/python3.8/site-packages/sklearn/utils/deprecation.py:87: FutureWarning: Function get_feature_names is deprecated; get_feature_names is deprecated in 1.0 and will be removed in 1.2. Please use get_feature_names_out instead.\n",
      "  warnings.warn(msg, category=FutureWarning)\n"
     ]
    },
    {
     "name": "stdout",
     "output_type": "stream",
     "text": [
      "\n",
      "===Keywords===\n",
      "['410', 'dc', 'mln', 'gmbh', 'pt', 'efficiënt', 'loehr', 'huid', 'plant']\n"
     ]
    }
   ],
   "source": [
    "data_fp= os.path.join(DATA_DIR,dir_1971,'*oil*.csv')\n",
    "oil_71 = train(data_fp,data_fp)"
   ]
  },
  {
   "cell_type": "markdown",
   "id": "3156c71a",
   "metadata": {},
   "source": [
    "## Keywords 1972-75\n",
    "\n",
    "### Coal"
   ]
  },
  {
   "cell_type": "code",
   "execution_count": 12,
   "id": "5acecba2",
   "metadata": {},
   "outputs": [
    {
     "name": "stderr",
     "output_type": "stream",
     "text": [
      "/Users/Zahed001/miniforge3/envs/torch/lib/python3.8/site-packages/sklearn/utils/deprecation.py:87: FutureWarning: Function get_feature_names is deprecated; get_feature_names is deprecated in 1.0 and will be removed in 1.2. Please use get_feature_names_out instead.\n",
      "  warnings.warn(msg, category=FutureWarning)\n"
     ]
    },
    {
     "name": "stdout",
     "output_type": "stream",
     "text": [
      "\n",
      "===Keywords===\n",
      "['mtoe', 'venus', 'dc', 'forint', 'één ton', 'methanol', 'waarom', 'cent', 'multinationals', 'gemaal']\n"
     ]
    }
   ],
   "source": [
    "dir_1975 = 'tm_75'\n",
    "\n",
    "data_fp= os.path.join(DATA_DIR,dir_1975,'*coal*.csv')\n",
    "coal_75 = train(data_fp,data_fp)"
   ]
  },
  {
   "cell_type": "markdown",
   "id": "df14f441",
   "metadata": {},
   "source": [
    "### Gas"
   ]
  },
  {
   "cell_type": "code",
   "execution_count": 13,
   "id": "7d15276d",
   "metadata": {},
   "outputs": [
    {
     "name": "stderr",
     "output_type": "stream",
     "text": [
      "/Users/Zahed001/miniforge3/envs/torch/lib/python3.8/site-packages/sklearn/utils/deprecation.py:87: FutureWarning: Function get_feature_names is deprecated; get_feature_names is deprecated in 1.0 and will be removed in 1.2. Please use get_feature_names_out instead.\n",
      "  warnings.warn(msg, category=FutureWarning)\n"
     ]
    },
    {
     "name": "stdout",
     "output_type": "stream",
     "text": [
      "\n",
      "===Keywords===\n",
      "['wel', 'aardgas', 'parijs', 'mee moeten', 'weinigen', 'turf', 'gogh', 'saba', 'jf', '00']\n"
     ]
    }
   ],
   "source": [
    "data_fp= os.path.join(DATA_DIR,dir_1975,'*gas*.csv')\n",
    "gas_75 = train(data_fp,data_fp)"
   ]
  },
  {
   "cell_type": "markdown",
   "id": "ffb8bc6e",
   "metadata": {},
   "source": [
    "### Oil"
   ]
  },
  {
   "cell_type": "code",
   "execution_count": 14,
   "id": "ec87e41e",
   "metadata": {},
   "outputs": [
    {
     "name": "stderr",
     "output_type": "stream",
     "text": [
      "/Users/Zahed001/miniforge3/envs/torch/lib/python3.8/site-packages/sklearn/utils/deprecation.py:87: FutureWarning: Function get_feature_names is deprecated; get_feature_names is deprecated in 1.0 and will be removed in 1.2. Please use get_feature_names_out instead.\n",
      "  warnings.warn(msg, category=FutureWarning)\n"
     ]
    },
    {
     "name": "stdout",
     "output_type": "stream",
     "text": [
      "\n",
      "===Keywords===\n",
      "['olie', 'landen', 'mrd', 'fl', 'cebeco', 'turf', 'dc', 'mg', 'sjah']\n"
     ]
    }
   ],
   "source": [
    "data_fp= os.path.join(DATA_DIR,dir_1975,'*oil*.csv')\n",
    "oil_75 = train(data_fp,data_fp)"
   ]
  },
  {
   "cell_type": "markdown",
   "id": "db96d441",
   "metadata": {},
   "source": [
    "## Keywords 1975-79\n",
    "\n",
    "### Coal"
   ]
  },
  {
   "cell_type": "code",
   "execution_count": 15,
   "id": "e68b5a94",
   "metadata": {},
   "outputs": [
    {
     "name": "stderr",
     "output_type": "stream",
     "text": [
      "/Users/Zahed001/miniforge3/envs/torch/lib/python3.8/site-packages/sklearn/utils/deprecation.py:87: FutureWarning: Function get_feature_names is deprecated; get_feature_names is deprecated in 1.0 and will be removed in 1.2. Please use get_feature_names_out instead.\n",
      "  warnings.warn(msg, category=FutureWarning)\n"
     ]
    },
    {
     "name": "stdout",
     "output_type": "stream",
     "text": [
      "\n",
      "===Keywords===\n",
      "['studio', 'probleem kernenergie', 'methode', 'dc', 'gelei', 'owen', 'bbu', 'blumenthai', 'méér', 'atoomenergie']\n"
     ]
    }
   ],
   "source": [
    "dir_1979 = 'tm_79'\n",
    "\n",
    "data_fp= os.path.join(DATA_DIR,dir_1979,'*coal*.csv')\n",
    "coal_79 = train(data_fp,data_fp)"
   ]
  },
  {
   "cell_type": "markdown",
   "id": "4e5c1f8e",
   "metadata": {},
   "source": [
    "### Gas"
   ]
  },
  {
   "cell_type": "code",
   "execution_count": 16,
   "id": "14206356",
   "metadata": {},
   "outputs": [
    {
     "name": "stderr",
     "output_type": "stream",
     "text": [
      "/Users/Zahed001/miniforge3/envs/torch/lib/python3.8/site-packages/sklearn/utils/deprecation.py:87: FutureWarning: Function get_feature_names is deprecated; get_feature_names is deprecated in 1.0 and will be removed in 1.2. Please use get_feature_names_out instead.\n",
      "  warnings.warn(msg, category=FutureWarning)\n"
     ]
    },
    {
     "name": "stdout",
     "output_type": "stream",
     "text": [
      "\n",
      "===Keywords===\n",
      "['inhouden', 'aardgas', 'dc', 'ronald', 'waal', 'rekeneenheden', 'expeditie']\n"
     ]
    }
   ],
   "source": [
    "data_fp= os.path.join(DATA_DIR,dir_1979,'*gas*.csv')\n",
    "gas_79 = train(data_fp,data_fp)"
   ]
  },
  {
   "cell_type": "markdown",
   "id": "9da2e7b0",
   "metadata": {},
   "source": [
    "### Oil"
   ]
  },
  {
   "cell_type": "code",
   "execution_count": 17,
   "id": "c6d5d767",
   "metadata": {},
   "outputs": [
    {
     "name": "stderr",
     "output_type": "stream",
     "text": [
      "/Users/Zahed001/miniforge3/envs/torch/lib/python3.8/site-packages/sklearn/utils/deprecation.py:87: FutureWarning: Function get_feature_names is deprecated; get_feature_names is deprecated in 1.0 and will be removed in 1.2. Please use get_feature_names_out instead.\n",
      "  warnings.warn(msg, category=FutureWarning)\n"
     ]
    },
    {
     "name": "stdout",
     "output_type": "stream",
     "text": [
      "\n",
      "===Keywords===\n",
      "['waarschuwde', 'dc', 'miss', 'nie', 'piar', 'jan', 'schreiner']\n"
     ]
    }
   ],
   "source": [
    "data_fp= os.path.join(DATA_DIR,dir_1979,'*oil*.csv')\n",
    "oil_79 = train(data_fp,data_fp)"
   ]
  },
  {
   "cell_type": "markdown",
   "id": "a466174f",
   "metadata": {},
   "source": [
    "## Keywords 1980-83\n",
    "\n",
    "### Coal"
   ]
  },
  {
   "cell_type": "code",
   "execution_count": 18,
   "id": "5a383f28",
   "metadata": {},
   "outputs": [
    {
     "name": "stderr",
     "output_type": "stream",
     "text": [
      "/Users/Zahed001/miniforge3/envs/torch/lib/python3.8/site-packages/sklearn/utils/deprecation.py:87: FutureWarning: Function get_feature_names is deprecated; get_feature_names is deprecated in 1.0 and will be removed in 1.2. Please use get_feature_names_out instead.\n",
      "  warnings.warn(msg, category=FutureWarning)\n"
     ]
    },
    {
     "name": "stdout",
     "output_type": "stream",
     "text": [
      "\n",
      "===Keywords===\n",
      "['fl', 'dc', 'éénderde']\n"
     ]
    }
   ],
   "source": [
    "dir_1983 = 'tm_83'\n",
    "\n",
    "data_fp= os.path.join(DATA_DIR,dir_1983,'*coal*.csv')\n",
    "coal_83 = train(data_fp,data_fp)"
   ]
  },
  {
   "cell_type": "markdown",
   "id": "0a7da80f",
   "metadata": {},
   "source": [
    "### Gas"
   ]
  },
  {
   "cell_type": "code",
   "execution_count": 19,
   "id": "46cb8203",
   "metadata": {},
   "outputs": [
    {
     "name": "stderr",
     "output_type": "stream",
     "text": [
      "/Users/Zahed001/miniforge3/envs/torch/lib/python3.8/site-packages/sklearn/utils/deprecation.py:87: FutureWarning: Function get_feature_names is deprecated; get_feature_names is deprecated in 1.0 and will be removed in 1.2. Please use get_feature_names_out instead.\n",
      "  warnings.warn(msg, category=FutureWarning)\n"
     ]
    },
    {
     "name": "stdout",
     "output_type": "stream",
     "text": [
      "\n",
      "===Keywords===\n",
      "['misverstand', 'subsidie', 'dc', 'arugas']\n"
     ]
    }
   ],
   "source": [
    "data_fp= os.path.join(DATA_DIR,dir_1983,'*gas*.csv')\n",
    "gas_83 = train(data_fp,data_fp)"
   ]
  },
  {
   "cell_type": "markdown",
   "id": "ce9be22f",
   "metadata": {},
   "source": [
    "### Oil"
   ]
  },
  {
   "cell_type": "code",
   "execution_count": 20,
   "id": "1352524c",
   "metadata": {},
   "outputs": [
    {
     "name": "stderr",
     "output_type": "stream",
     "text": [
      "/Users/Zahed001/miniforge3/envs/torch/lib/python3.8/site-packages/sklearn/utils/deprecation.py:87: FutureWarning: Function get_feature_names is deprecated; get_feature_names is deprecated in 1.0 and will be removed in 1.2. Please use get_feature_names_out instead.\n",
      "  warnings.warn(msg, category=FutureWarning)\n"
     ]
    },
    {
     "name": "stdout",
     "output_type": "stream",
     "text": [
      "\n",
      "===Keywords===\n",
      "['web', 'tijssen', 'harlingen', 'ligniet', 'cuba', 'alcohol', 'volvo', 'mw', 'botswana', 'tsjaad']\n"
     ]
    }
   ],
   "source": [
    "data_fp= os.path.join(DATA_DIR,dir_1983,'*oil*.csv')\n",
    "oil_83 = train(data_fp,data_fp)"
   ]
  },
  {
   "cell_type": "markdown",
   "id": "e3d500d9",
   "metadata": {},
   "source": [
    "## Keywords 1984-87\n",
    "\n",
    "### Coal"
   ]
  },
  {
   "cell_type": "code",
   "execution_count": 21,
   "id": "648357f7",
   "metadata": {},
   "outputs": [
    {
     "name": "stderr",
     "output_type": "stream",
     "text": [
      "/Users/Zahed001/miniforge3/envs/torch/lib/python3.8/site-packages/sklearn/utils/deprecation.py:87: FutureWarning: Function get_feature_names is deprecated; get_feature_names is deprecated in 1.0 and will be removed in 1.2. Please use get_feature_names_out instead.\n",
      "  warnings.warn(msg, category=FutureWarning)\n"
     ]
    },
    {
     "name": "stdout",
     "output_type": "stream",
     "text": [
      "\n",
      "===Keywords===\n",
      "['jensen', 'jones']\n"
     ]
    }
   ],
   "source": [
    "dir_1987 = 'tm_87'\n",
    "\n",
    "data_fp= os.path.join(DATA_DIR,dir_1987,'*coal*.csv')\n",
    "coal_87 = train(data_fp,data_fp)"
   ]
  },
  {
   "cell_type": "markdown",
   "id": "bb438445",
   "metadata": {},
   "source": [
    "### Gas"
   ]
  },
  {
   "cell_type": "code",
   "execution_count": 22,
   "id": "af2cd38f",
   "metadata": {},
   "outputs": [
    {
     "name": "stderr",
     "output_type": "stream",
     "text": [
      "/Users/Zahed001/miniforge3/envs/torch/lib/python3.8/site-packages/sklearn/utils/deprecation.py:87: FutureWarning: Function get_feature_names is deprecated; get_feature_names is deprecated in 1.0 and will be removed in 1.2. Please use get_feature_names_out instead.\n",
      "  warnings.warn(msg, category=FutureWarning)\n"
     ]
    },
    {
     "name": "stdout",
     "output_type": "stream",
     "text": [
      "\n",
      "===Keywords===\n",
      "['volgens', 'regering', 'helpen', 'cairo']\n"
     ]
    }
   ],
   "source": [
    "data_fp= os.path.join(DATA_DIR,dir_1987,'*gas*.csv')\n",
    "gas_87 = train(data_fp,data_fp)"
   ]
  },
  {
   "cell_type": "markdown",
   "id": "b5ee6157",
   "metadata": {},
   "source": [
    "### Oil"
   ]
  },
  {
   "cell_type": "code",
   "execution_count": 23,
   "id": "ca4eb14c",
   "metadata": {},
   "outputs": [
    {
     "name": "stderr",
     "output_type": "stream",
     "text": [
      "/Users/Zahed001/miniforge3/envs/torch/lib/python3.8/site-packages/sklearn/utils/deprecation.py:87: FutureWarning: Function get_feature_names is deprecated; get_feature_names is deprecated in 1.0 and will be removed in 1.2. Please use get_feature_names_out instead.\n",
      "  warnings.warn(msg, category=FutureWarning)\n"
     ]
    },
    {
     "name": "stdout",
     "output_type": "stream",
     "text": [
      "\n",
      "===Keywords===\n",
      "['soedan', 'rsv', 'dsm', 'lago', 'avp', 'pakhoed', 'israel', 'lansink', 'kw', 'china']\n"
     ]
    }
   ],
   "source": [
    "data_fp= os.path.join(DATA_DIR,dir_1987,'*oil*.csv')\n",
    "oil_87 = train(data_fp,data_fp)"
   ]
  },
  {
   "cell_type": "markdown",
   "id": "18c48cfd",
   "metadata": {},
   "source": [
    "## Keywords 1988-91\n",
    "\n",
    "### Coal"
   ]
  },
  {
   "cell_type": "code",
   "execution_count": 24,
   "id": "2ab65656",
   "metadata": {},
   "outputs": [
    {
     "name": "stderr",
     "output_type": "stream",
     "text": [
      "/Users/Zahed001/miniforge3/envs/torch/lib/python3.8/site-packages/sklearn/utils/deprecation.py:87: FutureWarning: Function get_feature_names is deprecated; get_feature_names is deprecated in 1.0 and will be removed in 1.2. Please use get_feature_names_out instead.\n",
      "  warnings.warn(msg, category=FutureWarning)\n"
     ]
    },
    {
     "name": "stdout",
     "output_type": "stream",
     "text": [
      "\n",
      "===Keywords===\n",
      "['waterstof', 'emden', 'rsv']\n"
     ]
    }
   ],
   "source": [
    "dir_1991 = 'tm_91'\n",
    "\n",
    "data_fp= os.path.join(DATA_DIR,dir_1991,'*coal*.csv')\n",
    "coal_91 = train(data_fp,data_fp)"
   ]
  },
  {
   "cell_type": "markdown",
   "id": "4b915423",
   "metadata": {},
   "source": [
    "### Gas"
   ]
  },
  {
   "cell_type": "code",
   "execution_count": 25,
   "id": "02e38a62",
   "metadata": {},
   "outputs": [
    {
     "name": "stderr",
     "output_type": "stream",
     "text": [
      "/Users/Zahed001/miniforge3/envs/torch/lib/python3.8/site-packages/sklearn/utils/deprecation.py:87: FutureWarning: Function get_feature_names is deprecated; get_feature_names is deprecated in 1.0 and will be removed in 1.2. Please use get_feature_names_out instead.\n",
      "  warnings.warn(msg, category=FutureWarning)\n"
     ]
    },
    {
     "name": "stdout",
     "output_type": "stream",
     "text": [
      "\n",
      "===Keywords===\n",
      "['aardgas', 'tuurlijk', '00', 'zeeland', 'milieuramp']\n"
     ]
    }
   ],
   "source": [
    "data_fp= os.path.join(DATA_DIR,dir_1991,'*gas*.csv')\n",
    "gas_91 = train(data_fp,data_fp)"
   ]
  },
  {
   "cell_type": "markdown",
   "id": "b3882df5",
   "metadata": {},
   "source": [
    "### Oil"
   ]
  },
  {
   "cell_type": "code",
   "execution_count": 26,
   "id": "a6a8b48a",
   "metadata": {},
   "outputs": [
    {
     "name": "stderr",
     "output_type": "stream",
     "text": [
      "/Users/Zahed001/miniforge3/envs/torch/lib/python3.8/site-packages/sklearn/utils/deprecation.py:87: FutureWarning: Function get_feature_names is deprecated; get_feature_names is deprecated in 1.0 and will be removed in 1.2. Please use get_feature_names_out instead.\n",
      "  warnings.warn(msg, category=FutureWarning)\n"
     ]
    },
    {
     "name": "stdout",
     "output_type": "stream",
     "text": [
      "\n",
      "===Keywords===\n",
      "['00', 'dc', 'barry']\n"
     ]
    }
   ],
   "source": [
    "data_fp= os.path.join(DATA_DIR,dir_1991,'*oil*.csv')\n",
    "oil_91 = train(data_fp,data_fp)"
   ]
  },
  {
   "cell_type": "markdown",
   "id": "b8fd329e",
   "metadata": {},
   "source": [
    "## Keywords 1992-95\n",
    "### Coal"
   ]
  },
  {
   "cell_type": "code",
   "execution_count": 27,
   "id": "61f404cf",
   "metadata": {},
   "outputs": [
    {
     "name": "stderr",
     "output_type": "stream",
     "text": [
      "/Users/Zahed001/miniforge3/envs/torch/lib/python3.8/site-packages/sklearn/utils/deprecation.py:87: FutureWarning: Function get_feature_names is deprecated; get_feature_names is deprecated in 1.0 and will be removed in 1.2. Please use get_feature_names_out instead.\n",
      "  warnings.warn(msg, category=FutureWarning)\n"
     ]
    },
    {
     "name": "stdout",
     "output_type": "stream",
     "text": [
      "\n",
      "===Keywords===\n",
      "['polymeren', 'cfk', 'ethanol', 'aluminium']\n"
     ]
    }
   ],
   "source": [
    "dir_1995= 'tm_95'\n",
    "\n",
    "data_fp= os.path.join(DATA_DIR,dir_1995,'*coal*.csv')\n",
    "coal_95 = train(data_fp,data_fp)"
   ]
  },
  {
   "cell_type": "markdown",
   "id": "5ad982d5",
   "metadata": {},
   "source": [
    "### Gas"
   ]
  },
  {
   "cell_type": "code",
   "execution_count": 28,
   "id": "014dace2",
   "metadata": {},
   "outputs": [
    {
     "name": "stderr",
     "output_type": "stream",
     "text": [
      "/Users/Zahed001/miniforge3/envs/torch/lib/python3.8/site-packages/sklearn/utils/deprecation.py:87: FutureWarning: Function get_feature_names is deprecated; get_feature_names is deprecated in 1.0 and will be removed in 1.2. Please use get_feature_names_out instead.\n",
      "  warnings.warn(msg, category=FutureWarning)\n"
     ]
    },
    {
     "name": "stdout",
     "output_type": "stream",
     "text": [
      "\n",
      "===Keywords===\n",
      "['minister', 'argument', 'aardgas', '00', 'nf', 'goedkeuring', 'rpf']\n"
     ]
    }
   ],
   "source": [
    "data_fp= os.path.join(DATA_DIR,dir_1995,'*gas*.csv')\n",
    "gas_95 = train(data_fp,data_fp)"
   ]
  },
  {
   "cell_type": "markdown",
   "id": "61564495",
   "metadata": {},
   "source": [
    "### Oil"
   ]
  },
  {
   "cell_type": "code",
   "execution_count": 29,
   "id": "6cfc6328",
   "metadata": {},
   "outputs": [
    {
     "name": "stderr",
     "output_type": "stream",
     "text": [
      "/Users/Zahed001/miniforge3/envs/torch/lib/python3.8/site-packages/sklearn/utils/deprecation.py:87: FutureWarning: Function get_feature_names is deprecated; get_feature_names is deprecated in 1.0 and will be removed in 1.2. Please use get_feature_names_out instead.\n",
      "  warnings.warn(msg, category=FutureWarning)\n"
     ]
    },
    {
     "name": "stdout",
     "output_type": "stream",
     "text": [
      "\n",
      "===Keywords===\n",
      "['00']\n"
     ]
    }
   ],
   "source": [
    "data_fp= os.path.join(DATA_DIR,dir_1995,'*oil*.csv')\n",
    "oil_95 = train(data_fp,data_fp)"
   ]
  },
  {
   "cell_type": "code",
   "execution_count": 33,
   "id": "3e92c8a6",
   "metadata": {},
   "outputs": [
    {
     "data": {
      "text/html": [
       "<div>\n",
       "<style scoped>\n",
       "    .dataframe tbody tr th:only-of-type {\n",
       "        vertical-align: middle;\n",
       "    }\n",
       "\n",
       "    .dataframe tbody tr th {\n",
       "        vertical-align: top;\n",
       "    }\n",
       "\n",
       "    .dataframe thead th {\n",
       "        text-align: right;\n",
       "    }\n",
       "</style>\n",
       "<table border=\"1\" class=\"dataframe\">\n",
       "  <thead>\n",
       "    <tr style=\"text-align: right;\">\n",
       "      <th></th>\n",
       "      <th>years</th>\n",
       "      <th>keywords-Coal</th>\n",
       "    </tr>\n",
       "  </thead>\n",
       "  <tbody>\n",
       "    <tr>\n",
       "      <th>0</th>\n",
       "      <td>1960-63</td>\n",
       "      <td>[dc, israël, lysine, emigratie, middenstand, grouw, megawatt, savannah]</td>\n",
       "    </tr>\n",
       "    <tr>\n",
       "      <th>1</th>\n",
       "      <td>1964-67</td>\n",
       "      <td>[dc, houtskool, rijnstaal, lysine, thyssen, gvs, huisvrouwen, rhodesia, ketelkolen]</td>\n",
       "    </tr>\n",
       "    <tr>\n",
       "      <th>2</th>\n",
       "      <td>1968-71</td>\n",
       "      <td>[mijnsteen, pakistan, dc, kunstnier, ddr, plutonium, zonne, watersport, dcl]</td>\n",
       "    </tr>\n",
       "    <tr>\n",
       "      <th>3</th>\n",
       "      <td>1972-1975</td>\n",
       "      <td>[mtoe, venus, dc, forint, één ton, methanol, waarom, cent, multinationals, gemaal]</td>\n",
       "    </tr>\n",
       "    <tr>\n",
       "      <th>4</th>\n",
       "      <td>1976-79</td>\n",
       "      <td>[studio, probleem kernenergie, methode, dc, gelei, owen, bbu, blumenthai, méér, atoomenergie]</td>\n",
       "    </tr>\n",
       "    <tr>\n",
       "      <th>5</th>\n",
       "      <td>1980-83</td>\n",
       "      <td>[fl, dc, éénderde]</td>\n",
       "    </tr>\n",
       "    <tr>\n",
       "      <th>6</th>\n",
       "      <td>1984-87</td>\n",
       "      <td>[jensen, jones]</td>\n",
       "    </tr>\n",
       "    <tr>\n",
       "      <th>7</th>\n",
       "      <td>1988-91</td>\n",
       "      <td>[waterstof, emden, rsv]</td>\n",
       "    </tr>\n",
       "    <tr>\n",
       "      <th>8</th>\n",
       "      <td>1992-95</td>\n",
       "      <td>[polymeren, cfk, ethanol, aluminium]</td>\n",
       "    </tr>\n",
       "  </tbody>\n",
       "</table>\n",
       "</div>"
      ],
      "text/plain": [
       "       years  \\\n",
       "0    1960-63   \n",
       "1    1964-67   \n",
       "2    1968-71   \n",
       "3  1972-1975   \n",
       "4    1976-79   \n",
       "5    1980-83   \n",
       "6    1984-87   \n",
       "7    1988-91   \n",
       "8    1992-95   \n",
       "\n",
       "                                                                                   keywords-Coal  \n",
       "0                        [dc, israël, lysine, emigratie, middenstand, grouw, megawatt, savannah]  \n",
       "1            [dc, houtskool, rijnstaal, lysine, thyssen, gvs, huisvrouwen, rhodesia, ketelkolen]  \n",
       "2                   [mijnsteen, pakistan, dc, kunstnier, ddr, plutonium, zonne, watersport, dcl]  \n",
       "3             [mtoe, venus, dc, forint, één ton, methanol, waarom, cent, multinationals, gemaal]  \n",
       "4  [studio, probleem kernenergie, methode, dc, gelei, owen, bbu, blumenthai, méér, atoomenergie]  \n",
       "5                                                                             [fl, dc, éénderde]  \n",
       "6                                                                                [jensen, jones]  \n",
       "7                                                                        [waterstof, emden, rsv]  \n",
       "8                                                           [polymeren, cfk, ethanol, aluminium]  "
      ]
     },
     "execution_count": 33,
     "metadata": {},
     "output_type": "execute_result"
    }
   ],
   "source": [
    "pd.set_option('display.max_colwidth', 255)\n",
    "d = {'years':['1960-63','1964-67','1968-71','1972-1975','1976-79','1980-83','1984-87','1988-91','1992-95'],\n",
    "     'keywords-Coal':[coal_63,coal_67,coal_71,coal_75,coal_79,coal_83,coal_87,coal_91,coal_95]}\n",
    "pd.DataFrame(data=d)"
   ]
  },
  {
   "cell_type": "code",
   "execution_count": 34,
   "id": "f0850dff",
   "metadata": {},
   "outputs": [
    {
     "data": {
      "text/html": [
       "<div>\n",
       "<style scoped>\n",
       "    .dataframe tbody tr th:only-of-type {\n",
       "        vertical-align: middle;\n",
       "    }\n",
       "\n",
       "    .dataframe tbody tr th {\n",
       "        vertical-align: top;\n",
       "    }\n",
       "\n",
       "    .dataframe thead th {\n",
       "        text-align: right;\n",
       "    }\n",
       "</style>\n",
       "<table border=\"1\" class=\"dataframe\">\n",
       "  <thead>\n",
       "    <tr style=\"text-align: right;\">\n",
       "      <th></th>\n",
       "      <th>years</th>\n",
       "      <th>keywords-Gas</th>\n",
       "    </tr>\n",
       "  </thead>\n",
       "  <tbody>\n",
       "    <tr>\n",
       "      <th>0</th>\n",
       "      <td>1960-63</td>\n",
       "      <td>[aardgas, typisch, ledereen, mln, tt, niks, dc, uitgeschakeld, 000 miljard]</td>\n",
       "    </tr>\n",
       "    <tr>\n",
       "      <th>1</th>\n",
       "      <td>1964-67</td>\n",
       "      <td>[zei, aardgas, ontevreden, voel, iraakse, proc, dc, avro, strepen, frankie]</td>\n",
       "    </tr>\n",
       "    <tr>\n",
       "      <th>2</th>\n",
       "      <td>1968-71</td>\n",
       "      <td>[we, aardgas, efficiënt, investering, roosteren, zei minister, dc, etheen, maddox, aga]</td>\n",
       "    </tr>\n",
       "    <tr>\n",
       "      <th>3</th>\n",
       "      <td>1972-75</td>\n",
       "      <td>[wel, aardgas, parijs, mee moeten, weinigen, turf, gogh, saba, jf, 00]</td>\n",
       "    </tr>\n",
       "    <tr>\n",
       "      <th>4</th>\n",
       "      <td>1976-79</td>\n",
       "      <td>[inhouden, aardgas, dc, ronald, waal, rekeneenheden, expeditie]</td>\n",
       "    </tr>\n",
       "    <tr>\n",
       "      <th>5</th>\n",
       "      <td>1980-83</td>\n",
       "      <td>[misverstand, subsidie, dc, arugas]</td>\n",
       "    </tr>\n",
       "    <tr>\n",
       "      <th>6</th>\n",
       "      <td>1984-87</td>\n",
       "      <td>[volgens, regering, helpen, cairo]</td>\n",
       "    </tr>\n",
       "    <tr>\n",
       "      <th>7</th>\n",
       "      <td>1988-91</td>\n",
       "      <td>[aardgas, tuurlijk, 00, zeeland, milieuramp]</td>\n",
       "    </tr>\n",
       "    <tr>\n",
       "      <th>8</th>\n",
       "      <td>1992-95</td>\n",
       "      <td>[minister, argument, aardgas, 00, nf, goedkeuring, rpf]</td>\n",
       "    </tr>\n",
       "  </tbody>\n",
       "</table>\n",
       "</div>"
      ],
      "text/plain": [
       "     years  \\\n",
       "0  1960-63   \n",
       "1  1964-67   \n",
       "2  1968-71   \n",
       "3  1972-75   \n",
       "4  1976-79   \n",
       "5  1980-83   \n",
       "6  1984-87   \n",
       "7  1988-91   \n",
       "8  1992-95   \n",
       "\n",
       "                                                                              keywords-Gas  \n",
       "0              [aardgas, typisch, ledereen, mln, tt, niks, dc, uitgeschakeld, 000 miljard]  \n",
       "1              [zei, aardgas, ontevreden, voel, iraakse, proc, dc, avro, strepen, frankie]  \n",
       "2  [we, aardgas, efficiënt, investering, roosteren, zei minister, dc, etheen, maddox, aga]  \n",
       "3                   [wel, aardgas, parijs, mee moeten, weinigen, turf, gogh, saba, jf, 00]  \n",
       "4                          [inhouden, aardgas, dc, ronald, waal, rekeneenheden, expeditie]  \n",
       "5                                                      [misverstand, subsidie, dc, arugas]  \n",
       "6                                                       [volgens, regering, helpen, cairo]  \n",
       "7                                             [aardgas, tuurlijk, 00, zeeland, milieuramp]  \n",
       "8                                  [minister, argument, aardgas, 00, nf, goedkeuring, rpf]  "
      ]
     },
     "execution_count": 34,
     "metadata": {},
     "output_type": "execute_result"
    }
   ],
   "source": [
    "d = {'years':['1960-63','1964-67','1968-71','1972-75','1976-79','1980-83','1984-87','1988-91','1992-95'],\n",
    "     'keywords-Gas':[gas_63,gas_67,gas_71,gas_75,gas_79,gas_83,gas_87,gas_91,gas_95]}\n",
    "pd.DataFrame(data=d)"
   ]
  },
  {
   "cell_type": "code",
   "execution_count": 35,
   "id": "4f935b0c",
   "metadata": {},
   "outputs": [
    {
     "data": {
      "text/html": [
       "<div>\n",
       "<style scoped>\n",
       "    .dataframe tbody tr th:only-of-type {\n",
       "        vertical-align: middle;\n",
       "    }\n",
       "\n",
       "    .dataframe tbody tr th {\n",
       "        vertical-align: top;\n",
       "    }\n",
       "\n",
       "    .dataframe thead th {\n",
       "        text-align: right;\n",
       "    }\n",
       "</style>\n",
       "<table border=\"1\" class=\"dataframe\">\n",
       "  <thead>\n",
       "    <tr style=\"text-align: right;\">\n",
       "      <th></th>\n",
       "      <th>years</th>\n",
       "      <th>keywords-Oil</th>\n",
       "    </tr>\n",
       "  </thead>\n",
       "  <tbody>\n",
       "    <tr>\n",
       "      <th>0</th>\n",
       "      <td>1960-63</td>\n",
       "      <td>[olie, coevorden, tt, pdst, vlieland, energiebronnen, dc, mln, dir, beambten]</td>\n",
       "    </tr>\n",
       "    <tr>\n",
       "      <th>1</th>\n",
       "      <td>1964-67</td>\n",
       "      <td>[duurder, fanny, rp, claude, duits, terugkeer, dc, lutkie, peso]</td>\n",
       "    </tr>\n",
       "    <tr>\n",
       "      <th>2</th>\n",
       "      <td>1968-71</td>\n",
       "      <td>[410, dc, mln, gmbh, pt, efficiënt, loehr, huid, plant]</td>\n",
       "    </tr>\n",
       "    <tr>\n",
       "      <th>3</th>\n",
       "      <td>1972-75</td>\n",
       "      <td>[olie, landen, mrd, fl, cebeco, turf, dc, mg, sjah]</td>\n",
       "    </tr>\n",
       "    <tr>\n",
       "      <th>4</th>\n",
       "      <td>1976-79</td>\n",
       "      <td>[waarschuwde, dc, miss, nie, piar, jan, schreiner]</td>\n",
       "    </tr>\n",
       "    <tr>\n",
       "      <th>5</th>\n",
       "      <td>1980-83</td>\n",
       "      <td>[web, tijssen, harlingen, ligniet, cuba, alcohol, volvo, mw, botswana, tsjaad]</td>\n",
       "    </tr>\n",
       "    <tr>\n",
       "      <th>6</th>\n",
       "      <td>1984-87</td>\n",
       "      <td>[soedan, rsv, dsm, lago, avp, pakhoed, israel, lansink, kw, china]</td>\n",
       "    </tr>\n",
       "    <tr>\n",
       "      <th>7</th>\n",
       "      <td>1988-91</td>\n",
       "      <td>[00, dc, barry]</td>\n",
       "    </tr>\n",
       "    <tr>\n",
       "      <th>8</th>\n",
       "      <td>1992-95</td>\n",
       "      <td>[00]</td>\n",
       "    </tr>\n",
       "  </tbody>\n",
       "</table>\n",
       "</div>"
      ],
      "text/plain": [
       "     years  \\\n",
       "0  1960-63   \n",
       "1  1964-67   \n",
       "2  1968-71   \n",
       "3  1972-75   \n",
       "4  1976-79   \n",
       "5  1980-83   \n",
       "6  1984-87   \n",
       "7  1988-91   \n",
       "8  1992-95   \n",
       "\n",
       "                                                                     keywords-Oil  \n",
       "0   [olie, coevorden, tt, pdst, vlieland, energiebronnen, dc, mln, dir, beambten]  \n",
       "1                [duurder, fanny, rp, claude, duits, terugkeer, dc, lutkie, peso]  \n",
       "2                         [410, dc, mln, gmbh, pt, efficiënt, loehr, huid, plant]  \n",
       "3                             [olie, landen, mrd, fl, cebeco, turf, dc, mg, sjah]  \n",
       "4                              [waarschuwde, dc, miss, nie, piar, jan, schreiner]  \n",
       "5  [web, tijssen, harlingen, ligniet, cuba, alcohol, volvo, mw, botswana, tsjaad]  \n",
       "6              [soedan, rsv, dsm, lago, avp, pakhoed, israel, lansink, kw, china]  \n",
       "7                                                                 [00, dc, barry]  \n",
       "8                                                                            [00]  "
      ]
     },
     "execution_count": 35,
     "metadata": {},
     "output_type": "execute_result"
    }
   ],
   "source": [
    "d = {'years':['1960-63','1964-67','1968-71','1972-75','1976-79','1980-83','1984-87','1988-91','1992-95'],\n",
    "     'keywords-Oil':[oil_63,oil_67,oil_71,oil_75,oil_79,oil_83,oil_87,oil_91,oil_95]}\n",
    "pd.DataFrame(data=d)"
   ]
  },
  {
   "cell_type": "code",
   "execution_count": null,
   "id": "a37a64be",
   "metadata": {},
   "outputs": [],
   "source": []
  }
 ],
 "metadata": {
  "kernelspec": {
   "display_name": "torch",
   "language": "python",
   "name": "torch"
  },
  "language_info": {
   "codemirror_mode": {
    "name": "ipython",
    "version": 3
   },
   "file_extension": ".py",
   "mimetype": "text/x-python",
   "name": "python",
   "nbconvert_exporter": "python",
   "pygments_lexer": "ipython3",
   "version": "3.8.13"
  }
 },
 "nbformat": 4,
 "nbformat_minor": 5
}
