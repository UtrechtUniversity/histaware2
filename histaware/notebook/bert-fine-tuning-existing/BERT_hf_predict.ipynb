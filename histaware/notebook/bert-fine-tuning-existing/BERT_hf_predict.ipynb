{
 "cells": [
  {
   "cell_type": "markdown",
   "id": "8cfdcf0f",
   "metadata": {},
   "source": [
    "# Predict selected data using fine-tuned models"
   ]
  },
  {
   "cell_type": "code",
   "execution_count": 2,
   "id": "764c680b",
   "metadata": {},
   "outputs": [],
   "source": [
    "import os\n",
    "import aiohttp\n",
    "\n",
    "import pandas as pd\n",
    "import numpy as np\n",
    "import torch\n",
    "\n",
    "import transformers\n",
    "#from transformers import BertModel, BertTokenizer, BertForSequenceClassification, AdamW, get_linear_schedule_with_warmup\n",
    "from transformers import (AutoModel, AutoTokenizer, AutoConfig, AutoModelForSequenceClassification,\n",
    "                          Trainer, TrainingArguments)\n",
    "from datasets import load_dataset\n"
   ]
  },
  {
   "cell_type": "code",
   "execution_count": 3,
   "id": "bee37448",
   "metadata": {},
   "outputs": [
    {
     "name": "stdout",
     "output_type": "stream",
     "text": [
      "No GPU available, using the CPU instead.\n"
     ]
    }
   ],
   "source": [
    "RANDOM_SEED = 42\n",
    "np.random.seed(RANDOM_SEED)\n",
    "torch.manual_seed(RANDOM_SEED)\n",
    "\n",
    "if torch.cuda.is_available():       \n",
    "    device = torch.device(\"cuda\")\n",
    "    print(f'There are {torch.cuda.device_count()} GPU(s) available.')\n",
    "    print('Device name:', torch.cuda.get_device_name(0))\n",
    "\n",
    "else:\n",
    "    print('No GPU available, using the CPU instead.')\n",
    "    device = torch.device(\"cpu\")"
   ]
  },
  {
   "cell_type": "markdown",
   "id": "019c4cf3",
   "metadata": {},
   "source": [
    "## Load tokenizer and set parameters"
   ]
  },
  {
   "cell_type": "code",
   "execution_count": 4,
   "id": "6d5a051a",
   "metadata": {},
   "outputs": [],
   "source": [
    "MAX_LENGHT = 512\n",
    "DATA_DIR = \"../../../data/merged_split/\"\n",
    "\n",
    "checkpoint = \"dbmdz/bert-base-historic-dutch-cased\"\n",
    "tokenizer = AutoTokenizer.from_pretrained(checkpoint)"
   ]
  },
  {
   "cell_type": "markdown",
   "id": "9b259ec5",
   "metadata": {},
   "source": [
    "## Predict on test"
   ]
  },
  {
   "cell_type": "code",
   "execution_count": 5,
   "id": "5e4f7f71",
   "metadata": {},
   "outputs": [],
   "source": [
    "class Dataset(torch.utils.data.Dataset):\n",
    "    def __init__(self, encodings, labels=None):\n",
    "        self.encodings = encodings\n",
    "        self.labels = labels\n",
    "\n",
    "    def __getitem__(self, idx):\n",
    "        item = {key: torch.tensor(val[idx]) for key, val in self.encodings.items()}\n",
    "        if self.labels:\n",
    "            item[\"labels\"] = torch.tensor(self.labels[idx])\n",
    "        return item\n",
    "\n",
    "    def __len__(self):\n",
    "        return len(self.encodings[\"input_ids\"])"
   ]
  },
  {
   "cell_type": "code",
   "execution_count": 6,
   "id": "1cc76fe8",
   "metadata": {},
   "outputs": [],
   "source": [
    "from transformers import pipeline\n",
    "from sklearn.metrics import confusion_matrix, classification_report\n",
    "import seaborn as sns\n",
    "import matplotlib.pyplot as plt\n",
    "    \n",
    "def show_confusion_matrix(confusion_matrix):\n",
    "    \n",
    "    hmap = sns.heatmap(confusion_matrix, annot=True, fmt=\"d\", cmap=\"Blues\")\n",
    "    hmap.yaxis.set_ticklabels(hmap.yaxis.get_ticklabels(), rotation=0, ha='right')\n",
    "    hmap.xaxis.set_ticklabels(hmap.xaxis.get_ticklabels(), rotation=30, ha='right')\n",
    "    plt.ylabel('True sentiment')\n",
    "    plt.xlabel('Predicted sentiment')"
   ]
  },
  {
   "cell_type": "markdown",
   "id": "255228e9",
   "metadata": {},
   "source": [
    "### Model per type per decade (12 total)"
   ]
  },
  {
   "cell_type": "code",
   "execution_count": 8,
   "id": "4cd86c70",
   "metadata": {},
   "outputs": [
    {
     "name": "stdout",
     "output_type": "stream",
     "text": [
      "Predicting on test set for 1970s_coal.\n",
      "Finished prediction on test dataset.\n",
      "Creating confusion matrix and report.\n",
      "Confusion matrix\n",
      "Classification report\n",
      "Finished. \n",
      " --- \n",
      "\n"
     ]
    },
    {
     "name": "stderr",
     "output_type": "stream",
     "text": [
      "/Users/Zahed001/miniforge3/envs/torch/lib/python3.8/site-packages/sklearn/metrics/_classification.py:1327: UndefinedMetricWarning: Precision and F-score are ill-defined and being set to 0.0 in labels with no predicted samples. Use `zero_division` parameter to control this behavior.\n",
      "  _warn_prf(average, modifier, msg_start, len(result))\n",
      "/Users/Zahed001/miniforge3/envs/torch/lib/python3.8/site-packages/sklearn/metrics/_classification.py:1327: UndefinedMetricWarning: Precision and F-score are ill-defined and being set to 0.0 in labels with no predicted samples. Use `zero_division` parameter to control this behavior.\n",
      "  _warn_prf(average, modifier, msg_start, len(result))\n",
      "/Users/Zahed001/miniforge3/envs/torch/lib/python3.8/site-packages/sklearn/metrics/_classification.py:1327: UndefinedMetricWarning: Precision and F-score are ill-defined and being set to 0.0 in labels with no predicted samples. Use `zero_division` parameter to control this behavior.\n",
      "  _warn_prf(average, modifier, msg_start, len(result))\n"
     ]
    },
    {
     "name": "stdout",
     "output_type": "stream",
     "text": [
      "Predicting on test set for 1980s_coal.\n",
      "Finished prediction on test dataset.\n",
      "Creating confusion matrix and report.\n",
      "Confusion matrix\n",
      "Classification report\n",
      "Finished. \n",
      " --- \n",
      "\n"
     ]
    },
    {
     "name": "stderr",
     "output_type": "stream",
     "text": [
      "/Users/Zahed001/miniforge3/envs/torch/lib/python3.8/site-packages/sklearn/metrics/_classification.py:1327: UndefinedMetricWarning: Precision and F-score are ill-defined and being set to 0.0 in labels with no predicted samples. Use `zero_division` parameter to control this behavior.\n",
      "  _warn_prf(average, modifier, msg_start, len(result))\n",
      "/Users/Zahed001/miniforge3/envs/torch/lib/python3.8/site-packages/sklearn/metrics/_classification.py:1327: UndefinedMetricWarning: Precision and F-score are ill-defined and being set to 0.0 in labels with no predicted samples. Use `zero_division` parameter to control this behavior.\n",
      "  _warn_prf(average, modifier, msg_start, len(result))\n",
      "/Users/Zahed001/miniforge3/envs/torch/lib/python3.8/site-packages/sklearn/metrics/_classification.py:1327: UndefinedMetricWarning: Precision and F-score are ill-defined and being set to 0.0 in labels with no predicted samples. Use `zero_division` parameter to control this behavior.\n",
      "  _warn_prf(average, modifier, msg_start, len(result))\n"
     ]
    },
    {
     "name": "stdout",
     "output_type": "stream",
     "text": [
      "Predicting on test set for 1970s_oil.\n",
      "Finished prediction on test dataset.\n",
      "Creating confusion matrix and report.\n",
      "Confusion matrix\n",
      "Classification report\n",
      "Finished. \n",
      " --- \n",
      "\n",
      "Predicting on test set for 1980s_oil.\n",
      "Finished prediction on test dataset.\n",
      "Creating confusion matrix and report.\n",
      "Confusion matrix\n",
      "Classification report\n",
      "Finished. \n",
      " --- \n",
      "\n"
     ]
    },
    {
     "name": "stderr",
     "output_type": "stream",
     "text": [
      "/Users/Zahed001/miniforge3/envs/torch/lib/python3.8/site-packages/sklearn/metrics/_classification.py:1327: UndefinedMetricWarning: Precision and F-score are ill-defined and being set to 0.0 in labels with no predicted samples. Use `zero_division` parameter to control this behavior.\n",
      "  _warn_prf(average, modifier, msg_start, len(result))\n",
      "/Users/Zahed001/miniforge3/envs/torch/lib/python3.8/site-packages/sklearn/metrics/_classification.py:1327: UndefinedMetricWarning: Precision and F-score are ill-defined and being set to 0.0 in labels with no predicted samples. Use `zero_division` parameter to control this behavior.\n",
      "  _warn_prf(average, modifier, msg_start, len(result))\n",
      "/Users/Zahed001/miniforge3/envs/torch/lib/python3.8/site-packages/sklearn/metrics/_classification.py:1327: UndefinedMetricWarning: Precision and F-score are ill-defined and being set to 0.0 in labels with no predicted samples. Use `zero_division` parameter to control this behavior.\n",
      "  _warn_prf(average, modifier, msg_start, len(result))\n"
     ]
    },
    {
     "name": "stdout",
     "output_type": "stream",
     "text": [
      "Predicting on test set for 1970s_gas.\n",
      "Finished prediction on test dataset.\n",
      "Creating confusion matrix and report.\n",
      "Confusion matrix\n",
      "Classification report\n",
      "Finished. \n",
      " --- \n",
      "\n"
     ]
    },
    {
     "name": "stderr",
     "output_type": "stream",
     "text": [
      "/Users/Zahed001/miniforge3/envs/torch/lib/python3.8/site-packages/sklearn/metrics/_classification.py:1327: UndefinedMetricWarning: Precision and F-score are ill-defined and being set to 0.0 in labels with no predicted samples. Use `zero_division` parameter to control this behavior.\n",
      "  _warn_prf(average, modifier, msg_start, len(result))\n",
      "/Users/Zahed001/miniforge3/envs/torch/lib/python3.8/site-packages/sklearn/metrics/_classification.py:1327: UndefinedMetricWarning: Precision and F-score are ill-defined and being set to 0.0 in labels with no predicted samples. Use `zero_division` parameter to control this behavior.\n",
      "  _warn_prf(average, modifier, msg_start, len(result))\n",
      "/Users/Zahed001/miniforge3/envs/torch/lib/python3.8/site-packages/sklearn/metrics/_classification.py:1327: UndefinedMetricWarning: Precision and F-score are ill-defined and being set to 0.0 in labels with no predicted samples. Use `zero_division` parameter to control this behavior.\n",
      "  _warn_prf(average, modifier, msg_start, len(result))\n"
     ]
    },
    {
     "name": "stdout",
     "output_type": "stream",
     "text": [
      "Predicting on test set for 1980s_gas.\n",
      "Finished prediction on test dataset.\n",
      "Creating confusion matrix and report.\n",
      "Confusion matrix\n",
      "Classification report\n",
      "Finished. \n",
      " --- \n",
      "\n"
     ]
    },
    {
     "name": "stderr",
     "output_type": "stream",
     "text": [
      "/Users/Zahed001/miniforge3/envs/torch/lib/python3.8/site-packages/sklearn/metrics/_classification.py:1327: UndefinedMetricWarning: Precision and F-score are ill-defined and being set to 0.0 in labels with no predicted samples. Use `zero_division` parameter to control this behavior.\n",
      "  _warn_prf(average, modifier, msg_start, len(result))\n",
      "/Users/Zahed001/miniforge3/envs/torch/lib/python3.8/site-packages/sklearn/metrics/_classification.py:1327: UndefinedMetricWarning: Precision and F-score are ill-defined and being set to 0.0 in labels with no predicted samples. Use `zero_division` parameter to control this behavior.\n",
      "  _warn_prf(average, modifier, msg_start, len(result))\n",
      "/Users/Zahed001/miniforge3/envs/torch/lib/python3.8/site-packages/sklearn/metrics/_classification.py:1327: UndefinedMetricWarning: Precision and F-score are ill-defined and being set to 0.0 in labels with no predicted samples. Use `zero_division` parameter to control this behavior.\n",
      "  _warn_prf(average, modifier, msg_start, len(result))\n"
     ]
    },
    {
     "data": {
      "image/png": "[encoded data removed]",
      "text/plain": [
       "<Figure size 432x288 with 7 Axes>"
      ]
     },
     "metadata": {
      "needs_background": "light"
     },
     "output_type": "display_data"
    }
   ],
   "source": [
    "from datasets import load_from_disk\n",
    "\n",
    "DECADES = [\"1970\", \"1980\"]\n",
    "TYPES = [\"coal\", \"oil\", \"gas\"]\n",
    "reports = []\n",
    "matrices = []\n",
    "for TYPE in TYPES:\n",
    "    for DECADE in DECADES:\n",
    "        NAME = f\"{DECADE}s_{TYPE}\"\n",
    "        DIR_MODEL = f\"../../../output/bert_finetune/{NAME}\"\n",
    "        \n",
    "        model = AutoModelForSequenceClassification.from_pretrained(DIR_MODEL, local_files_only=True)\n",
    "        \n",
    "        test = load_from_disk(dataset_path = f\"{DIR_MODEL}/datasets/test\")\n",
    "        \n",
    "        text_classification = pipeline(\n",
    "        \"sentiment-analysis\",\n",
    "        model=model,\n",
    "        tokenizer=tokenizer\n",
    "        )\n",
    "\n",
    "        # Predict labels test\n",
    "        print(f\"Predicting on test set for {NAME}.\")\n",
    "        \n",
    "        preds = []\n",
    "        for t in test:\n",
    "            preds.append(text_classification(t[\"text\"]))\n",
    "            \n",
    "        print(\"Finished prediction on test dataset.\")\n",
    "        \n",
    "        # Cleanup predictions\n",
    "        y_preds = []\n",
    "        for x in preds:\n",
    "            if x[0][\"label\"] == \"LABEL_0\":\n",
    "                y_pred = 0\n",
    "            if x[0][\"label\"] == \"LABEL_1\":\n",
    "                y_pred = 1\n",
    "            if x[0][\"label\"] == \"LABEL_2\":\n",
    "                y_pred = 2\n",
    "            y_preds.append(y_pred)\n",
    "\n",
    "        # Gather ground truth test\n",
    "        y_test = test[\"label\"]\n",
    "        \n",
    "        print(\"Creating confusion matrix and report.\")\n",
    "        class_names = [\"Negative\", \"Neutral\", \"Positive\"]\n",
    "        cm = confusion_matrix(y_test, y_preds)\n",
    "        df_cm = pd.DataFrame(cm, index=class_names, columns=class_names)\n",
    "        print(\"Confusion matrix\")\n",
    "        matrices.append(show_confusion_matrix(df_cm))\n",
    "        print(\"Classification report\")\n",
    "        reports.append(classification_report(y_test, y_preds, target_names=class_names))\n",
    "\n",
    "        print(\"Finished. \\n --- \\n\")"
   ]
  },
  {
   "cell_type": "markdown",
   "id": "73df9940",
   "metadata": {},
   "source": [
    "### Model per type across decades"
   ]
  },
  {
   "cell_type": "code",
   "execution_count": 7,
   "id": "8696c276",
   "metadata": {},
   "outputs": [
    {
     "name": "stdout",
     "output_type": "stream",
     "text": [
      "Predicting on test set for coal.\n",
      "Finished prediction on test dataset.\n",
      "Creating confusion matrix and report.\n",
      "Confusion matrix\n",
      "Classification report\n",
      "Finished. \n",
      " --- \n",
      "\n",
      "Predicting on test set for oil.\n",
      "Finished prediction on test dataset.\n",
      "Creating confusion matrix and report.\n",
      "Confusion matrix\n",
      "Classification report\n",
      "Finished. \n",
      " --- \n",
      "\n",
      "Predicting on test set for gas.\n",
      "Finished prediction on test dataset.\n",
      "Creating confusion matrix and report.\n",
      "Confusion matrix\n",
      "Classification report\n",
      "Finished. \n",
      " --- \n",
      "\n"
     ]
    },
    {
     "data": {
      "image/png": "[encoded data removed]",
      "text/plain": [
       "<Figure size 432x288 with 4 Axes>"
      ]
     },
     "metadata": {
      "needs_background": "light"
     },
     "output_type": "display_data"
    }
   ],
   "source": [
    "from datasets import load_from_disk\n",
    "\n",
    "DECADES = [\"1960\", \"1970\", \"1980\", \"1990\"]\n",
    "TYPES = [\"coal\", \"oil\", \"gas\"]\n",
    "reports = []\n",
    "matrices = []\n",
    "for TYPE in TYPES:\n",
    "    NAME = f\"{TYPE}\"\n",
    "    DIR_MODEL = f\"/home/leonardovida/data/volume_1/delphbert-results/6-finetuning-outputs/model-per-type/{NAME}\"\n",
    "\n",
    "    model = AutoModelForSequenceClassification.from_pretrained(DIR_MODEL, local_files_only=True)\n",
    "\n",
    "    test = load_from_disk(dataset_path = f\"{DIR_MODEL}/datasets/test\")\n",
    "\n",
    "    text_classification = pipeline(\n",
    "    \"sentiment-analysis\",\n",
    "    model=model,\n",
    "    tokenizer=tokenizer\n",
    "    )\n",
    "\n",
    "    # Predict labels test\n",
    "    print(f\"Predicting on test set for {NAME}.\")\n",
    "\n",
    "    preds = []\n",
    "    for t in test:\n",
    "        preds.append(text_classification(t[\"text\"]))\n",
    "\n",
    "    print(\"Finished prediction on test dataset.\")\n",
    "\n",
    "    # Cleanup predictions\n",
    "    y_preds = []\n",
    "    for x in preds:\n",
    "        if x[0][\"label\"] == \"LABEL_0\":\n",
    "            y_pred = 0\n",
    "        if x[0][\"label\"] == \"LABEL_1\":\n",
    "            y_pred = 1\n",
    "        if x[0][\"label\"] == \"LABEL_2\":\n",
    "            y_pred = 2\n",
    "        y_preds.append(y_pred)\n",
    "\n",
    "    # Gather ground truth test\n",
    "    y_test = test[\"label\"]\n",
    "\n",
    "    print(\"Creating confusion matrix and report.\")\n",
    "    class_names = [\"Negative\", \"Neutral\", \"Positive\"]\n",
    "    cm = confusion_matrix(y_test, y_preds)\n",
    "    df_cm = pd.DataFrame(cm, index=class_names, columns=class_names)\n",
    "    print(\"Confusion matrix\")\n",
    "    matrices.append(show_confusion_matrix(df_cm))\n",
    "    print(\"Classification report\")\n",
    "    reports.append(classification_report(y_test, y_preds, target_names=class_names))\n",
    "\n",
    "    print(\"Finished. \\n --- \\n\")"
   ]
  },
  {
   "cell_type": "code",
   "execution_count": 14,
   "id": "6e4ca730",
   "metadata": {},
   "outputs": [
    {
     "name": "stdout",
     "output_type": "stream",
     "text": [
      "              precision    recall  f1-score   support\n",
      "\n",
      "    Negative       0.18      0.01      0.02       243\n",
      "     Neutral       0.00      0.00      0.00       273\n",
      "    Positive       0.50      0.99      0.67       523\n",
      "\n",
      "    accuracy                           0.50      1039\n",
      "   macro avg       0.23      0.33      0.23      1039\n",
      "weighted avg       0.30      0.50      0.34      1039\n",
      "\n",
      "              precision    recall  f1-score   support\n",
      "\n",
      "    Negative       0.68      0.60      0.63       433\n",
      "     Neutral       0.69      0.13      0.22       150\n",
      "    Positive       0.60      0.81      0.69       489\n",
      "\n",
      "    accuracy                           0.63      1072\n",
      "   macro avg       0.66      0.51      0.52      1072\n",
      "weighted avg       0.64      0.63      0.60      1072\n",
      "\n",
      "              precision    recall  f1-score   support\n",
      "\n",
      "    Negative       0.45      1.00      0.62       637\n",
      "     Neutral       0.00      0.00      0.00       229\n",
      "    Positive       0.00      0.00      0.00       550\n",
      "\n",
      "    accuracy                           0.45      1416\n",
      "   macro avg       0.15      0.33      0.21      1416\n",
      "weighted avg       0.20      0.45      0.28      1416\n",
      "\n",
      "              precision    recall  f1-score   support\n",
      "\n",
      "    Negative       0.79      0.80      0.79       273\n",
      "     Neutral       0.45      0.62      0.52        71\n",
      "    Positive       0.58      0.41      0.48       103\n",
      "\n",
      "    accuracy                           0.68       447\n",
      "   macro avg       0.60      0.61      0.60       447\n",
      "weighted avg       0.69      0.68      0.68       447\n",
      "\n"
     ]
    }
   ],
   "source": [
    "for r in reports:\n",
    "    print(r)"
   ]
  },
  {
   "cell_type": "markdown",
   "id": "010d2709",
   "metadata": {},
   "source": [
    "## Predict on selected data"
   ]
  },
  {
   "cell_type": "markdown",
   "id": "bfbdddbd",
   "metadata": {},
   "source": [
    "### Model per type per decade (12 total)"
   ]
  },
  {
   "cell_type": "code",
   "execution_count": 10,
   "id": "59e210fd",
   "metadata": {
    "collapsed": true,
    "jupyter": {
     "outputs_hidden": true
    }
   },
   "outputs": [
    {
     "name": "stdout",
     "output_type": "stream",
     "text": [
      "Load seleted data for 1960s_coal_labeled_full_0.95.csv.\n"
     ]
    },
    {
     "name": "stderr",
     "output_type": "stream",
     "text": [
      "Using custom data configuration default-89cd6e46ba25f4dd\n",
      "Reusing dataset csv (/home/leonardovida/.cache/huggingface/datasets/csv/default-89cd6e46ba25f4dd/0.0.0/2dc6629a9ff6b5697d82c25b73731dd440507a69cbce8b425db50b751e8fcfd0)\n"
     ]
    },
    {
     "name": "stdout",
     "output_type": "stream",
     "text": [
      "Tokenizing the dataset.\n",
      "Predicting on the data\n"
     ]
    },
    {
     "data": {
      "text/html": [
       "\n",
       "    <div>\n",
       "        <style>\n",
       "            /* Turns off some styling */\n",
       "            progress {\n",
       "                /* gets rid of default border in Firefox and Opera. */\n",
       "                border: none;\n",
       "                /* Needs to be in here for Safari polyfill so background images work as expected. */\n",
       "                background-size: auto;\n",
       "            }\n",
       "        </style>\n",
       "      \n",
       "      <progress value='579' max='579' style='width:300px; height:20px; vertical-align: middle;'></progress>\n",
       "      [579/579 00:58]\n",
       "    </div>\n",
       "    "
      ],
      "text/plain": [
       "<IPython.core.display.HTML object>"
      ]
     },
     "metadata": {},
     "output_type": "display_data"
    },
    {
     "name": "stdout",
     "output_type": "stream",
     "text": [
      "Already created\n",
      "/home/leonardovida/data/volume_1/delphbert-results/6-finetuning-outputs/model-type-decade/1960s_coal/predictions/1960s_coal_predicted_0.95.csv\n",
      "\n",
      "---\n",
      "\n",
      "Load seleted data for 1970s_coal_labeled_full_0.95.csv.\n"
     ]
    },
    {
     "name": "stderr",
     "output_type": "stream",
     "text": [
      "Using custom data configuration default-2049a4bb6db7ec48\n",
      "Reusing dataset csv (/home/leonardovida/.cache/huggingface/datasets/csv/default-2049a4bb6db7ec48/0.0.0/2dc6629a9ff6b5697d82c25b73731dd440507a69cbce8b425db50b751e8fcfd0)\n"
     ]
    },
    {
     "name": "stdout",
     "output_type": "stream",
     "text": [
      "Tokenizing the dataset.\n",
      "Predicting on the data\n"
     ]
    },
    {
     "data": {
      "text/html": [
       "\n",
       "    <div>\n",
       "        <style>\n",
       "            /* Turns off some styling */\n",
       "            progress {\n",
       "                /* gets rid of default border in Firefox and Opera. */\n",
       "                border: none;\n",
       "                /* Needs to be in here for Safari polyfill so background images work as expected. */\n",
       "                background-size: auto;\n",
       "            }\n",
       "        </style>\n",
       "      \n",
       "      <progress value='674' max='674' style='width:300px; height:20px; vertical-align: middle;'></progress>\n",
       "      [674/674 01:09]\n",
       "    </div>\n",
       "    "
      ],
      "text/plain": [
       "<IPython.core.display.HTML object>"
      ]
     },
     "metadata": {},
     "output_type": "display_data"
    },
    {
     "name": "stdout",
     "output_type": "stream",
     "text": [
      "Already created\n",
      "/home/leonardovida/data/volume_1/delphbert-results/6-finetuning-outputs/model-type-decade/1970s_coal/predictions/1970s_coal_predicted_0.95.csv\n",
      "\n",
      "---\n",
      "\n",
      "Load seleted data for 1980s_coal_labeled_full_0.95.csv.\n"
     ]
    },
    {
     "name": "stderr",
     "output_type": "stream",
     "text": [
      "Using custom data configuration default-579f7043fc73433c\n",
      "Reusing dataset csv (/home/leonardovida/.cache/huggingface/datasets/csv/default-579f7043fc73433c/0.0.0/2dc6629a9ff6b5697d82c25b73731dd440507a69cbce8b425db50b751e8fcfd0)\n"
     ]
    },
    {
     "name": "stdout",
     "output_type": "stream",
     "text": [
      "Tokenizing the dataset.\n",
      "Predicting on the data\n"
     ]
    },
    {
     "data": {
      "text/html": [
       "\n",
       "    <div>\n",
       "        <style>\n",
       "            /* Turns off some styling */\n",
       "            progress {\n",
       "                /* gets rid of default border in Firefox and Opera. */\n",
       "                border: none;\n",
       "                /* Needs to be in here for Safari polyfill so background images work as expected. */\n",
       "                background-size: auto;\n",
       "            }\n",
       "        </style>\n",
       "      \n",
       "      <progress value='3662' max='3662' style='width:300px; height:20px; vertical-align: middle;'></progress>\n",
       "      [3662/3662 06:22]\n",
       "    </div>\n",
       "    "
      ],
      "text/plain": [
       "<IPython.core.display.HTML object>"
      ]
     },
     "metadata": {},
     "output_type": "display_data"
    },
    {
     "name": "stdout",
     "output_type": "stream",
     "text": [
      "Already created\n",
      "/home/leonardovida/data/volume_1/delphbert-results/6-finetuning-outputs/model-type-decade/1980s_coal/predictions/1980s_coal_predicted_0.95.csv\n",
      "\n",
      "---\n",
      "\n",
      "Load seleted data for 1990s_coal_labeled_full_0.95.csv.\n"
     ]
    },
    {
     "name": "stderr",
     "output_type": "stream",
     "text": [
      "Using custom data configuration default-e3da9f227df056b6\n",
      "Reusing dataset csv (/home/leonardovida/.cache/huggingface/datasets/csv/default-e3da9f227df056b6/0.0.0/2dc6629a9ff6b5697d82c25b73731dd440507a69cbce8b425db50b751e8fcfd0)\n"
     ]
    },
    {
     "name": "stdout",
     "output_type": "stream",
     "text": [
      "Tokenizing the dataset.\n",
      "Predicting on the data\n"
     ]
    },
    {
     "data": {
      "text/html": [
       "\n",
       "    <div>\n",
       "        <style>\n",
       "            /* Turns off some styling */\n",
       "            progress {\n",
       "                /* gets rid of default border in Firefox and Opera. */\n",
       "                border: none;\n",
       "                /* Needs to be in here for Safari polyfill so background images work as expected. */\n",
       "                background-size: auto;\n",
       "            }\n",
       "        </style>\n",
       "      \n",
       "      <progress value='283' max='283' style='width:300px; height:20px; vertical-align: middle;'></progress>\n",
       "      [283/283 00:29]\n",
       "    </div>\n",
       "    "
      ],
      "text/plain": [
       "<IPython.core.display.HTML object>"
      ]
     },
     "metadata": {},
     "output_type": "display_data"
    },
    {
     "name": "stdout",
     "output_type": "stream",
     "text": [
      "Already created\n",
      "/home/leonardovida/data/volume_1/delphbert-results/6-finetuning-outputs/model-type-decade/1990s_coal/predictions/1990s_coal_predicted_0.95.csv\n",
      "\n",
      "---\n",
      "\n",
      "Load seleted data for 1960s_oil_labeled_full_0.95.csv.\n"
     ]
    },
    {
     "name": "stderr",
     "output_type": "stream",
     "text": [
      "Using custom data configuration default-c01053240c26cd0b\n",
      "Reusing dataset csv (/home/leonardovida/.cache/huggingface/datasets/csv/default-c01053240c26cd0b/0.0.0/2dc6629a9ff6b5697d82c25b73731dd440507a69cbce8b425db50b751e8fcfd0)\n"
     ]
    },
    {
     "name": "stdout",
     "output_type": "stream",
     "text": [
      "Tokenizing the dataset.\n",
      "Predicting on the data\n"
     ]
    },
    {
     "data": {
      "text/html": [
       "\n",
       "    <div>\n",
       "        <style>\n",
       "            /* Turns off some styling */\n",
       "            progress {\n",
       "                /* gets rid of default border in Firefox and Opera. */\n",
       "                border: none;\n",
       "                /* Needs to be in here for Safari polyfill so background images work as expected. */\n",
       "                background-size: auto;\n",
       "            }\n",
       "        </style>\n",
       "      \n",
       "      <progress value='7150' max='7150' style='width:300px; height:20px; vertical-align: middle;'></progress>\n",
       "      [7150/7150 12:28]\n",
       "    </div>\n",
       "    "
      ],
      "text/plain": [
       "<IPython.core.display.HTML object>"
      ]
     },
     "metadata": {},
     "output_type": "display_data"
    },
    {
     "name": "stdout",
     "output_type": "stream",
     "text": [
      "Already created\n",
      "/home/leonardovida/data/volume_1/delphbert-results/6-finetuning-outputs/model-type-decade/1960s_oil/predictions/1960s_oil_predicted_0.95.csv\n",
      "\n",
      "---\n",
      "\n",
      "Load seleted data for 1970s_oil_labeled_full_0.95.csv.\n"
     ]
    },
    {
     "name": "stderr",
     "output_type": "stream",
     "text": [
      "Using custom data configuration default-4d482b0a5735bac9\n",
      "Reusing dataset csv (/home/leonardovida/.cache/huggingface/datasets/csv/default-4d482b0a5735bac9/0.0.0/2dc6629a9ff6b5697d82c25b73731dd440507a69cbce8b425db50b751e8fcfd0)\n"
     ]
    },
    {
     "name": "stdout",
     "output_type": "stream",
     "text": [
      "Tokenizing the dataset.\n",
      "Predicting on the data\n"
     ]
    },
    {
     "data": {
      "text/html": [
       "\n",
       "    <div>\n",
       "        <style>\n",
       "            /* Turns off some styling */\n",
       "            progress {\n",
       "                /* gets rid of default border in Firefox and Opera. */\n",
       "                border: none;\n",
       "                /* Needs to be in here for Safari polyfill so background images work as expected. */\n",
       "                background-size: auto;\n",
       "            }\n",
       "        </style>\n",
       "      \n",
       "      <progress value='12024' max='12024' style='width:300px; height:20px; vertical-align: middle;'></progress>\n",
       "      [12024/12024 20:56]\n",
       "    </div>\n",
       "    "
      ],
      "text/plain": [
       "<IPython.core.display.HTML object>"
      ]
     },
     "metadata": {},
     "output_type": "display_data"
    },
    {
     "name": "stdout",
     "output_type": "stream",
     "text": [
      "Already created\n",
      "/home/leonardovida/data/volume_1/delphbert-results/6-finetuning-outputs/model-type-decade/1970s_oil/predictions/1970s_oil_predicted_0.95.csv\n",
      "\n",
      "---\n",
      "\n",
      "Load seleted data for 1980s_oil_labeled_full_0.95.csv.\n"
     ]
    },
    {
     "name": "stderr",
     "output_type": "stream",
     "text": [
      "Using custom data configuration default-bdce32d55c7251a1\n",
      "Reusing dataset csv (/home/leonardovida/.cache/huggingface/datasets/csv/default-bdce32d55c7251a1/0.0.0/2dc6629a9ff6b5697d82c25b73731dd440507a69cbce8b425db50b751e8fcfd0)\n"
     ]
    },
    {
     "name": "stdout",
     "output_type": "stream",
     "text": [
      "Tokenizing the dataset.\n",
      "Predicting on the data\n"
     ]
    },
    {
     "data": {
      "text/html": [
       "\n",
       "    <div>\n",
       "        <style>\n",
       "            /* Turns off some styling */\n",
       "            progress {\n",
       "                /* gets rid of default border in Firefox and Opera. */\n",
       "                border: none;\n",
       "                /* Needs to be in here for Safari polyfill so background images work as expected. */\n",
       "                background-size: auto;\n",
       "            }\n",
       "        </style>\n",
       "      \n",
       "      <progress value='185' max='185' style='width:300px; height:20px; vertical-align: middle;'></progress>\n",
       "      [185/185 00:18]\n",
       "    </div>\n",
       "    "
      ],
      "text/plain": [
       "<IPython.core.display.HTML object>"
      ]
     },
     "metadata": {},
     "output_type": "display_data"
    },
    {
     "name": "stdout",
     "output_type": "stream",
     "text": [
      "Already created\n",
      "/home/leonardovida/data/volume_1/delphbert-results/6-finetuning-outputs/model-type-decade/1980s_oil/predictions/1980s_oil_predicted_0.95.csv\n",
      "\n",
      "---\n",
      "\n",
      "Load seleted data for 1990s_oil_labeled_full_0.95.csv.\n"
     ]
    },
    {
     "name": "stderr",
     "output_type": "stream",
     "text": [
      "Using custom data configuration default-1015179a455bc466\n",
      "Reusing dataset csv (/home/leonardovida/.cache/huggingface/datasets/csv/default-1015179a455bc466/0.0.0/2dc6629a9ff6b5697d82c25b73731dd440507a69cbce8b425db50b751e8fcfd0)\n"
     ]
    },
    {
     "name": "stdout",
     "output_type": "stream",
     "text": [
      "Tokenizing the dataset.\n",
      "Predicting on the data\n"
     ]
    },
    {
     "data": {
      "text/html": [
       "\n",
       "    <div>\n",
       "        <style>\n",
       "            /* Turns off some styling */\n",
       "            progress {\n",
       "                /* gets rid of default border in Firefox and Opera. */\n",
       "                border: none;\n",
       "                /* Needs to be in here for Safari polyfill so background images work as expected. */\n",
       "                background-size: auto;\n",
       "            }\n",
       "        </style>\n",
       "      \n",
       "      <progress value='10968' max='10968' style='width:300px; height:20px; vertical-align: middle;'></progress>\n",
       "      [10968/10968 19:08]\n",
       "    </div>\n",
       "    "
      ],
      "text/plain": [
       "<IPython.core.display.HTML object>"
      ]
     },
     "metadata": {},
     "output_type": "display_data"
    },
    {
     "name": "stdout",
     "output_type": "stream",
     "text": [
      "Already created\n",
      "/home/leonardovida/data/volume_1/delphbert-results/6-finetuning-outputs/model-type-decade/1990s_oil/predictions/1990s_oil_predicted_0.95.csv\n",
      "\n",
      "---\n",
      "\n",
      "Load seleted data for 1960s_gas_labeled_full_0.95.csv.\n"
     ]
    },
    {
     "name": "stderr",
     "output_type": "stream",
     "text": [
      "Using custom data configuration default-810d9329533fa5fa\n",
      "Reusing dataset csv (/home/leonardovida/.cache/huggingface/datasets/csv/default-810d9329533fa5fa/0.0.0/2dc6629a9ff6b5697d82c25b73731dd440507a69cbce8b425db50b751e8fcfd0)\n"
     ]
    },
    {
     "name": "stdout",
     "output_type": "stream",
     "text": [
      "Tokenizing the dataset.\n",
      "Predicting on the data\n"
     ]
    },
    {
     "data": {
      "text/html": [
       "\n",
       "    <div>\n",
       "        <style>\n",
       "            /* Turns off some styling */\n",
       "            progress {\n",
       "                /* gets rid of default border in Firefox and Opera. */\n",
       "                border: none;\n",
       "                /* Needs to be in here for Safari polyfill so background images work as expected. */\n",
       "                background-size: auto;\n",
       "            }\n",
       "        </style>\n",
       "      \n",
       "      <progress value='5102' max='5102' style='width:300px; height:20px; vertical-align: middle;'></progress>\n",
       "      [5102/5102 08:59]\n",
       "    </div>\n",
       "    "
      ],
      "text/plain": [
       "<IPython.core.display.HTML object>"
      ]
     },
     "metadata": {},
     "output_type": "display_data"
    },
    {
     "name": "stdout",
     "output_type": "stream",
     "text": [
      "Already created\n",
      "/home/leonardovida/data/volume_1/delphbert-results/6-finetuning-outputs/model-type-decade/1960s_gas/predictions/1960s_gas_predicted_0.95.csv\n",
      "\n",
      "---\n",
      "\n",
      "Load seleted data for 1970s_gas_labeled_full_0.95.csv.\n"
     ]
    },
    {
     "name": "stderr",
     "output_type": "stream",
     "text": [
      "Using custom data configuration default-6df1150b80570b96\n",
      "Reusing dataset csv (/home/leonardovida/.cache/huggingface/datasets/csv/default-6df1150b80570b96/0.0.0/2dc6629a9ff6b5697d82c25b73731dd440507a69cbce8b425db50b751e8fcfd0)\n"
     ]
    },
    {
     "name": "stdout",
     "output_type": "stream",
     "text": [
      "Tokenizing the dataset.\n",
      "Predicting on the data\n"
     ]
    },
    {
     "data": {
      "text/html": [
       "\n",
       "    <div>\n",
       "        <style>\n",
       "            /* Turns off some styling */\n",
       "            progress {\n",
       "                /* gets rid of default border in Firefox and Opera. */\n",
       "                border: none;\n",
       "                /* Needs to be in here for Safari polyfill so background images work as expected. */\n",
       "                background-size: auto;\n",
       "            }\n",
       "        </style>\n",
       "      \n",
       "      <progress value='6460' max='6460' style='width:300px; height:20px; vertical-align: middle;'></progress>\n",
       "      [6460/6460 11:22]\n",
       "    </div>\n",
       "    "
      ],
      "text/plain": [
       "<IPython.core.display.HTML object>"
      ]
     },
     "metadata": {},
     "output_type": "display_data"
    },
    {
     "name": "stdout",
     "output_type": "stream",
     "text": [
      "Already created\n",
      "/home/leonardovida/data/volume_1/delphbert-results/6-finetuning-outputs/model-type-decade/1970s_gas/predictions/1970s_gas_predicted_0.95.csv\n",
      "\n",
      "---\n",
      "\n",
      "Load seleted data for 1980s_gas_labeled_full_0.95.csv.\n"
     ]
    },
    {
     "name": "stderr",
     "output_type": "stream",
     "text": [
      "Using custom data configuration default-26c692010bb1ada5\n",
      "Reusing dataset csv (/home/leonardovida/.cache/huggingface/datasets/csv/default-26c692010bb1ada5/0.0.0/2dc6629a9ff6b5697d82c25b73731dd440507a69cbce8b425db50b751e8fcfd0)\n"
     ]
    },
    {
     "name": "stdout",
     "output_type": "stream",
     "text": [
      "Tokenizing the dataset.\n",
      "Predicting on the data\n"
     ]
    },
    {
     "data": {
      "text/html": [
       "\n",
       "    <div>\n",
       "        <style>\n",
       "            /* Turns off some styling */\n",
       "            progress {\n",
       "                /* gets rid of default border in Firefox and Opera. */\n",
       "                border: none;\n",
       "                /* Needs to be in here for Safari polyfill so background images work as expected. */\n",
       "                background-size: auto;\n",
       "            }\n",
       "        </style>\n",
       "      \n",
       "      <progress value='21798' max='21798' style='width:300px; height:20px; vertical-align: middle;'></progress>\n",
       "      [21798/21798 37:58]\n",
       "    </div>\n",
       "    "
      ],
      "text/plain": [
       "<IPython.core.display.HTML object>"
      ]
     },
     "metadata": {},
     "output_type": "display_data"
    },
    {
     "name": "stdout",
     "output_type": "stream",
     "text": [
      "Already created\n",
      "/home/leonardovida/data/volume_1/delphbert-results/6-finetuning-outputs/model-type-decade/1980s_gas/predictions/1980s_gas_predicted_0.95.csv\n",
      "\n",
      "---\n",
      "\n",
      "Load seleted data for 1990s_gas_labeled_full_0.95.csv.\n"
     ]
    },
    {
     "name": "stderr",
     "output_type": "stream",
     "text": [
      "Using custom data configuration default-b641291695ae0f34\n",
      "Reusing dataset csv (/home/leonardovida/.cache/huggingface/datasets/csv/default-b641291695ae0f34/0.0.0/2dc6629a9ff6b5697d82c25b73731dd440507a69cbce8b425db50b751e8fcfd0)\n"
     ]
    },
    {
     "name": "stdout",
     "output_type": "stream",
     "text": [
      "Tokenizing the dataset.\n",
      "Predicting on the data\n"
     ]
    },
    {
     "data": {
      "text/html": [
       "\n",
       "    <div>\n",
       "        <style>\n",
       "            /* Turns off some styling */\n",
       "            progress {\n",
       "                /* gets rid of default border in Firefox and Opera. */\n",
       "                border: none;\n",
       "                /* Needs to be in here for Safari polyfill so background images work as expected. */\n",
       "                background-size: auto;\n",
       "            }\n",
       "        </style>\n",
       "      \n",
       "      <progress value='2016' max='2016' style='width:300px; height:20px; vertical-align: middle;'></progress>\n",
       "      [2016/2016 03:29]\n",
       "    </div>\n",
       "    "
      ],
      "text/plain": [
       "<IPython.core.display.HTML object>"
      ]
     },
     "metadata": {},
     "output_type": "display_data"
    },
    {
     "name": "stdout",
     "output_type": "stream",
     "text": [
      "Already created\n",
      "/home/leonardovida/data/volume_1/delphbert-results/6-finetuning-outputs/model-type-decade/1990s_gas/predictions/1990s_gas_predicted_0.95.csv\n",
      "\n",
      "---\n",
      "\n"
     ]
    }
   ],
   "source": [
    "from datasets import load_from_disk\n",
    "\n",
    "DECADES = [\"1960\", \"1970\", \"1980\", \"1990\"]\n",
    "TYPES = [\"coal\", \"oil\", \"gas\"]\n",
    "\n",
    "for TYPE in TYPES:\n",
    "    for DECADE in DECADES:\n",
    "        NAME = f\"{DECADE}s_{TYPE}\"\n",
    "        selected = pd.read_csv(f\"/home/leonardovida/data/volume_1/data-histaware/4-selected-data/{DECADE}/{DECADE}s_{TYPE}_labeled_full_0.95.csv\")\n",
    "        DIR_MODEL = f\"/home/leonardovida/data/volume_1/delphbert-results/6-finetuning-outputs/model-type-decade/{NAME}\"\n",
    "        \n",
    "        model = AutoModelForSequenceClassification.from_pretrained(DIR_MODEL, local_files_only=True)\n",
    "        \n",
    "        text_classification = pipeline(\n",
    "        \"sentiment-analysis\",\n",
    "        model=model,\n",
    "        tokenizer=tokenizer\n",
    "        )\n",
    "        \n",
    "        print(f\"Load seleted data for {DECADE}s_{TYPE}_labeled_full_0.95.csv.\")\n",
    "\n",
    "        dataset = load_dataset(\n",
    "        'csv',\n",
    "        split=\"train\",\n",
    "        data_files = f\"/home/leonardovida/data/volume_1/data-histaware/4-selected-data/{DECADE}/{DECADE}s_{TYPE}_labeled_full_0.95.csv\"\n",
    "        )\n",
    "\n",
    "        print(f\"Tokenizing the dataset.\")\n",
    "        dataset_tokenized = tokenizer(dataset[\"p\"], padding=True, truncation=True, max_length=512)\n",
    "        dataset_prediction = Dataset(dataset_tokenized)\n",
    "\n",
    "        print(f\"Predicting on the data\")\n",
    "        pred_trainer = Trainer(model)\n",
    "        y_preds, _, _ = pred_trainer.predict(dataset_prediction)\n",
    "\n",
    "        y_pred = np.argmax(y_preds, axis=1)\n",
    "        selected[\"prediction\"] = y_pred\n",
    "        \n",
    "        try:\n",
    "            os.mkdir(f\"{DIR_MODEL}/predictions\")\n",
    "        except:\n",
    "            print(\"Already created\")\n",
    "        \n",
    "        # Save predictions to CSV\n",
    "        try:\n",
    "            print(f\"{DIR_MODEL}/predictions/{DECADE}s_{TYPE}_predicted_0.95.csv\")\n",
    "            selected.to_csv(f\"{DIR_MODEL}/predictions/{DECADE}s_{TYPE}_predicted_0.95.csv\")\n",
    "        except:\n",
    "            print(\"Error.\")\n",
    "\n",
    "        print(\"\\n---\\n\")"
   ]
  },
  {
   "cell_type": "markdown",
   "id": "4c5ef904",
   "metadata": {},
   "source": [
    "### Model per type across decades"
   ]
  },
  {
   "cell_type": "code",
   "execution_count": 6,
   "id": "7d95ac33",
   "metadata": {},
   "outputs": [
    {
     "name": "stdout",
     "output_type": "stream",
     "text": [
      "Load seleted data for 1960s_coal_labeled_full_0.95.csv.\n"
     ]
    },
    {
     "name": "stderr",
     "output_type": "stream",
     "text": [
      "Using custom data configuration default-89cd6e46ba25f4dd\n",
      "Reusing dataset csv (/home/leonardovida/.cache/huggingface/datasets/csv/default-89cd6e46ba25f4dd/0.0.0/2dc6629a9ff6b5697d82c25b73731dd440507a69cbce8b425db50b751e8fcfd0)\n"
     ]
    },
    {
     "name": "stdout",
     "output_type": "stream",
     "text": [
      "Tokenizing the dataset.\n",
      "Predicting on the data\n"
     ]
    },
    {
     "data": {
      "text/html": [
       "\n",
       "    <div>\n",
       "        <style>\n",
       "            /* Turns off some styling */\n",
       "            progress {\n",
       "                /* gets rid of default border in Firefox and Opera. */\n",
       "                border: none;\n",
       "                /* Needs to be in here for Safari polyfill so background images work as expected. */\n",
       "                background-size: auto;\n",
       "            }\n",
       "        </style>\n",
       "      \n",
       "      <progress value='579' max='579' style='width:300px; height:20px; vertical-align: middle;'></progress>\n",
       "      [579/579 01:04]\n",
       "    </div>\n",
       "    "
      ],
      "text/plain": [
       "<IPython.core.display.HTML object>"
      ]
     },
     "metadata": {},
     "output_type": "display_data"
    },
    {
     "name": "stdout",
     "output_type": "stream",
     "text": [
      "/home/leonardovida/data/volume_1/delphbert-results/6-finetuning-outputs/model-per-type/coal/predictions/1960s_coal_predicted_0.95.csv\n",
      "\n",
      "---\n",
      "\n",
      "Load seleted data for 1970s_coal_labeled_full_0.95.csv.\n"
     ]
    },
    {
     "name": "stderr",
     "output_type": "stream",
     "text": [
      "Using custom data configuration default-2049a4bb6db7ec48\n",
      "Reusing dataset csv (/home/leonardovida/.cache/huggingface/datasets/csv/default-2049a4bb6db7ec48/0.0.0/2dc6629a9ff6b5697d82c25b73731dd440507a69cbce8b425db50b751e8fcfd0)\n"
     ]
    },
    {
     "name": "stdout",
     "output_type": "stream",
     "text": [
      "Tokenizing the dataset.\n",
      "Predicting on the data\n"
     ]
    },
    {
     "data": {
      "text/html": [
       "\n",
       "    <div>\n",
       "        <style>\n",
       "            /* Turns off some styling */\n",
       "            progress {\n",
       "                /* gets rid of default border in Firefox and Opera. */\n",
       "                border: none;\n",
       "                /* Needs to be in here for Safari polyfill so background images work as expected. */\n",
       "                background-size: auto;\n",
       "            }\n",
       "        </style>\n",
       "      \n",
       "      <progress value='674' max='674' style='width:300px; height:20px; vertical-align: middle;'></progress>\n",
       "      [674/674 01:08]\n",
       "    </div>\n",
       "    "
      ],
      "text/plain": [
       "<IPython.core.display.HTML object>"
      ]
     },
     "metadata": {},
     "output_type": "display_data"
    },
    {
     "name": "stdout",
     "output_type": "stream",
     "text": [
      "Already created\n",
      "/home/leonardovida/data/volume_1/delphbert-results/6-finetuning-outputs/model-per-type/coal/predictions/1970s_coal_predicted_0.95.csv\n",
      "\n",
      "---\n",
      "\n",
      "Load seleted data for 1980s_coal_labeled_full_0.95.csv.\n"
     ]
    },
    {
     "name": "stderr",
     "output_type": "stream",
     "text": [
      "Using custom data configuration default-579f7043fc73433c\n",
      "Reusing dataset csv (/home/leonardovida/.cache/huggingface/datasets/csv/default-579f7043fc73433c/0.0.0/2dc6629a9ff6b5697d82c25b73731dd440507a69cbce8b425db50b751e8fcfd0)\n"
     ]
    },
    {
     "name": "stdout",
     "output_type": "stream",
     "text": [
      "Tokenizing the dataset.\n",
      "Predicting on the data\n"
     ]
    },
    {
     "data": {
      "text/html": [
       "\n",
       "    <div>\n",
       "        <style>\n",
       "            /* Turns off some styling */\n",
       "            progress {\n",
       "                /* gets rid of default border in Firefox and Opera. */\n",
       "                border: none;\n",
       "                /* Needs to be in here for Safari polyfill so background images work as expected. */\n",
       "                background-size: auto;\n",
       "            }\n",
       "        </style>\n",
       "      \n",
       "      <progress value='3662' max='3662' style='width:300px; height:20px; vertical-align: middle;'></progress>\n",
       "      [3662/3662 06:18]\n",
       "    </div>\n",
       "    "
      ],
      "text/plain": [
       "<IPython.core.display.HTML object>"
      ]
     },
     "metadata": {},
     "output_type": "display_data"
    },
    {
     "name": "stdout",
     "output_type": "stream",
     "text": [
      "Already created\n",
      "/home/leonardovida/data/volume_1/delphbert-results/6-finetuning-outputs/model-per-type/coal/predictions/1980s_coal_predicted_0.95.csv\n",
      "\n",
      "---\n",
      "\n",
      "Load seleted data for 1990s_coal_labeled_full_0.95.csv.\n"
     ]
    },
    {
     "name": "stderr",
     "output_type": "stream",
     "text": [
      "Using custom data configuration default-e3da9f227df056b6\n",
      "Reusing dataset csv (/home/leonardovida/.cache/huggingface/datasets/csv/default-e3da9f227df056b6/0.0.0/2dc6629a9ff6b5697d82c25b73731dd440507a69cbce8b425db50b751e8fcfd0)\n"
     ]
    },
    {
     "name": "stdout",
     "output_type": "stream",
     "text": [
      "Tokenizing the dataset.\n",
      "Predicting on the data\n"
     ]
    },
    {
     "data": {
      "text/html": [
       "\n",
       "    <div>\n",
       "        <style>\n",
       "            /* Turns off some styling */\n",
       "            progress {\n",
       "                /* gets rid of default border in Firefox and Opera. */\n",
       "                border: none;\n",
       "                /* Needs to be in here for Safari polyfill so background images work as expected. */\n",
       "                background-size: auto;\n",
       "            }\n",
       "        </style>\n",
       "      \n",
       "      <progress value='283' max='283' style='width:300px; height:20px; vertical-align: middle;'></progress>\n",
       "      [283/283 00:29]\n",
       "    </div>\n",
       "    "
      ],
      "text/plain": [
       "<IPython.core.display.HTML object>"
      ]
     },
     "metadata": {},
     "output_type": "display_data"
    },
    {
     "name": "stdout",
     "output_type": "stream",
     "text": [
      "Already created\n",
      "/home/leonardovida/data/volume_1/delphbert-results/6-finetuning-outputs/model-per-type/coal/predictions/1990s_coal_predicted_0.95.csv\n",
      "\n",
      "---\n",
      "\n",
      "Load seleted data for 1960s_oil_labeled_full_0.95.csv.\n"
     ]
    },
    {
     "name": "stderr",
     "output_type": "stream",
     "text": [
      "Using custom data configuration default-c01053240c26cd0b\n",
      "Reusing dataset csv (/home/leonardovida/.cache/huggingface/datasets/csv/default-c01053240c26cd0b/0.0.0/2dc6629a9ff6b5697d82c25b73731dd440507a69cbce8b425db50b751e8fcfd0)\n"
     ]
    },
    {
     "name": "stdout",
     "output_type": "stream",
     "text": [
      "Tokenizing the dataset.\n",
      "Predicting on the data\n"
     ]
    },
    {
     "data": {
      "text/html": [
       "\n",
       "    <div>\n",
       "        <style>\n",
       "            /* Turns off some styling */\n",
       "            progress {\n",
       "                /* gets rid of default border in Firefox and Opera. */\n",
       "                border: none;\n",
       "                /* Needs to be in here for Safari polyfill so background images work as expected. */\n",
       "                background-size: auto;\n",
       "            }\n",
       "        </style>\n",
       "      \n",
       "      <progress value='7150' max='7150' style='width:300px; height:20px; vertical-align: middle;'></progress>\n",
       "      [7150/7150 12:20]\n",
       "    </div>\n",
       "    "
      ],
      "text/plain": [
       "<IPython.core.display.HTML object>"
      ]
     },
     "metadata": {},
     "output_type": "display_data"
    },
    {
     "name": "stdout",
     "output_type": "stream",
     "text": [
      "/home/leonardovida/data/volume_1/delphbert-results/6-finetuning-outputs/model-per-type/oil/predictions/1960s_oil_predicted_0.95.csv\n",
      "\n",
      "---\n",
      "\n",
      "Load seleted data for 1970s_oil_labeled_full_0.95.csv.\n"
     ]
    },
    {
     "name": "stderr",
     "output_type": "stream",
     "text": [
      "Using custom data configuration default-4d482b0a5735bac9\n",
      "Reusing dataset csv (/home/leonardovida/.cache/huggingface/datasets/csv/default-4d482b0a5735bac9/0.0.0/2dc6629a9ff6b5697d82c25b73731dd440507a69cbce8b425db50b751e8fcfd0)\n"
     ]
    },
    {
     "name": "stdout",
     "output_type": "stream",
     "text": [
      "Tokenizing the dataset.\n",
      "Predicting on the data\n"
     ]
    },
    {
     "data": {
      "text/html": [
       "\n",
       "    <div>\n",
       "        <style>\n",
       "            /* Turns off some styling */\n",
       "            progress {\n",
       "                /* gets rid of default border in Firefox and Opera. */\n",
       "                border: none;\n",
       "                /* Needs to be in here for Safari polyfill so background images work as expected. */\n",
       "                background-size: auto;\n",
       "            }\n",
       "        </style>\n",
       "      \n",
       "      <progress value='12024' max='12024' style='width:300px; height:20px; vertical-align: middle;'></progress>\n",
       "      [12024/12024 20:43]\n",
       "    </div>\n",
       "    "
      ],
      "text/plain": [
       "<IPython.core.display.HTML object>"
      ]
     },
     "metadata": {},
     "output_type": "display_data"
    },
    {
     "name": "stdout",
     "output_type": "stream",
     "text": [
      "Already created\n",
      "/home/leonardovida/data/volume_1/delphbert-results/6-finetuning-outputs/model-per-type/oil/predictions/1970s_oil_predicted_0.95.csv\n",
      "\n",
      "---\n",
      "\n",
      "Load seleted data for 1980s_oil_labeled_full_0.95.csv.\n"
     ]
    },
    {
     "name": "stderr",
     "output_type": "stream",
     "text": [
      "Using custom data configuration default-bdce32d55c7251a1\n",
      "Reusing dataset csv (/home/leonardovida/.cache/huggingface/datasets/csv/default-bdce32d55c7251a1/0.0.0/2dc6629a9ff6b5697d82c25b73731dd440507a69cbce8b425db50b751e8fcfd0)\n"
     ]
    },
    {
     "name": "stdout",
     "output_type": "stream",
     "text": [
      "Tokenizing the dataset.\n",
      "Predicting on the data\n"
     ]
    },
    {
     "data": {
      "text/html": [
       "\n",
       "    <div>\n",
       "        <style>\n",
       "            /* Turns off some styling */\n",
       "            progress {\n",
       "                /* gets rid of default border in Firefox and Opera. */\n",
       "                border: none;\n",
       "                /* Needs to be in here for Safari polyfill so background images work as expected. */\n",
       "                background-size: auto;\n",
       "            }\n",
       "        </style>\n",
       "      \n",
       "      <progress value='185' max='185' style='width:300px; height:20px; vertical-align: middle;'></progress>\n",
       "      [185/185 00:18]\n",
       "    </div>\n",
       "    "
      ],
      "text/plain": [
       "<IPython.core.display.HTML object>"
      ]
     },
     "metadata": {},
     "output_type": "display_data"
    },
    {
     "name": "stdout",
     "output_type": "stream",
     "text": [
      "Already created\n",
      "/home/leonardovida/data/volume_1/delphbert-results/6-finetuning-outputs/model-per-type/oil/predictions/1980s_oil_predicted_0.95.csv\n",
      "\n",
      "---\n",
      "\n",
      "Load seleted data for 1990s_oil_labeled_full_0.95.csv.\n"
     ]
    },
    {
     "name": "stderr",
     "output_type": "stream",
     "text": [
      "Using custom data configuration default-1015179a455bc466\n",
      "Reusing dataset csv (/home/leonardovida/.cache/huggingface/datasets/csv/default-1015179a455bc466/0.0.0/2dc6629a9ff6b5697d82c25b73731dd440507a69cbce8b425db50b751e8fcfd0)\n"
     ]
    },
    {
     "name": "stdout",
     "output_type": "stream",
     "text": [
      "Tokenizing the dataset.\n",
      "Predicting on the data\n"
     ]
    },
    {
     "data": {
      "text/html": [
       "\n",
       "    <div>\n",
       "        <style>\n",
       "            /* Turns off some styling */\n",
       "            progress {\n",
       "                /* gets rid of default border in Firefox and Opera. */\n",
       "                border: none;\n",
       "                /* Needs to be in here for Safari polyfill so background images work as expected. */\n",
       "                background-size: auto;\n",
       "            }\n",
       "        </style>\n",
       "      \n",
       "      <progress value='10968' max='10968' style='width:300px; height:20px; vertical-align: middle;'></progress>\n",
       "      [10968/10968 18:54]\n",
       "    </div>\n",
       "    "
      ],
      "text/plain": [
       "<IPython.core.display.HTML object>"
      ]
     },
     "metadata": {},
     "output_type": "display_data"
    },
    {
     "name": "stdout",
     "output_type": "stream",
     "text": [
      "Already created\n",
      "/home/leonardovida/data/volume_1/delphbert-results/6-finetuning-outputs/model-per-type/oil/predictions/1990s_oil_predicted_0.95.csv\n",
      "\n",
      "---\n",
      "\n",
      "Load seleted data for 1960s_gas_labeled_full_0.95.csv.\n"
     ]
    },
    {
     "name": "stderr",
     "output_type": "stream",
     "text": [
      "Using custom data configuration default-810d9329533fa5fa\n",
      "Reusing dataset csv (/home/leonardovida/.cache/huggingface/datasets/csv/default-810d9329533fa5fa/0.0.0/2dc6629a9ff6b5697d82c25b73731dd440507a69cbce8b425db50b751e8fcfd0)\n"
     ]
    },
    {
     "name": "stdout",
     "output_type": "stream",
     "text": [
      "Tokenizing the dataset.\n",
      "Predicting on the data\n"
     ]
    },
    {
     "data": {
      "text/html": [
       "\n",
       "    <div>\n",
       "        <style>\n",
       "            /* Turns off some styling */\n",
       "            progress {\n",
       "                /* gets rid of default border in Firefox and Opera. */\n",
       "                border: none;\n",
       "                /* Needs to be in here for Safari polyfill so background images work as expected. */\n",
       "                background-size: auto;\n",
       "            }\n",
       "        </style>\n",
       "      \n",
       "      <progress value='5102' max='5102' style='width:300px; height:20px; vertical-align: middle;'></progress>\n",
       "      [5102/5102 08:47]\n",
       "    </div>\n",
       "    "
      ],
      "text/plain": [
       "<IPython.core.display.HTML object>"
      ]
     },
     "metadata": {},
     "output_type": "display_data"
    },
    {
     "name": "stdout",
     "output_type": "stream",
     "text": [
      "/home/leonardovida/data/volume_1/delphbert-results/6-finetuning-outputs/model-per-type/gas/predictions/1960s_gas_predicted_0.95.csv\n",
      "\n",
      "---\n",
      "\n",
      "Load seleted data for 1970s_gas_labeled_full_0.95.csv.\n"
     ]
    },
    {
     "name": "stderr",
     "output_type": "stream",
     "text": [
      "Using custom data configuration default-6df1150b80570b96\n",
      "Reusing dataset csv (/home/leonardovida/.cache/huggingface/datasets/csv/default-6df1150b80570b96/0.0.0/2dc6629a9ff6b5697d82c25b73731dd440507a69cbce8b425db50b751e8fcfd0)\n"
     ]
    },
    {
     "name": "stdout",
     "output_type": "stream",
     "text": [
      "Tokenizing the dataset.\n",
      "Predicting on the data\n"
     ]
    },
    {
     "data": {
      "text/html": [
       "\n",
       "    <div>\n",
       "        <style>\n",
       "            /* Turns off some styling */\n",
       "            progress {\n",
       "                /* gets rid of default border in Firefox and Opera. */\n",
       "                border: none;\n",
       "                /* Needs to be in here for Safari polyfill so background images work as expected. */\n",
       "                background-size: auto;\n",
       "            }\n",
       "        </style>\n",
       "      \n",
       "      <progress value='6460' max='6460' style='width:300px; height:20px; vertical-align: middle;'></progress>\n",
       "      [6460/6460 11:08]\n",
       "    </div>\n",
       "    "
      ],
      "text/plain": [
       "<IPython.core.display.HTML object>"
      ]
     },
     "metadata": {},
     "output_type": "display_data"
    },
    {
     "name": "stdout",
     "output_type": "stream",
     "text": [
      "Already created\n",
      "/home/leonardovida/data/volume_1/delphbert-results/6-finetuning-outputs/model-per-type/gas/predictions/1970s_gas_predicted_0.95.csv\n",
      "\n",
      "---\n",
      "\n",
      "Load seleted data for 1980s_gas_labeled_full_0.95.csv.\n"
     ]
    },
    {
     "name": "stderr",
     "output_type": "stream",
     "text": [
      "Using custom data configuration default-26c692010bb1ada5\n",
      "Reusing dataset csv (/home/leonardovida/.cache/huggingface/datasets/csv/default-26c692010bb1ada5/0.0.0/2dc6629a9ff6b5697d82c25b73731dd440507a69cbce8b425db50b751e8fcfd0)\n"
     ]
    },
    {
     "name": "stdout",
     "output_type": "stream",
     "text": [
      "Tokenizing the dataset.\n",
      "Predicting on the data\n"
     ]
    },
    {
     "data": {
      "text/html": [
       "\n",
       "    <div>\n",
       "        <style>\n",
       "            /* Turns off some styling */\n",
       "            progress {\n",
       "                /* gets rid of default border in Firefox and Opera. */\n",
       "                border: none;\n",
       "                /* Needs to be in here for Safari polyfill so background images work as expected. */\n",
       "                background-size: auto;\n",
       "            }\n",
       "        </style>\n",
       "      \n",
       "      <progress value='21798' max='21798' style='width:300px; height:20px; vertical-align: middle;'></progress>\n",
       "      [21798/21798 37:36]\n",
       "    </div>\n",
       "    "
      ],
      "text/plain": [
       "<IPython.core.display.HTML object>"
      ]
     },
     "metadata": {},
     "output_type": "display_data"
    },
    {
     "name": "stdout",
     "output_type": "stream",
     "text": [
      "Already created\n",
      "/home/leonardovida/data/volume_1/delphbert-results/6-finetuning-outputs/model-per-type/gas/predictions/1980s_gas_predicted_0.95.csv\n",
      "\n",
      "---\n",
      "\n",
      "Load seleted data for 1990s_gas_labeled_full_0.95.csv.\n"
     ]
    },
    {
     "name": "stderr",
     "output_type": "stream",
     "text": [
      "Using custom data configuration default-b641291695ae0f34\n",
      "Reusing dataset csv (/home/leonardovida/.cache/huggingface/datasets/csv/default-b641291695ae0f34/0.0.0/2dc6629a9ff6b5697d82c25b73731dd440507a69cbce8b425db50b751e8fcfd0)\n"
     ]
    },
    {
     "name": "stdout",
     "output_type": "stream",
     "text": [
      "Tokenizing the dataset.\n",
      "Predicting on the data\n"
     ]
    },
    {
     "data": {
      "text/html": [
       "\n",
       "    <div>\n",
       "        <style>\n",
       "            /* Turns off some styling */\n",
       "            progress {\n",
       "                /* gets rid of default border in Firefox and Opera. */\n",
       "                border: none;\n",
       "                /* Needs to be in here for Safari polyfill so background images work as expected. */\n",
       "                background-size: auto;\n",
       "            }\n",
       "        </style>\n",
       "      \n",
       "      <progress value='2016' max='2016' style='width:300px; height:20px; vertical-align: middle;'></progress>\n",
       "      [2016/2016 03:27]\n",
       "    </div>\n",
       "    "
      ],
      "text/plain": [
       "<IPython.core.display.HTML object>"
      ]
     },
     "metadata": {},
     "output_type": "display_data"
    },
    {
     "name": "stdout",
     "output_type": "stream",
     "text": [
      "Already created\n",
      "/home/leonardovida/data/volume_1/delphbert-results/6-finetuning-outputs/model-per-type/gas/predictions/1990s_gas_predicted_0.95.csv\n",
      "\n",
      "---\n",
      "\n"
     ]
    }
   ],
   "source": [
    "from datasets import load_from_disk\n",
    "\n",
    "DECADES = [\"1960\", \"1970\", \"1980\", \"1990\"]\n",
    "TYPES = [\"coal\", \"oil\", \"gas\"]\n",
    "\n",
    "for TYPE in TYPES:\n",
    "    for DECADE in DECADES:\n",
    "        NAME = f\"{TYPE}\"\n",
    "        selected = pd.read_csv(f\"/home/leonardovida/data/volume_1/data-histaware/4-selected-data/{DECADE}/{DECADE}s_{TYPE}_labeled_full_0.95.csv\")\n",
    "        DIR_MODEL = f\"/home/leonardovida/data/volume_1/delphbert-results/6-finetuning-outputs/model-per-type/{NAME}\"\n",
    "        \n",
    "        model = AutoModelForSequenceClassification.from_pretrained(DIR_MODEL, local_files_only=True)\n",
    "        \n",
    "        text_classification = pipeline(\n",
    "        \"sentiment-analysis\",\n",
    "        model=model,\n",
    "        tokenizer=tokenizer\n",
    "        )\n",
    "        \n",
    "        print(f\"Load seleted data for {DECADE}s_{TYPE}_labeled_full_0.95.csv.\")\n",
    "\n",
    "        dataset = load_dataset(\n",
    "        'csv',\n",
    "        split=\"train\",\n",
    "        data_files = f\"/home/leonardovida/data/volume_1/data-histaware/4-selected-data/{DECADE}/{DECADE}s_{TYPE}_labeled_full_0.95.csv\"\n",
    "        )\n",
    "\n",
    "        print(f\"Tokenizing the dataset.\")\n",
    "        dataset_tokenized = tokenizer(dataset[\"p\"], padding=True, truncation=True, max_length=512)\n",
    "        dataset_prediction = Dataset(dataset_tokenized)\n",
    "\n",
    "        print(f\"Predicting on the data\")\n",
    "        pred_trainer = Trainer(model)\n",
    "        y_preds, _, _ = pred_trainer.predict(dataset_prediction)\n",
    "\n",
    "        y_pred = np.argmax(y_preds, axis=1)\n",
    "        selected[\"prediction\"] = y_pred\n",
    "        \n",
    "        try:\n",
    "            os.mkdir(f\"{DIR_MODEL}/predictions\")\n",
    "        except:\n",
    "            print(\"Already created\")\n",
    "        \n",
    "        # Save predictions to CSV\n",
    "        try:\n",
    "            print(f\"{DIR_MODEL}/predictions/{DECADE}s_{TYPE}_predicted_0.95.csv\")\n",
    "            selected.to_csv(f\"{DIR_MODEL}/predictions/{DECADE}s_{TYPE}_predicted_0.95.csv\")\n",
    "        except:\n",
    "            print(\"Error.\")\n",
    "\n",
    "        print(\"\\n---\\n\")"
   ]
  },
  {
   "cell_type": "code",
   "execution_count": 13,
   "id": "04daa7ec",
   "metadata": {},
   "outputs": [
    {
     "name": "stdout",
     "output_type": "stream",
     "text": [
      "Predicting on test set for 1960s.\n",
      "Finished prediction on test dataset.\n",
      "Creating confusion matrix and report.\n",
      "Confusion matrix\n",
      "Classification report\n",
      "Finished. \n",
      " --- \n",
      "\n"
     ]
    },
    {
     "name": "stderr",
     "output_type": "stream",
     "text": [
      "/Users/Zahed001/miniforge3/envs/torch/lib/python3.8/site-packages/sklearn/metrics/_classification.py:1327: UndefinedMetricWarning: Precision and F-score are ill-defined and being set to 0.0 in labels with no predicted samples. Use `zero_division` parameter to control this behavior.\n",
      "  _warn_prf(average, modifier, msg_start, len(result))\n",
      "/Users/Zahed001/miniforge3/envs/torch/lib/python3.8/site-packages/sklearn/metrics/_classification.py:1327: UndefinedMetricWarning: Precision and F-score are ill-defined and being set to 0.0 in labels with no predicted samples. Use `zero_division` parameter to control this behavior.\n",
      "  _warn_prf(average, modifier, msg_start, len(result))\n",
      "/Users/Zahed001/miniforge3/envs/torch/lib/python3.8/site-packages/sklearn/metrics/_classification.py:1327: UndefinedMetricWarning: Precision and F-score are ill-defined and being set to 0.0 in labels with no predicted samples. Use `zero_division` parameter to control this behavior.\n",
      "  _warn_prf(average, modifier, msg_start, len(result))\n"
     ]
    },
    {
     "name": "stdout",
     "output_type": "stream",
     "text": [
      "Predicting on test set for 1970s.\n",
      "Finished prediction on test dataset.\n",
      "Creating confusion matrix and report.\n",
      "Confusion matrix\n",
      "Classification report\n",
      "Finished. \n",
      " --- \n",
      "\n",
      "Predicting on test set for 1980s.\n",
      "Finished prediction on test dataset.\n",
      "Creating confusion matrix and report.\n",
      "Confusion matrix\n",
      "Classification report\n",
      "Finished. \n",
      " --- \n",
      "\n"
     ]
    },
    {
     "name": "stderr",
     "output_type": "stream",
     "text": [
      "/Users/Zahed001/miniforge3/envs/torch/lib/python3.8/site-packages/sklearn/metrics/_classification.py:1327: UndefinedMetricWarning: Precision and F-score are ill-defined and being set to 0.0 in labels with no predicted samples. Use `zero_division` parameter to control this behavior.\n",
      "  _warn_prf(average, modifier, msg_start, len(result))\n",
      "/Users/Zahed001/miniforge3/envs/torch/lib/python3.8/site-packages/sklearn/metrics/_classification.py:1327: UndefinedMetricWarning: Precision and F-score are ill-defined and being set to 0.0 in labels with no predicted samples. Use `zero_division` parameter to control this behavior.\n",
      "  _warn_prf(average, modifier, msg_start, len(result))\n",
      "/Users/Zahed001/miniforge3/envs/torch/lib/python3.8/site-packages/sklearn/metrics/_classification.py:1327: UndefinedMetricWarning: Precision and F-score are ill-defined and being set to 0.0 in labels with no predicted samples. Use `zero_division` parameter to control this behavior.\n",
      "  _warn_prf(average, modifier, msg_start, len(result))\n"
     ]
    },
    {
     "name": "stdout",
     "output_type": "stream",
     "text": [
      "Predicting on test set for 1990s.\n",
      "Finished prediction on test dataset.\n",
      "Creating confusion matrix and report.\n",
      "Confusion matrix\n",
      "Classification report\n",
      "Finished. \n",
      " --- \n",
      "\n"
     ]
    },
    {
     "data": {
      "image/png": "[encoded data removed]",
      "text/plain": [
       "<Figure size 432x288 with 5 Axes>"
      ]
     },
     "metadata": {
      "needs_background": "light"
     },
     "output_type": "display_data"
    }
   ],
   "source": [
    "from datasets import load_from_disk\n",
    "\n",
    "DECADES = [\"1960s\",\"1970s\",\"1980s\",\"1990s\"]\n",
    "\n",
    "reports = []\n",
    "matrices = []\n",
    "for DECADE in DECADES:\n",
    "    NAME = f\"{DECADE}\"\n",
    "    DIR_MODEL = f\"../../../output/bert_finetune/{NAME}\"\n",
    "\n",
    "    model = AutoModelForSequenceClassification.from_pretrained(DIR_MODEL, local_files_only=True)\n",
    "\n",
    "    test = load_from_disk(dataset_path = f\"{DIR_MODEL}/datasets/test\")\n",
    "\n",
    "    text_classification = pipeline(\n",
    "    \"sentiment-analysis\",\n",
    "    model=model,\n",
    "    tokenizer=tokenizer\n",
    "    )\n",
    "\n",
    "    # Predict labels test\n",
    "    print(f\"Predicting on test set for {NAME}.\")\n",
    "\n",
    "    preds = []\n",
    "    for t in test:\n",
    "        preds.append(text_classification(t[\"text\"]))\n",
    "\n",
    "    print(\"Finished prediction on test dataset.\")\n",
    "\n",
    "    # Cleanup predictions\n",
    "    y_preds = []\n",
    "    for x in preds:\n",
    "        if x[0][\"label\"] == \"LABEL_0\":\n",
    "            y_pred = 0\n",
    "        if x[0][\"label\"] == \"LABEL_1\":\n",
    "            y_pred = 1\n",
    "        if x[0][\"label\"] == \"LABEL_2\":\n",
    "            y_pred = 2\n",
    "        y_preds.append(y_pred)\n",
    "\n",
    "    # Gather ground truth test\n",
    "    y_test = test[\"label\"]\n",
    "\n",
    "    print(\"Creating confusion matrix and report.\")\n",
    "    class_names = [\"Negative\", \"Neutral\", \"Positive\"]\n",
    "    cm = confusion_matrix(y_test, y_preds)\n",
    "    df_cm = pd.DataFrame(cm, index=class_names, columns=class_names)\n",
    "    print(\"Confusion matrix\")\n",
    "    matrices.append(show_confusion_matrix(df_cm))\n",
    "    print(\"Classification report\")\n",
    "    reports.append(classification_report(y_test, y_preds, target_names=class_names))\n",
    "\n",
    "    print(\"Finished. \\n --- \\n\")"
   ]
  },
  {
   "cell_type": "code",
   "execution_count": null,
   "id": "e5accb50",
   "metadata": {},
   "outputs": [],
   "source": []
  }
 ],
 "metadata": {
  "kernelspec": {
   "display_name": "torch",
   "language": "python",
   "name": "torch"
  },
  "language_info": {
   "codemirror_mode": {
    "name": "ipython",
    "version": 3
   },
   "file_extension": ".py",
   "mimetype": "text/x-python",
   "name": "python",
   "nbconvert_exporter": "python",
   "pygments_lexer": "ipython3",
   "version": "3.8.13"
  }
 },
 "nbformat": 4,
 "nbformat_minor": 5
}
